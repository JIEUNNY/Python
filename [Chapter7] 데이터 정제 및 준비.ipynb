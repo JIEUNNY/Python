{
  "nbformat": 4,
  "nbformat_minor": 0,
  "metadata": {
    "colab": {
      "name": "[week3] programming_seminar_ch7.ipynb의 사본",
      "provenance": [],
      "collapsed_sections": []
    },
    "kernelspec": {
      "name": "python3",
      "display_name": "Python 3"
    }
  },
  "cells": [
    {
      "cell_type": "markdown",
      "metadata": {
        "id": "l5unf_zZqpKj"
      },
      "source": [
        "# **CHAPTER_7**"
      ]
    },
    {
      "cell_type": "markdown",
      "metadata": {
        "id": "vwSZBwkEqtFx"
      },
      "source": [
        "## **7.1 누락된 데이터 처리하기**"
      ]
    },
    {
      "cell_type": "markdown",
      "metadata": {
        "id": "ezO8jV4mrDei"
      },
      "source": [
        "pandas 객체의 모든 기술 통계는 누락된 데이터를 배제하고 처리한다. NaN으로 표현된 누락 데이터는 결측치를 쉽게 찾을 수 있는 파수병 역할을 한다. NA 처리 메서드를 통해서 누락된 데이터에 대해 보간 메서드, 위치 반환 메서드를 사용할 수 있다. 또한 dropna를 이용하여 결측값을 반환할 수 있다. 결측치에 대해 특정 개수 이상의 값이 포함된 행만 살펴보고자 할 경우 thresh 인자에 원하는 값을 넘겨서 사용할 수 있다. "
      ]
    },
    {
      "cell_type": "code",
      "metadata": {
        "colab": {
          "base_uri": "https://localhost:8080/",
          "height": 257
        },
        "id": "HYS4OBVkqkYf",
        "outputId": "dcc11dce-3349-4c92-9028-b39e0bfc9cf1"
      },
      "source": [
        "import pandas as pd\r\n",
        "import numpy as np\r\n",
        "from numpy import nan as NA\r\n",
        "df = pd.DataFrame(np.random.randn(7, 3))\r\n",
        "df.iloc[:4, 1] = NA\r\n",
        "df.iloc[:2, 2] = NA\r\n",
        "df"
      ],
      "execution_count": null,
      "outputs": [
        {
          "output_type": "execute_result",
          "data": {
            "text/html": [
              "<div>\n",
              "<style scoped>\n",
              "    .dataframe tbody tr th:only-of-type {\n",
              "        vertical-align: middle;\n",
              "    }\n",
              "\n",
              "    .dataframe tbody tr th {\n",
              "        vertical-align: top;\n",
              "    }\n",
              "\n",
              "    .dataframe thead th {\n",
              "        text-align: right;\n",
              "    }\n",
              "</style>\n",
              "<table border=\"1\" class=\"dataframe\">\n",
              "  <thead>\n",
              "    <tr style=\"text-align: right;\">\n",
              "      <th></th>\n",
              "      <th>0</th>\n",
              "      <th>1</th>\n",
              "      <th>2</th>\n",
              "    </tr>\n",
              "  </thead>\n",
              "  <tbody>\n",
              "    <tr>\n",
              "      <th>0</th>\n",
              "      <td>0.603498</td>\n",
              "      <td>NaN</td>\n",
              "      <td>NaN</td>\n",
              "    </tr>\n",
              "    <tr>\n",
              "      <th>1</th>\n",
              "      <td>-1.366696</td>\n",
              "      <td>NaN</td>\n",
              "      <td>NaN</td>\n",
              "    </tr>\n",
              "    <tr>\n",
              "      <th>2</th>\n",
              "      <td>0.267470</td>\n",
              "      <td>NaN</td>\n",
              "      <td>-0.084613</td>\n",
              "    </tr>\n",
              "    <tr>\n",
              "      <th>3</th>\n",
              "      <td>-0.631287</td>\n",
              "      <td>NaN</td>\n",
              "      <td>0.602923</td>\n",
              "    </tr>\n",
              "    <tr>\n",
              "      <th>4</th>\n",
              "      <td>0.615495</td>\n",
              "      <td>0.720465</td>\n",
              "      <td>-0.295786</td>\n",
              "    </tr>\n",
              "    <tr>\n",
              "      <th>5</th>\n",
              "      <td>0.936072</td>\n",
              "      <td>0.366512</td>\n",
              "      <td>0.464747</td>\n",
              "    </tr>\n",
              "    <tr>\n",
              "      <th>6</th>\n",
              "      <td>1.428726</td>\n",
              "      <td>-1.729539</td>\n",
              "      <td>1.015014</td>\n",
              "    </tr>\n",
              "  </tbody>\n",
              "</table>\n",
              "</div>"
            ],
            "text/plain": [
              "          0         1         2\n",
              "0  0.603498       NaN       NaN\n",
              "1 -1.366696       NaN       NaN\n",
              "2  0.267470       NaN -0.084613\n",
              "3 -0.631287       NaN  0.602923\n",
              "4  0.615495  0.720465 -0.295786\n",
              "5  0.936072  0.366512  0.464747\n",
              "6  1.428726 -1.729539  1.015014"
            ]
          },
          "metadata": {
            "tags": []
          },
          "execution_count": 4
        }
      ]
    },
    {
      "cell_type": "code",
      "metadata": {
        "colab": {
          "base_uri": "https://localhost:8080/",
          "height": 137
        },
        "id": "tdsPlK11r4f2",
        "outputId": "b764bbce-c09a-4601-859d-01f1911df8a1"
      },
      "source": [
        "df.dropna()"
      ],
      "execution_count": null,
      "outputs": [
        {
          "output_type": "execute_result",
          "data": {
            "text/html": [
              "<div>\n",
              "<style scoped>\n",
              "    .dataframe tbody tr th:only-of-type {\n",
              "        vertical-align: middle;\n",
              "    }\n",
              "\n",
              "    .dataframe tbody tr th {\n",
              "        vertical-align: top;\n",
              "    }\n",
              "\n",
              "    .dataframe thead th {\n",
              "        text-align: right;\n",
              "    }\n",
              "</style>\n",
              "<table border=\"1\" class=\"dataframe\">\n",
              "  <thead>\n",
              "    <tr style=\"text-align: right;\">\n",
              "      <th></th>\n",
              "      <th>0</th>\n",
              "      <th>1</th>\n",
              "      <th>2</th>\n",
              "    </tr>\n",
              "  </thead>\n",
              "  <tbody>\n",
              "    <tr>\n",
              "      <th>4</th>\n",
              "      <td>0.615495</td>\n",
              "      <td>0.720465</td>\n",
              "      <td>-0.295786</td>\n",
              "    </tr>\n",
              "    <tr>\n",
              "      <th>5</th>\n",
              "      <td>0.936072</td>\n",
              "      <td>0.366512</td>\n",
              "      <td>0.464747</td>\n",
              "    </tr>\n",
              "    <tr>\n",
              "      <th>6</th>\n",
              "      <td>1.428726</td>\n",
              "      <td>-1.729539</td>\n",
              "      <td>1.015014</td>\n",
              "    </tr>\n",
              "  </tbody>\n",
              "</table>\n",
              "</div>"
            ],
            "text/plain": [
              "          0         1         2\n",
              "4  0.615495  0.720465 -0.295786\n",
              "5  0.936072  0.366512  0.464747\n",
              "6  1.428726 -1.729539  1.015014"
            ]
          },
          "metadata": {
            "tags": []
          },
          "execution_count": 5
        }
      ]
    },
    {
      "cell_type": "code",
      "metadata": {
        "colab": {
          "base_uri": "https://localhost:8080/",
          "height": 197
        },
        "id": "_YnOXfohsGGx",
        "outputId": "ee88cdf5-063c-48b5-960a-c04e79a616bb"
      },
      "source": [
        "df.dropna(thresh = 2) # 결측이 하나 있는 경우 출력이 되는 것을 확인할 수 있다. "
      ],
      "execution_count": null,
      "outputs": [
        {
          "output_type": "execute_result",
          "data": {
            "text/html": [
              "<div>\n",
              "<style scoped>\n",
              "    .dataframe tbody tr th:only-of-type {\n",
              "        vertical-align: middle;\n",
              "    }\n",
              "\n",
              "    .dataframe tbody tr th {\n",
              "        vertical-align: top;\n",
              "    }\n",
              "\n",
              "    .dataframe thead th {\n",
              "        text-align: right;\n",
              "    }\n",
              "</style>\n",
              "<table border=\"1\" class=\"dataframe\">\n",
              "  <thead>\n",
              "    <tr style=\"text-align: right;\">\n",
              "      <th></th>\n",
              "      <th>0</th>\n",
              "      <th>1</th>\n",
              "      <th>2</th>\n",
              "    </tr>\n",
              "  </thead>\n",
              "  <tbody>\n",
              "    <tr>\n",
              "      <th>2</th>\n",
              "      <td>0.267470</td>\n",
              "      <td>NaN</td>\n",
              "      <td>-0.084613</td>\n",
              "    </tr>\n",
              "    <tr>\n",
              "      <th>3</th>\n",
              "      <td>-0.631287</td>\n",
              "      <td>NaN</td>\n",
              "      <td>0.602923</td>\n",
              "    </tr>\n",
              "    <tr>\n",
              "      <th>4</th>\n",
              "      <td>0.615495</td>\n",
              "      <td>0.720465</td>\n",
              "      <td>-0.295786</td>\n",
              "    </tr>\n",
              "    <tr>\n",
              "      <th>5</th>\n",
              "      <td>0.936072</td>\n",
              "      <td>0.366512</td>\n",
              "      <td>0.464747</td>\n",
              "    </tr>\n",
              "    <tr>\n",
              "      <th>6</th>\n",
              "      <td>1.428726</td>\n",
              "      <td>-1.729539</td>\n",
              "      <td>1.015014</td>\n",
              "    </tr>\n",
              "  </tbody>\n",
              "</table>\n",
              "</div>"
            ],
            "text/plain": [
              "          0         1         2\n",
              "2  0.267470       NaN -0.084613\n",
              "3 -0.631287       NaN  0.602923\n",
              "4  0.615495  0.720465 -0.295786\n",
              "5  0.936072  0.366512  0.464747\n",
              "6  1.428726 -1.729539  1.015014"
            ]
          },
          "metadata": {
            "tags": []
          },
          "execution_count": 6
        }
      ]
    },
    {
      "cell_type": "markdown",
      "metadata": {
        "id": "I3ilYqjYsRag"
      },
      "source": [
        "### **7.1.2 결측치 채우기**"
      ]
    },
    {
      "cell_type": "markdown",
      "metadata": {
        "id": "PT70ceZfsam4"
      },
      "source": [
        "fillna를 통해 값을 채울 수 있는데 사전 값을 넘겨서 각 컬럼마다 다른 값을 채울 수 있다. 또한 inplace를 사용하여 기존 객체를 변경할 수 있다. 보간 메서드를 통해서도 값을 채울 수 있으며 이는 fillna 메서드에서 지원한다. fillna 함수 인자는 value, method, axis, inplace, limit이 있다. "
      ]
    },
    {
      "cell_type": "markdown",
      "metadata": {
        "id": "y7VbpdffsxSS"
      },
      "source": [
        "## **7.2 데이터 변형** "
      ]
    },
    {
      "cell_type": "markdown",
      "metadata": {
        "id": "d3QK5Uiasz2L"
      },
      "source": [
        "### **7.2.1 중복 제거하기** "
      ]
    },
    {
      "cell_type": "markdown",
      "metadata": {
        "id": "TjG4LxFvs7yu"
      },
      "source": [
        "duplicated와 drop_duplicates를 통해 중복 여부를 확인하고 특정 칼럼에 대한 중복 값을 제거할 수 있으며 keep 옵션을 사용하여 위치에 대한 값을 반환할 수 있다. "
      ]
    },
    {
      "cell_type": "markdown",
      "metadata": {
        "id": "ygzmQCkdtJPS"
      },
      "source": [
        "### **7.2.2 함수나 매핑을 이용해서 데이터 변형하기** "
      ]
    },
    {
      "cell_type": "code",
      "metadata": {
        "colab": {
          "base_uri": "https://localhost:8080/",
          "height": 317
        },
        "id": "aWiMVbjDsWtB",
        "outputId": "0518a67f-9bcb-4b4f-f2e3-5a48dc021138"
      },
      "source": [
        "data = pd.DataFrame({'food': ['bacon', 'pulled pork', 'bacon',\r\n",
        "                              'Pastrami', 'corned beef', 'Bacon',\r\n",
        "                              'pastrami', 'honey ham', 'nova lox'],\r\n",
        "                     'ounces': [4, 3, 12, 6, 7.5, 8, 3, 5, 6]})\r\n",
        "data"
      ],
      "execution_count": null,
      "outputs": [
        {
          "output_type": "execute_result",
          "data": {
            "text/html": [
              "<div>\n",
              "<style scoped>\n",
              "    .dataframe tbody tr th:only-of-type {\n",
              "        vertical-align: middle;\n",
              "    }\n",
              "\n",
              "    .dataframe tbody tr th {\n",
              "        vertical-align: top;\n",
              "    }\n",
              "\n",
              "    .dataframe thead th {\n",
              "        text-align: right;\n",
              "    }\n",
              "</style>\n",
              "<table border=\"1\" class=\"dataframe\">\n",
              "  <thead>\n",
              "    <tr style=\"text-align: right;\">\n",
              "      <th></th>\n",
              "      <th>food</th>\n",
              "      <th>ounces</th>\n",
              "    </tr>\n",
              "  </thead>\n",
              "  <tbody>\n",
              "    <tr>\n",
              "      <th>0</th>\n",
              "      <td>bacon</td>\n",
              "      <td>4.0</td>\n",
              "    </tr>\n",
              "    <tr>\n",
              "      <th>1</th>\n",
              "      <td>pulled pork</td>\n",
              "      <td>3.0</td>\n",
              "    </tr>\n",
              "    <tr>\n",
              "      <th>2</th>\n",
              "      <td>bacon</td>\n",
              "      <td>12.0</td>\n",
              "    </tr>\n",
              "    <tr>\n",
              "      <th>3</th>\n",
              "      <td>Pastrami</td>\n",
              "      <td>6.0</td>\n",
              "    </tr>\n",
              "    <tr>\n",
              "      <th>4</th>\n",
              "      <td>corned beef</td>\n",
              "      <td>7.5</td>\n",
              "    </tr>\n",
              "    <tr>\n",
              "      <th>5</th>\n",
              "      <td>Bacon</td>\n",
              "      <td>8.0</td>\n",
              "    </tr>\n",
              "    <tr>\n",
              "      <th>6</th>\n",
              "      <td>pastrami</td>\n",
              "      <td>3.0</td>\n",
              "    </tr>\n",
              "    <tr>\n",
              "      <th>7</th>\n",
              "      <td>honey ham</td>\n",
              "      <td>5.0</td>\n",
              "    </tr>\n",
              "    <tr>\n",
              "      <th>8</th>\n",
              "      <td>nova lox</td>\n",
              "      <td>6.0</td>\n",
              "    </tr>\n",
              "  </tbody>\n",
              "</table>\n",
              "</div>"
            ],
            "text/plain": [
              "          food  ounces\n",
              "0        bacon     4.0\n",
              "1  pulled pork     3.0\n",
              "2        bacon    12.0\n",
              "3     Pastrami     6.0\n",
              "4  corned beef     7.5\n",
              "5        Bacon     8.0\n",
              "6     pastrami     3.0\n",
              "7    honey ham     5.0\n",
              "8     nova lox     6.0"
            ]
          },
          "metadata": {
            "tags": []
          },
          "execution_count": 7
        }
      ]
    },
    {
      "cell_type": "code",
      "metadata": {
        "id": "3AMU_RQ8HGyK"
      },
      "source": [
        "meat_to_animal = {\r\n",
        "  'bacon': 'pig',\r\n",
        "  'pulled pork': 'pig',\r\n",
        "  'pastrami': 'cow',\r\n",
        "  'corned beef': 'cow',\r\n",
        "  'honey ham': 'pig',\r\n",
        "  'nova lox': 'salmon'\r\n",
        "}"
      ],
      "execution_count": null,
      "outputs": []
    },
    {
      "cell_type": "code",
      "metadata": {
        "id": "-4DFNn_BHIYo"
      },
      "source": [
        "# 문자형 데이터 소문자 전환\r\n",
        "lowercased = data['food'].str.lower()"
      ],
      "execution_count": null,
      "outputs": []
    },
    {
      "cell_type": "code",
      "metadata": {
        "colab": {
          "base_uri": "https://localhost:8080/",
          "height": 317
        },
        "id": "f6svuJ1THS0a",
        "outputId": "f844d293-6837-49e5-97ff-dc95aeb18675"
      },
      "source": [
        "# 매핑 함수를 통해 데이터 변형 \r\n",
        "\r\n",
        "data['animal'] = lowercased.map(meat_to_animal)\r\n",
        "data"
      ],
      "execution_count": null,
      "outputs": [
        {
          "output_type": "execute_result",
          "data": {
            "text/html": [
              "<div>\n",
              "<style scoped>\n",
              "    .dataframe tbody tr th:only-of-type {\n",
              "        vertical-align: middle;\n",
              "    }\n",
              "\n",
              "    .dataframe tbody tr th {\n",
              "        vertical-align: top;\n",
              "    }\n",
              "\n",
              "    .dataframe thead th {\n",
              "        text-align: right;\n",
              "    }\n",
              "</style>\n",
              "<table border=\"1\" class=\"dataframe\">\n",
              "  <thead>\n",
              "    <tr style=\"text-align: right;\">\n",
              "      <th></th>\n",
              "      <th>food</th>\n",
              "      <th>ounces</th>\n",
              "      <th>animal</th>\n",
              "    </tr>\n",
              "  </thead>\n",
              "  <tbody>\n",
              "    <tr>\n",
              "      <th>0</th>\n",
              "      <td>bacon</td>\n",
              "      <td>4.0</td>\n",
              "      <td>pig</td>\n",
              "    </tr>\n",
              "    <tr>\n",
              "      <th>1</th>\n",
              "      <td>pulled pork</td>\n",
              "      <td>3.0</td>\n",
              "      <td>pig</td>\n",
              "    </tr>\n",
              "    <tr>\n",
              "      <th>2</th>\n",
              "      <td>bacon</td>\n",
              "      <td>12.0</td>\n",
              "      <td>pig</td>\n",
              "    </tr>\n",
              "    <tr>\n",
              "      <th>3</th>\n",
              "      <td>Pastrami</td>\n",
              "      <td>6.0</td>\n",
              "      <td>cow</td>\n",
              "    </tr>\n",
              "    <tr>\n",
              "      <th>4</th>\n",
              "      <td>corned beef</td>\n",
              "      <td>7.5</td>\n",
              "      <td>cow</td>\n",
              "    </tr>\n",
              "    <tr>\n",
              "      <th>5</th>\n",
              "      <td>Bacon</td>\n",
              "      <td>8.0</td>\n",
              "      <td>pig</td>\n",
              "    </tr>\n",
              "    <tr>\n",
              "      <th>6</th>\n",
              "      <td>pastrami</td>\n",
              "      <td>3.0</td>\n",
              "      <td>cow</td>\n",
              "    </tr>\n",
              "    <tr>\n",
              "      <th>7</th>\n",
              "      <td>honey ham</td>\n",
              "      <td>5.0</td>\n",
              "      <td>pig</td>\n",
              "    </tr>\n",
              "    <tr>\n",
              "      <th>8</th>\n",
              "      <td>nova lox</td>\n",
              "      <td>6.0</td>\n",
              "      <td>salmon</td>\n",
              "    </tr>\n",
              "  </tbody>\n",
              "</table>\n",
              "</div>"
            ],
            "text/plain": [
              "          food  ounces  animal\n",
              "0        bacon     4.0     pig\n",
              "1  pulled pork     3.0     pig\n",
              "2        bacon    12.0     pig\n",
              "3     Pastrami     6.0     cow\n",
              "4  corned beef     7.5     cow\n",
              "5        Bacon     8.0     pig\n",
              "6     pastrami     3.0     cow\n",
              "7    honey ham     5.0     pig\n",
              "8     nova lox     6.0  salmon"
            ]
          },
          "metadata": {
            "tags": []
          },
          "execution_count": 11
        }
      ]
    },
    {
      "cell_type": "code",
      "metadata": {
        "colab": {
          "base_uri": "https://localhost:8080/"
        },
        "id": "Fm5-uxw8Hdn7",
        "outputId": "2e4c8faa-4a95-4bf0-a5ae-5f4eaee2e4f8"
      },
      "source": [
        "data['food'].map(lambda x: meat_to_animal[x.lower()])"
      ],
      "execution_count": null,
      "outputs": [
        {
          "output_type": "execute_result",
          "data": {
            "text/plain": [
              "0       pig\n",
              "1       pig\n",
              "2       pig\n",
              "3       cow\n",
              "4       cow\n",
              "5       pig\n",
              "6       cow\n",
              "7       pig\n",
              "8    salmon\n",
              "Name: food, dtype: object"
            ]
          },
          "metadata": {
            "tags": []
          },
          "execution_count": 12
        }
      ]
    },
    {
      "cell_type": "markdown",
      "metadata": {
        "id": "dYcvR05hHpTT"
      },
      "source": [
        "### **7.2.3 값 치환하기**"
      ]
    },
    {
      "cell_type": "code",
      "metadata": {
        "id": "6DTvtx8pH5Kk"
      },
      "source": [
        "data = pd.Series([1., -999.,2.,  -1000., 3.])"
      ],
      "execution_count": null,
      "outputs": []
    },
    {
      "cell_type": "code",
      "metadata": {
        "colab": {
          "base_uri": "https://localhost:8080/"
        },
        "id": "n1hXR-2dIHIr",
        "outputId": "ae66fcb2-da3c-47aa-b34d-c5e142b8dfd2"
      },
      "source": [
        "# 변경 대상과 변경하여 대입할 값을 지정할 수 있으며 변경 대상은 리스트 형식으로도 지정할 수 있다 \r\n",
        "data.replace(-999, np.nan)"
      ],
      "execution_count": null,
      "outputs": [
        {
          "output_type": "execute_result",
          "data": {
            "text/plain": [
              "0       1.0\n",
              "1       NaN\n",
              "2       2.0\n",
              "3   -1000.0\n",
              "4       3.0\n",
              "dtype: float64"
            ]
          },
          "metadata": {
            "tags": []
          },
          "execution_count": 14
        }
      ]
    },
    {
      "cell_type": "markdown",
      "metadata": {
        "id": "NhPti0NdIaMY"
      },
      "source": [
        "### **7.2.4 축 색인 이름 바꾸기** "
      ]
    },
    {
      "cell_type": "markdown",
      "metadata": {
        "id": "TBOPNnVGIesd"
      },
      "source": [
        "객체를 변경하지 않고 새로운 객체를 생성하기 위해서는 rename 메서드를 사용할 수 있고 축 색인에 map 메서드를 적용하여 index에 바로 대입할 수도 있다. "
      ]
    },
    {
      "cell_type": "code",
      "metadata": {
        "id": "POf3ih5WIZQb"
      },
      "source": [
        "data = pd.DataFrame(np.arange(12).reshape((3, 4)),\r\n",
        "                    index=['Ohio', 'Colorado', 'New York'],\r\n",
        "                    columns=['one', 'two', 'three', 'four'])"
      ],
      "execution_count": null,
      "outputs": []
    },
    {
      "cell_type": "code",
      "metadata": {
        "colab": {
          "base_uri": "https://localhost:8080/"
        },
        "id": "8NBrOikCJfcM",
        "outputId": "75364d3c-61ef-4e85-c4f1-cd79213f97bd"
      },
      "source": [
        "# upper 대문자 lower 소문자 \r\n",
        "transform = lambda x: x[:4].upper()\r\n",
        "data.index.map(transform)"
      ],
      "execution_count": null,
      "outputs": [
        {
          "output_type": "execute_result",
          "data": {
            "text/plain": [
              "Index(['OHIO', 'COLO', 'NEW '], dtype='object')"
            ]
          },
          "metadata": {
            "tags": []
          },
          "execution_count": 18
        }
      ]
    },
    {
      "cell_type": "code",
      "metadata": {
        "id": "53Y9ABV6JvCM"
      },
      "source": [
        "data.index = data.index.map(transform)"
      ],
      "execution_count": null,
      "outputs": []
    },
    {
      "cell_type": "markdown",
      "metadata": {
        "id": "atnjyV3RKRkb"
      },
      "source": [
        "### **7.2.5 개별화와 양자화**"
      ]
    },
    {
      "cell_type": "markdown",
      "metadata": {
        "id": "0fIFc61FKxt8"
      },
      "source": [
        "연속형 데이터를 개별로 분활하거나 그룹으로 나눌 때 codes 속성은 카테고리 이름을 배열에 내부적으로 담고 있다. 또한 판다스에서 지원하는 value_count르르 통해서 그룹별 수를 확인할 수 있다. 간격은 중괄호를 통해 확인할 수 있는데 중괄호 쪽 값은 포함하지 않고 대괄호 쪽의 값은 포함하는 간격을 나타낸다. right=False를 이용하면 포함 조건을 반대로 바꿀 수 있다. 또한 precision 옵션을 사용해 소수점 아래 부분의 수를 제한할 수 있다. qcut을 사용하면 표본 변위치를 기반으로 데이터를 분할할 수 있고 동일한 크기의 그룹으로 나눌 수 있다. "
      ]
    },
    {
      "cell_type": "code",
      "metadata": {
        "colab": {
          "base_uri": "https://localhost:8080/"
        },
        "id": "1-ZpQ9nzLdei",
        "outputId": "ea1772c0-b12b-478c-ecae-0f673ae77f28"
      },
      "source": [
        "ages = [20, 22, 25, 27, 21, 23, 37, 31, 61, 45, 41, 32]\r\n",
        "bins = [18, 25, 35, 60, 100]\r\n",
        "cats = pd.cut(ages, bins)\r\n",
        "cats"
      ],
      "execution_count": null,
      "outputs": [
        {
          "output_type": "execute_result",
          "data": {
            "text/plain": [
              "[(18, 25], (18, 25], (18, 25], (25, 35], (18, 25], ..., (25, 35], (60, 100], (35, 60], (35, 60], (25, 35]]\n",
              "Length: 12\n",
              "Categories (4, interval[int64]): [(18, 25] < (25, 35] < (35, 60] < (60, 100]]"
            ]
          },
          "metadata": {
            "tags": []
          },
          "execution_count": 20
        }
      ]
    },
    {
      "cell_type": "code",
      "metadata": {
        "colab": {
          "base_uri": "https://localhost:8080/"
        },
        "id": "eHfy6ImVLkXe",
        "outputId": "08b07455-2239-4f54-99e8-0fdb913c5981"
      },
      "source": [
        "cats.codes"
      ],
      "execution_count": null,
      "outputs": [
        {
          "output_type": "execute_result",
          "data": {
            "text/plain": [
              "array([0, 0, 0, 1, 0, 0, 2, 1, 3, 2, 2, 1], dtype=int8)"
            ]
          },
          "metadata": {
            "tags": []
          },
          "execution_count": 21
        }
      ]
    },
    {
      "cell_type": "code",
      "metadata": {
        "colab": {
          "base_uri": "https://localhost:8080/"
        },
        "id": "pYEkeTLFLn38",
        "outputId": "eafa5944-3301-482b-904b-8955b85a0569"
      },
      "source": [
        "pd.value_counts(cats)"
      ],
      "execution_count": null,
      "outputs": [
        {
          "output_type": "execute_result",
          "data": {
            "text/plain": [
              "(18, 25]     5\n",
              "(35, 60]     3\n",
              "(25, 35]     3\n",
              "(60, 100]    1\n",
              "dtype: int64"
            ]
          },
          "metadata": {
            "tags": []
          },
          "execution_count": 22
        }
      ]
    },
    {
      "cell_type": "markdown",
      "metadata": {
        "id": "n8nNbXf_L57r"
      },
      "source": [
        "### **7.2.6 특잇값을 찾고 제외하기**"
      ]
    },
    {
      "cell_type": "code",
      "metadata": {
        "colab": {
          "base_uri": "https://localhost:8080/",
          "height": 317
        },
        "id": "ustMDMsFMCTZ",
        "outputId": "1b82e261-4940-49d7-f05c-2d496bde59b9"
      },
      "source": [
        "# 절댓값을 기준으로 조건에 해당하는 모든 행 선택(절댓값이 3 이상인 것이 하나라도 포함된 행 선택)\r\n",
        "data = pd.DataFrame(np.random.randn(1000, 4))\r\n",
        "data[(np.abs(data) > 3).any(1)]"
      ],
      "execution_count": null,
      "outputs": [
        {
          "output_type": "execute_result",
          "data": {
            "text/html": [
              "<div>\n",
              "<style scoped>\n",
              "    .dataframe tbody tr th:only-of-type {\n",
              "        vertical-align: middle;\n",
              "    }\n",
              "\n",
              "    .dataframe tbody tr th {\n",
              "        vertical-align: top;\n",
              "    }\n",
              "\n",
              "    .dataframe thead th {\n",
              "        text-align: right;\n",
              "    }\n",
              "</style>\n",
              "<table border=\"1\" class=\"dataframe\">\n",
              "  <thead>\n",
              "    <tr style=\"text-align: right;\">\n",
              "      <th></th>\n",
              "      <th>0</th>\n",
              "      <th>1</th>\n",
              "      <th>2</th>\n",
              "      <th>3</th>\n",
              "    </tr>\n",
              "  </thead>\n",
              "  <tbody>\n",
              "    <tr>\n",
              "      <th>209</th>\n",
              "      <td>0.101585</td>\n",
              "      <td>-0.832733</td>\n",
              "      <td>-0.291151</td>\n",
              "      <td>3.886977</td>\n",
              "    </tr>\n",
              "    <tr>\n",
              "      <th>263</th>\n",
              "      <td>-3.218439</td>\n",
              "      <td>-1.401915</td>\n",
              "      <td>-0.688124</td>\n",
              "      <td>-0.315651</td>\n",
              "    </tr>\n",
              "    <tr>\n",
              "      <th>294</th>\n",
              "      <td>-1.704227</td>\n",
              "      <td>3.018976</td>\n",
              "      <td>1.470729</td>\n",
              "      <td>0.374074</td>\n",
              "    </tr>\n",
              "    <tr>\n",
              "      <th>396</th>\n",
              "      <td>-0.650100</td>\n",
              "      <td>-0.748770</td>\n",
              "      <td>0.328450</td>\n",
              "      <td>3.064566</td>\n",
              "    </tr>\n",
              "    <tr>\n",
              "      <th>512</th>\n",
              "      <td>-2.339163</td>\n",
              "      <td>-1.821855</td>\n",
              "      <td>-3.034825</td>\n",
              "      <td>1.221670</td>\n",
              "    </tr>\n",
              "    <tr>\n",
              "      <th>528</th>\n",
              "      <td>1.287845</td>\n",
              "      <td>-0.350360</td>\n",
              "      <td>-3.065524</td>\n",
              "      <td>0.860451</td>\n",
              "    </tr>\n",
              "    <tr>\n",
              "      <th>722</th>\n",
              "      <td>3.173796</td>\n",
              "      <td>2.099713</td>\n",
              "      <td>0.414097</td>\n",
              "      <td>0.201350</td>\n",
              "    </tr>\n",
              "    <tr>\n",
              "      <th>809</th>\n",
              "      <td>-1.552257</td>\n",
              "      <td>-1.503603</td>\n",
              "      <td>3.252304</td>\n",
              "      <td>0.493005</td>\n",
              "    </tr>\n",
              "    <tr>\n",
              "      <th>966</th>\n",
              "      <td>-0.172230</td>\n",
              "      <td>-1.422545</td>\n",
              "      <td>3.291782</td>\n",
              "      <td>0.468367</td>\n",
              "    </tr>\n",
              "  </tbody>\n",
              "</table>\n",
              "</div>"
            ],
            "text/plain": [
              "            0         1         2         3\n",
              "209  0.101585 -0.832733 -0.291151  3.886977\n",
              "263 -3.218439 -1.401915 -0.688124 -0.315651\n",
              "294 -1.704227  3.018976  1.470729  0.374074\n",
              "396 -0.650100 -0.748770  0.328450  3.064566\n",
              "512 -2.339163 -1.821855 -3.034825  1.221670\n",
              "528  1.287845 -0.350360 -3.065524  0.860451\n",
              "722  3.173796  2.099713  0.414097  0.201350\n",
              "809 -1.552257 -1.503603  3.252304  0.493005\n",
              "966 -0.172230 -1.422545  3.291782  0.468367"
            ]
          },
          "metadata": {
            "tags": []
          },
          "execution_count": 23
        }
      ]
    },
    {
      "cell_type": "code",
      "metadata": {
        "id": "H05UmOrgNn2H"
      },
      "source": [
        "# np.sign은 음수, 양수에 따라 -1, 1 값을 반환한다.\r\n",
        "data[np.abs(data) > 3] = np.sign(data) *3"
      ],
      "execution_count": null,
      "outputs": []
    },
    {
      "cell_type": "code",
      "metadata": {
        "colab": {
          "base_uri": "https://localhost:8080/",
          "height": 406
        },
        "id": "B_z-svSDNq1n",
        "outputId": "c5fba30e-11c7-410d-ca53-bb5385adacff"
      },
      "source": [
        "data"
      ],
      "execution_count": null,
      "outputs": [
        {
          "output_type": "execute_result",
          "data": {
            "text/html": [
              "<div>\n",
              "<style scoped>\n",
              "    .dataframe tbody tr th:only-of-type {\n",
              "        vertical-align: middle;\n",
              "    }\n",
              "\n",
              "    .dataframe tbody tr th {\n",
              "        vertical-align: top;\n",
              "    }\n",
              "\n",
              "    .dataframe thead th {\n",
              "        text-align: right;\n",
              "    }\n",
              "</style>\n",
              "<table border=\"1\" class=\"dataframe\">\n",
              "  <thead>\n",
              "    <tr style=\"text-align: right;\">\n",
              "      <th></th>\n",
              "      <th>0</th>\n",
              "      <th>1</th>\n",
              "      <th>2</th>\n",
              "      <th>3</th>\n",
              "    </tr>\n",
              "  </thead>\n",
              "  <tbody>\n",
              "    <tr>\n",
              "      <th>0</th>\n",
              "      <td>0.571023</td>\n",
              "      <td>1.142138</td>\n",
              "      <td>0.637058</td>\n",
              "      <td>-1.481158</td>\n",
              "    </tr>\n",
              "    <tr>\n",
              "      <th>1</th>\n",
              "      <td>0.742200</td>\n",
              "      <td>-1.421498</td>\n",
              "      <td>0.467682</td>\n",
              "      <td>-0.144367</td>\n",
              "    </tr>\n",
              "    <tr>\n",
              "      <th>2</th>\n",
              "      <td>-2.033932</td>\n",
              "      <td>-0.080592</td>\n",
              "      <td>0.632151</td>\n",
              "      <td>0.121356</td>\n",
              "    </tr>\n",
              "    <tr>\n",
              "      <th>3</th>\n",
              "      <td>1.998277</td>\n",
              "      <td>-1.861057</td>\n",
              "      <td>-1.233070</td>\n",
              "      <td>1.340170</td>\n",
              "    </tr>\n",
              "    <tr>\n",
              "      <th>4</th>\n",
              "      <td>1.214917</td>\n",
              "      <td>-0.194039</td>\n",
              "      <td>-0.496088</td>\n",
              "      <td>-1.977147</td>\n",
              "    </tr>\n",
              "    <tr>\n",
              "      <th>...</th>\n",
              "      <td>...</td>\n",
              "      <td>...</td>\n",
              "      <td>...</td>\n",
              "      <td>...</td>\n",
              "    </tr>\n",
              "    <tr>\n",
              "      <th>995</th>\n",
              "      <td>-0.705836</td>\n",
              "      <td>-1.035110</td>\n",
              "      <td>-0.433791</td>\n",
              "      <td>-0.456138</td>\n",
              "    </tr>\n",
              "    <tr>\n",
              "      <th>996</th>\n",
              "      <td>-1.411754</td>\n",
              "      <td>1.327723</td>\n",
              "      <td>-1.104501</td>\n",
              "      <td>0.263573</td>\n",
              "    </tr>\n",
              "    <tr>\n",
              "      <th>997</th>\n",
              "      <td>-0.509437</td>\n",
              "      <td>0.541451</td>\n",
              "      <td>1.194625</td>\n",
              "      <td>-0.212026</td>\n",
              "    </tr>\n",
              "    <tr>\n",
              "      <th>998</th>\n",
              "      <td>1.529839</td>\n",
              "      <td>-0.965808</td>\n",
              "      <td>0.285367</td>\n",
              "      <td>-0.102350</td>\n",
              "    </tr>\n",
              "    <tr>\n",
              "      <th>999</th>\n",
              "      <td>0.926754</td>\n",
              "      <td>-0.380811</td>\n",
              "      <td>-0.192357</td>\n",
              "      <td>-1.647383</td>\n",
              "    </tr>\n",
              "  </tbody>\n",
              "</table>\n",
              "<p>1000 rows × 4 columns</p>\n",
              "</div>"
            ],
            "text/plain": [
              "            0         1         2         3\n",
              "0    0.571023  1.142138  0.637058 -1.481158\n",
              "1    0.742200 -1.421498  0.467682 -0.144367\n",
              "2   -2.033932 -0.080592  0.632151  0.121356\n",
              "3    1.998277 -1.861057 -1.233070  1.340170\n",
              "4    1.214917 -0.194039 -0.496088 -1.977147\n",
              "..        ...       ...       ...       ...\n",
              "995 -0.705836 -1.035110 -0.433791 -0.456138\n",
              "996 -1.411754  1.327723 -1.104501  0.263573\n",
              "997 -0.509437  0.541451  1.194625 -0.212026\n",
              "998  1.529839 -0.965808  0.285367 -0.102350\n",
              "999  0.926754 -0.380811 -0.192357 -1.647383\n",
              "\n",
              "[1000 rows x 4 columns]"
            ]
          },
          "metadata": {
            "tags": []
          },
          "execution_count": 25
        }
      ]
    },
    {
      "cell_type": "markdown",
      "metadata": {
        "id": "q-BeKeivN3LE"
      },
      "source": [
        "### **7.2.7 치환과 임의 샘플링** "
      ]
    },
    {
      "cell_type": "markdown",
      "metadata": {
        "id": "3u47Fav2OSC_"
      },
      "source": [
        "permutation 함수를 이용하면 Series나 Dataframe의 로우를 쉽게 지정하고자 하는 순서대로 재배치할 수 있다. 순서를 바꾸고 싶은 길이만큼 인자로 사용하면 변경된 순서가 담긴 정수 배열이 생성된다. 이는 색인 기반의 함수 혹은 take 함수에서 사용할 수 있다. "
      ]
    },
    {
      "cell_type": "code",
      "metadata": {
        "colab": {
          "base_uri": "https://localhost:8080/"
        },
        "id": "tgvn9F-TNr9Z",
        "outputId": "dc90323a-b8b2-40d5-8e40-6327c6c7786c"
      },
      "source": [
        "df = pd.DataFrame(np.arange(5*4).reshape((5,4)))\r\n",
        "sampler = np.random.permutation(5)\r\n",
        "sampler"
      ],
      "execution_count": null,
      "outputs": [
        {
          "output_type": "execute_result",
          "data": {
            "text/plain": [
              "array([1, 4, 0, 2, 3])"
            ]
          },
          "metadata": {
            "tags": []
          },
          "execution_count": 28
        }
      ]
    },
    {
      "cell_type": "code",
      "metadata": {
        "colab": {
          "base_uri": "https://localhost:8080/",
          "height": 197
        },
        "id": "I4Rcma3uPD1v",
        "outputId": "16e3f9ab-169c-4510-dee9-b79c269a155e"
      },
      "source": [
        "df.take(sampler)"
      ],
      "execution_count": null,
      "outputs": [
        {
          "output_type": "execute_result",
          "data": {
            "text/html": [
              "<div>\n",
              "<style scoped>\n",
              "    .dataframe tbody tr th:only-of-type {\n",
              "        vertical-align: middle;\n",
              "    }\n",
              "\n",
              "    .dataframe tbody tr th {\n",
              "        vertical-align: top;\n",
              "    }\n",
              "\n",
              "    .dataframe thead th {\n",
              "        text-align: right;\n",
              "    }\n",
              "</style>\n",
              "<table border=\"1\" class=\"dataframe\">\n",
              "  <thead>\n",
              "    <tr style=\"text-align: right;\">\n",
              "      <th></th>\n",
              "      <th>0</th>\n",
              "      <th>1</th>\n",
              "      <th>2</th>\n",
              "      <th>3</th>\n",
              "    </tr>\n",
              "  </thead>\n",
              "  <tbody>\n",
              "    <tr>\n",
              "      <th>1</th>\n",
              "      <td>4</td>\n",
              "      <td>5</td>\n",
              "      <td>6</td>\n",
              "      <td>7</td>\n",
              "    </tr>\n",
              "    <tr>\n",
              "      <th>4</th>\n",
              "      <td>16</td>\n",
              "      <td>17</td>\n",
              "      <td>18</td>\n",
              "      <td>19</td>\n",
              "    </tr>\n",
              "    <tr>\n",
              "      <th>0</th>\n",
              "      <td>0</td>\n",
              "      <td>1</td>\n",
              "      <td>2</td>\n",
              "      <td>3</td>\n",
              "    </tr>\n",
              "    <tr>\n",
              "      <th>2</th>\n",
              "      <td>8</td>\n",
              "      <td>9</td>\n",
              "      <td>10</td>\n",
              "      <td>11</td>\n",
              "    </tr>\n",
              "    <tr>\n",
              "      <th>3</th>\n",
              "      <td>12</td>\n",
              "      <td>13</td>\n",
              "      <td>14</td>\n",
              "      <td>15</td>\n",
              "    </tr>\n",
              "  </tbody>\n",
              "</table>\n",
              "</div>"
            ],
            "text/plain": [
              "    0   1   2   3\n",
              "1   4   5   6   7\n",
              "4  16  17  18  19\n",
              "0   0   1   2   3\n",
              "2   8   9  10  11\n",
              "3  12  13  14  15"
            ]
          },
          "metadata": {
            "tags": []
          },
          "execution_count": 29
        }
      ]
    },
    {
      "cell_type": "markdown",
      "metadata": {
        "id": "9VlZ-Ru3P5z-"
      },
      "source": [
        "### **7.2.8 표시자/더미 변수 계산하기**"
      ]
    },
    {
      "cell_type": "markdown",
      "metadata": {
        "id": "K5ApphqNP5tF"
      },
      "source": [
        "더미 행렬을 통해 값의 위치를 표현할 수 있는데 이를 위해서는 판다스의 get_dummies 함수가 사용된다. "
      ]
    },
    {
      "cell_type": "code",
      "metadata": {
        "colab": {
          "base_uri": "https://localhost:8080/",
          "height": 227
        },
        "id": "zQPtkz6QPFra",
        "outputId": "1cea6488-04f5-4fa7-e483-4261a3eb7040"
      },
      "source": [
        "df = pd.DataFrame({'key': ['b', 'b', 'a', 'c', 'a', 'b'], 'data1': range(6)})\r\n",
        "pd.get_dummies(df['key'])"
      ],
      "execution_count": null,
      "outputs": [
        {
          "output_type": "execute_result",
          "data": {
            "text/html": [
              "<div>\n",
              "<style scoped>\n",
              "    .dataframe tbody tr th:only-of-type {\n",
              "        vertical-align: middle;\n",
              "    }\n",
              "\n",
              "    .dataframe tbody tr th {\n",
              "        vertical-align: top;\n",
              "    }\n",
              "\n",
              "    .dataframe thead th {\n",
              "        text-align: right;\n",
              "    }\n",
              "</style>\n",
              "<table border=\"1\" class=\"dataframe\">\n",
              "  <thead>\n",
              "    <tr style=\"text-align: right;\">\n",
              "      <th></th>\n",
              "      <th>a</th>\n",
              "      <th>b</th>\n",
              "      <th>c</th>\n",
              "    </tr>\n",
              "  </thead>\n",
              "  <tbody>\n",
              "    <tr>\n",
              "      <th>0</th>\n",
              "      <td>0</td>\n",
              "      <td>1</td>\n",
              "      <td>0</td>\n",
              "    </tr>\n",
              "    <tr>\n",
              "      <th>1</th>\n",
              "      <td>0</td>\n",
              "      <td>1</td>\n",
              "      <td>0</td>\n",
              "    </tr>\n",
              "    <tr>\n",
              "      <th>2</th>\n",
              "      <td>1</td>\n",
              "      <td>0</td>\n",
              "      <td>0</td>\n",
              "    </tr>\n",
              "    <tr>\n",
              "      <th>3</th>\n",
              "      <td>0</td>\n",
              "      <td>0</td>\n",
              "      <td>1</td>\n",
              "    </tr>\n",
              "    <tr>\n",
              "      <th>4</th>\n",
              "      <td>1</td>\n",
              "      <td>0</td>\n",
              "      <td>0</td>\n",
              "    </tr>\n",
              "    <tr>\n",
              "      <th>5</th>\n",
              "      <td>0</td>\n",
              "      <td>1</td>\n",
              "      <td>0</td>\n",
              "    </tr>\n",
              "  </tbody>\n",
              "</table>\n",
              "</div>"
            ],
            "text/plain": [
              "   a  b  c\n",
              "0  0  1  0\n",
              "1  0  1  0\n",
              "2  1  0  0\n",
              "3  0  0  1\n",
              "4  1  0  0\n",
              "5  0  1  0"
            ]
          },
          "metadata": {
            "tags": []
          },
          "execution_count": 31
        }
      ]
    },
    {
      "cell_type": "code",
      "metadata": {
        "colab": {
          "base_uri": "https://localhost:8080/",
          "height": 227
        },
        "id": "vnlR1aFcRXot",
        "outputId": "f65e4d11-21a9-4df3-c79f-5f79cb1fc503"
      },
      "source": [
        "dummies = pd.get_dummies(df['key'], prefix = 'key')\r\n",
        "df[['data1']].join(dummies)"
      ],
      "execution_count": null,
      "outputs": [
        {
          "output_type": "execute_result",
          "data": {
            "text/html": [
              "<div>\n",
              "<style scoped>\n",
              "    .dataframe tbody tr th:only-of-type {\n",
              "        vertical-align: middle;\n",
              "    }\n",
              "\n",
              "    .dataframe tbody tr th {\n",
              "        vertical-align: top;\n",
              "    }\n",
              "\n",
              "    .dataframe thead th {\n",
              "        text-align: right;\n",
              "    }\n",
              "</style>\n",
              "<table border=\"1\" class=\"dataframe\">\n",
              "  <thead>\n",
              "    <tr style=\"text-align: right;\">\n",
              "      <th></th>\n",
              "      <th>data1</th>\n",
              "      <th>key_a</th>\n",
              "      <th>key_b</th>\n",
              "      <th>key_c</th>\n",
              "    </tr>\n",
              "  </thead>\n",
              "  <tbody>\n",
              "    <tr>\n",
              "      <th>0</th>\n",
              "      <td>0</td>\n",
              "      <td>0</td>\n",
              "      <td>1</td>\n",
              "      <td>0</td>\n",
              "    </tr>\n",
              "    <tr>\n",
              "      <th>1</th>\n",
              "      <td>1</td>\n",
              "      <td>0</td>\n",
              "      <td>1</td>\n",
              "      <td>0</td>\n",
              "    </tr>\n",
              "    <tr>\n",
              "      <th>2</th>\n",
              "      <td>2</td>\n",
              "      <td>1</td>\n",
              "      <td>0</td>\n",
              "      <td>0</td>\n",
              "    </tr>\n",
              "    <tr>\n",
              "      <th>3</th>\n",
              "      <td>3</td>\n",
              "      <td>0</td>\n",
              "      <td>0</td>\n",
              "      <td>1</td>\n",
              "    </tr>\n",
              "    <tr>\n",
              "      <th>4</th>\n",
              "      <td>4</td>\n",
              "      <td>1</td>\n",
              "      <td>0</td>\n",
              "      <td>0</td>\n",
              "    </tr>\n",
              "    <tr>\n",
              "      <th>5</th>\n",
              "      <td>5</td>\n",
              "      <td>0</td>\n",
              "      <td>1</td>\n",
              "      <td>0</td>\n",
              "    </tr>\n",
              "  </tbody>\n",
              "</table>\n",
              "</div>"
            ],
            "text/plain": [
              "   data1  key_a  key_b  key_c\n",
              "0      0      0      1      0\n",
              "1      1      0      1      0\n",
              "2      2      1      0      0\n",
              "3      3      0      0      1\n",
              "4      4      1      0      0\n",
              "5      5      0      1      0"
            ]
          },
          "metadata": {
            "tags": []
          },
          "execution_count": 36
        }
      ]
    },
    {
      "cell_type": "markdown",
      "metadata": {
        "id": "CkWzImjFST0e"
      },
      "source": [
        "## **7.3 문자열 다루기**"
      ]
    },
    {
      "cell_type": "markdown",
      "metadata": {
        "id": "y-l1LfvmWmS2"
      },
      "source": [
        "### **7.3.1 문자열 객체 메서드**"
      ]
    },
    {
      "cell_type": "markdown",
      "metadata": {
        "id": "-t0k9DadWRqz"
      },
      "source": [
        "파이썬의 기본 메서드를 통해서 문자열을 분리 및 편집할 수 있으며 strip 메서드의 경우 공백 문자(줄바꿈)에 대해서도 적용할 수 있다. 또한 더하기 연산을 통해서 문자열을 합칠 수 있으며 문자열을 기준으로 값의 위치 또한 확인할 수 있다. "
      ]
    },
    {
      "cell_type": "markdown",
      "metadata": {
        "id": "MefYjeTUWs0e"
      },
      "source": [
        "### **7.3.2 정규 표현식**"
      ]
    },
    {
      "cell_type": "markdown",
      "metadata": {
        "id": "J8DG7UhRWzdD"
      },
      "source": [
        "정규 표현식은 텍스트에서 문자열 패턴을 찾는 방법을 제공하며 다른 방법들에 비해 유연하게 사용할 수 있다. 단일 표현식은 regex라 불리는 문자열이며 re 모듈이 내장되어 있어 정규 표현식을 통해 처리할 수 있다. re 모듈 함수를 통해 패턴 매칭, 치환, 분리 세 가지를 수행할 수 있으며 |s+ 명령어를 통해 사용할 수 있다. match 객체를 이용하여 groups 메서드로 각 패턴 컴포넌트의 튜플을 얻을 수 있다. 이때 부여된 각 패턴에 따라 문자열이 분리된 패턴을 얻을 수 있다. \r\n",
        "\r\n",
        "\r\n",
        "\r\n",
        "> **r'의 의미:** The r means that the string is to be treated as a raw string, which means all escape codes will be ignored\r\n",
        "\r\n"
      ]
    },
    {
      "cell_type": "code",
      "metadata": {
        "id": "Inc2Ll5eSS8h"
      },
      "source": [
        "import re\r\n",
        "text = \"foo bar\\t vas \\tqux\""
      ],
      "execution_count": null,
      "outputs": []
    },
    {
      "cell_type": "code",
      "metadata": {
        "colab": {
          "base_uri": "https://localhost:8080/"
        },
        "id": "wFaOZNMpXPlR",
        "outputId": "179d82af-5ae8-40bc-f645-38050902b359"
      },
      "source": [
        "re.split(\"\\s+\", text)"
      ],
      "execution_count": null,
      "outputs": [
        {
          "output_type": "execute_result",
          "data": {
            "text/plain": [
              "['foo', 'bar', 'vas', 'qux']"
            ]
          },
          "metadata": {
            "tags": []
          },
          "execution_count": 42
        }
      ]
    },
    {
      "cell_type": "code",
      "metadata": {
        "id": "YyJHgcKLX4E1"
      },
      "source": [
        "text = \"\"\"Dave dave@google.com\r\n",
        "Steve steve@gmail.com\r\n",
        "Rob rob@gmail.com\r\n",
        "Ryan ryan@yahoo.com\r\n",
        "\"\"\"\r\n",
        "pattern = r'[A-Z0-9._%+-]+@[A-Z0-9.-]+\\.[A-Z]{2,4}'\r\n",
        "\r\n",
        "# re.IGNORECASE makes the regex case-insensitive\r\n",
        "regex = re.compile(pattern, flags=re.IGNORECASE)"
      ],
      "execution_count": null,
      "outputs": []
    },
    {
      "cell_type": "code",
      "metadata": {
        "colab": {
          "base_uri": "https://localhost:8080/"
        },
        "id": "HHRff2KQX_C8",
        "outputId": "0f36ee40-1e74-4d84-babd-81a9500f278d"
      },
      "source": [
        "regex.findall(text)"
      ],
      "execution_count": null,
      "outputs": [
        {
          "output_type": "execute_result",
          "data": {
            "text/plain": [
              "['dave@google.com', 'steve@gmail.com', 'rob@gmail.com', 'ryan@yahoo.com']"
            ]
          },
          "metadata": {
            "tags": []
          },
          "execution_count": 44
        }
      ]
    },
    {
      "cell_type": "code",
      "metadata": {
        "colab": {
          "base_uri": "https://localhost:8080/",
          "height": 34
        },
        "id": "JURLFSiqYEbT",
        "outputId": "42294544-1671-4633-a624-5f51dc72cb8d"
      },
      "source": [
        "# search는 텍스트에서 첫번째 값만 찾는다. m(첫번째 메일 인덱스)을 기준으로 기존의 text를 분할한다. \r\n",
        "m = regex.search(text)\r\n",
        "text[m.start():m.end()]"
      ],
      "execution_count": null,
      "outputs": [
        {
          "output_type": "execute_result",
          "data": {
            "application/vnd.google.colaboratory.intrinsic+json": {
              "type": "string"
            },
            "text/plain": [
              "'dave@google.com'"
            ]
          },
          "metadata": {
            "tags": []
          },
          "execution_count": 45
        }
      ]
    },
    {
      "cell_type": "code",
      "metadata": {
        "id": "R_hS68TLZHuK"
      },
      "source": [
        "# 사용자 이름, 도메인 이름, 도메인 접미사 세가지 컴포넌트로 나누기 위해 각 패턴을 괄호로 묶는다. \r\n",
        "pattern = r'([A-Z0-9._%+-]+)@([A-Z0-9.-]+)\\.([A-Z]{2,4})'\r\n",
        "regex = re.compile(pattern, flags=re.IGNORECASE)"
      ],
      "execution_count": null,
      "outputs": []
    },
    {
      "cell_type": "code",
      "metadata": {
        "colab": {
          "base_uri": "https://localhost:8080/"
        },
        "id": "YKF_qvSWZeUE",
        "outputId": "57b641db-5224-4b7d-a035-3ce998afb07f"
      },
      "source": [
        "m = regex.match('wesm@bright.net')\r\n",
        "m.groups()"
      ],
      "execution_count": null,
      "outputs": [
        {
          "output_type": "execute_result",
          "data": {
            "text/plain": [
              "('wesm', 'bright', 'net')"
            ]
          },
          "metadata": {
            "tags": []
          },
          "execution_count": 51
        }
      ]
    },
    {
      "cell_type": "markdown",
      "metadata": {
        "id": "IUzx-YXqaWmH"
      },
      "source": [
        "이외에도 sub, subn 인자를 이용하여 패턴 혹은 처음 n개의 패턴을 대체 표현할 수 있다. 표현 문자열은 별도의 기호를 사용해서 매치 그룹의 요소를 참조한다. "
      ]
    },
    {
      "cell_type": "markdown",
      "metadata": {
        "id": "7Cq_ZOP4apxi"
      },
      "source": [
        "### **7.3.3 pandas의 벡터화된 문자열 함수**"
      ]
    },
    {
      "cell_type": "markdown",
      "metadata": {
        "id": "Kf7dYxtDdFMI"
      },
      "source": [
        "문자열과 정규 표현식 메서드는 data.map을 사용해서 각 값에 적용가능하지만 NA값이 포함될 경우 제대로 수행하지 못하는 경우가 발생한다. Series에 str속성을 이용하여 해당 부분에 대한 조건을 부여할 수 있으며 IGNORECASE와 같은 정규식(re) 옵션을 사용할 수도 있다. "
      ]
    },
    {
      "cell_type": "code",
      "metadata": {
        "colab": {
          "base_uri": "https://localhost:8080/"
        },
        "id": "5NeF1SX_auXO",
        "outputId": "4cb7539c-255b-413e-94d8-8387cf83b8ce"
      },
      "source": [
        "data = {'Dave': 'dave@google.com', 'Steve': 'steve@gmail.com',\r\n",
        "        'Rob': 'rob@gmail.com', 'Wes': np.nan}\r\n",
        "data = pd.Series(data)\r\n",
        "data.isnull()"
      ],
      "execution_count": null,
      "outputs": [
        {
          "output_type": "execute_result",
          "data": {
            "text/plain": [
              "Dave     False\n",
              "Steve    False\n",
              "Rob      False\n",
              "Wes       True\n",
              "dtype: bool"
            ]
          },
          "metadata": {
            "tags": []
          },
          "execution_count": 52
        }
      ]
    },
    {
      "cell_type": "code",
      "metadata": {
        "colab": {
          "base_uri": "https://localhost:8080/"
        },
        "id": "zIkXKvsuejvH",
        "outputId": "567e65dd-023a-4d9d-d9da-e19f681feeed"
      },
      "source": [
        "data.str.contains('gmail')"
      ],
      "execution_count": null,
      "outputs": [
        {
          "output_type": "execute_result",
          "data": {
            "text/plain": [
              "Dave     False\n",
              "Steve     True\n",
              "Rob       True\n",
              "Wes        NaN\n",
              "dtype: object"
            ]
          },
          "metadata": {
            "tags": []
          },
          "execution_count": 53
        }
      ]
    },
    {
      "cell_type": "code",
      "metadata": {
        "colab": {
          "base_uri": "https://localhost:8080/"
        },
        "id": "CD5inWJuetgi",
        "outputId": "99663861-cde3-45fe-e688-ec1577b3169a"
      },
      "source": [
        "# re.IGNORECASE 대소문자 구분없이 매치를 할 때 사용 \r\n",
        "\r\n",
        "data.str.findall(pattern, flags=re.IGNORECASE)"
      ],
      "execution_count": null,
      "outputs": [
        {
          "output_type": "execute_result",
          "data": {
            "text/plain": [
              "Dave     [(dave, google, com)]\n",
              "Steve    [(steve, gmail, com)]\n",
              "Rob        [(rob, gmail, com)]\n",
              "Wes                        NaN\n",
              "dtype: object"
            ]
          },
          "metadata": {
            "tags": []
          },
          "execution_count": 55
        }
      ]
    }
  ]
}