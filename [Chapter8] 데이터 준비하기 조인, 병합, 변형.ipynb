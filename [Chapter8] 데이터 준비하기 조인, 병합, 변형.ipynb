{
  "nbformat": 4,
  "nbformat_minor": 0,
  "metadata": {
    "colab": {
      "name": "[week4] programming_seminar_ch8.ipynb의 사본",
      "provenance": [],
      "collapsed_sections": [],
      "toc_visible": true
    },
    "kernelspec": {
      "name": "python3",
      "display_name": "Python 3"
    }
  },
  "cells": [
    {
      "cell_type": "markdown",
      "metadata": {
        "id": "mBHbQtCpT290"
      },
      "source": [
        "# **CHAPTER_8**"
      ]
    },
    {
      "cell_type": "markdown",
      "metadata": {
        "id": "UBE0RE9YUCqr"
      },
      "source": [
        "## **8.1 계층적 색인**"
      ]
    },
    {
      "cell_type": "markdown",
      "metadata": {
        "id": "TGK9zQBtUf7i"
      },
      "source": [
        "계층적 색인은 축에 대해 다중 색인 단계를 지정할 수 있도록 하며 데이터의 부분집합을 부분적 색인으로 접근하는 것이 가능하다. 계층적 인덱스의 원칙은 항상 가장 상위 계층에 해당하는 맨 바깥쪽 인덱스부터 차례대로 인덱싱하는 것이다. "
      ]
    },
    {
      "cell_type": "code",
      "metadata": {
        "id": "SRxdPoCsTxZP"
      },
      "source": [
        "import numpy as np\r\n",
        "import pandas as pd\r\n",
        "pd.options.display.max_rows = 20\r\n",
        "np.random.seed(12345)\r\n",
        "import matplotlib.pyplot as plt\r\n",
        "plt.rc('figure', figsize=(10, 6))\r\n",
        "np.set_printoptions(precision=4, suppress=True)"
      ],
      "execution_count": null,
      "outputs": []
    },
    {
      "cell_type": "code",
      "metadata": {
        "colab": {
          "base_uri": "https://localhost:8080/"
        },
        "id": "K6_grnpuWY4j",
        "outputId": "a07984eb-939c-4fcc-e688-271725161ddd"
      },
      "source": [
        "data = pd.Series(np.random.randn(9),\r\n",
        "                 index=[['a', 'a', 'a', 'b', 'b', 'c', 'c', 'd', 'd'],\r\n",
        "                        [1, 2, 3, 1, 3, 1, 2, 2, 3]])\r\n",
        "data.index"
      ],
      "execution_count": null,
      "outputs": [
        {
          "output_type": "execute_result",
          "data": {
            "text/plain": [
              "MultiIndex([('a', 1),\n",
              "            ('a', 2),\n",
              "            ('a', 3),\n",
              "            ('b', 1),\n",
              "            ('b', 3),\n",
              "            ('c', 1),\n",
              "            ('c', 2),\n",
              "            ('d', 2),\n",
              "            ('d', 3)],\n",
              "           )"
            ]
          },
          "metadata": {
            "tags": []
          },
          "execution_count": 3
        }
      ]
    },
    {
      "cell_type": "code",
      "metadata": {
        "colab": {
          "base_uri": "https://localhost:8080/"
        },
        "id": "qEFJtGnsWb4l",
        "outputId": "78eb681c-8fb2-464d-bfa7-dd560b5b13cd"
      },
      "source": [
        "# 하위 계층의 객체 선택, 각 계층의 하위 계층이 2인 값만을 선택한다. \r\n",
        "\r\n",
        "data.loc[:, 2]"
      ],
      "execution_count": null,
      "outputs": [
        {
          "output_type": "execute_result",
          "data": {
            "text/plain": [
              "a    1.007189\n",
              "c    0.886429\n",
              "d   -2.001637\n",
              "dtype: float64"
            ]
          },
          "metadata": {
            "tags": []
          },
          "execution_count": 4
        }
      ]
    },
    {
      "cell_type": "code",
      "metadata": {
        "colab": {
          "base_uri": "https://localhost:8080/",
          "height": 164
        },
        "id": "k5ohZAhXW490",
        "outputId": "f7044559-0830-4e8b-9bea-6bc966ab3640"
      },
      "source": [
        "# unstack 메서드를 이용해 데이터를 새롭게 배열할 수 있다. 기존의 data에서 내용은 동일하지만 모양이 다른 프레임이 생성된다. 이후 stack 메서드를 통해 복구할 수 있다. \r\n",
        "\r\n",
        "data.unstack()"
      ],
      "execution_count": null,
      "outputs": [
        {
          "output_type": "execute_result",
          "data": {
            "text/html": [
              "<div>\n",
              "<style scoped>\n",
              "    .dataframe tbody tr th:only-of-type {\n",
              "        vertical-align: middle;\n",
              "    }\n",
              "\n",
              "    .dataframe tbody tr th {\n",
              "        vertical-align: top;\n",
              "    }\n",
              "\n",
              "    .dataframe thead th {\n",
              "        text-align: right;\n",
              "    }\n",
              "</style>\n",
              "<table border=\"1\" class=\"dataframe\">\n",
              "  <thead>\n",
              "    <tr style=\"text-align: right;\">\n",
              "      <th></th>\n",
              "      <th>1</th>\n",
              "      <th>2</th>\n",
              "      <th>3</th>\n",
              "    </tr>\n",
              "  </thead>\n",
              "  <tbody>\n",
              "    <tr>\n",
              "      <th>a</th>\n",
              "      <td>1.246435</td>\n",
              "      <td>1.007189</td>\n",
              "      <td>-1.296221</td>\n",
              "    </tr>\n",
              "    <tr>\n",
              "      <th>b</th>\n",
              "      <td>0.274992</td>\n",
              "      <td>NaN</td>\n",
              "      <td>0.228913</td>\n",
              "    </tr>\n",
              "    <tr>\n",
              "      <th>c</th>\n",
              "      <td>1.352917</td>\n",
              "      <td>0.886429</td>\n",
              "      <td>NaN</td>\n",
              "    </tr>\n",
              "    <tr>\n",
              "      <th>d</th>\n",
              "      <td>NaN</td>\n",
              "      <td>-2.001637</td>\n",
              "      <td>-0.371843</td>\n",
              "    </tr>\n",
              "  </tbody>\n",
              "</table>\n",
              "</div>"
            ],
            "text/plain": [
              "          1         2         3\n",
              "a  1.246435  1.007189 -1.296221\n",
              "b  0.274992       NaN  0.228913\n",
              "c  1.352917  0.886429       NaN\n",
              "d       NaN -2.001637 -0.371843"
            ]
          },
          "metadata": {
            "tags": []
          },
          "execution_count": 6
        }
      ]
    },
    {
      "cell_type": "markdown",
      "metadata": {
        "id": "SoziCuP4XMn-"
      },
      "source": [
        "**두 축 모두 계층적 색인을 가진 경우**"
      ]
    },
    {
      "cell_type": "code",
      "metadata": {
        "colab": {
          "base_uri": "https://localhost:8080/",
          "height": 252
        },
        "id": "NAf7QW3RXI1n",
        "outputId": "c1dc76a6-c3f1-47eb-f089-7727c5a657f5"
      },
      "source": [
        "frame = pd.DataFrame({'a': range(7), 'b': range(7, 0, -1),  'c': ['one', 'one', 'one', 'two', 'two', 'two', 'two'], 'd': [0, 1, 2, 0, 1, 2, 3]})\r\n",
        "frame"
      ],
      "execution_count": null,
      "outputs": [
        {
          "output_type": "execute_result",
          "data": {
            "text/html": [
              "<div>\n",
              "<style scoped>\n",
              "    .dataframe tbody tr th:only-of-type {\n",
              "        vertical-align: middle;\n",
              "    }\n",
              "\n",
              "    .dataframe tbody tr th {\n",
              "        vertical-align: top;\n",
              "    }\n",
              "\n",
              "    .dataframe thead th {\n",
              "        text-align: right;\n",
              "    }\n",
              "</style>\n",
              "<table border=\"1\" class=\"dataframe\">\n",
              "  <thead>\n",
              "    <tr style=\"text-align: right;\">\n",
              "      <th></th>\n",
              "      <th>a</th>\n",
              "      <th>b</th>\n",
              "      <th>c</th>\n",
              "      <th>d</th>\n",
              "    </tr>\n",
              "  </thead>\n",
              "  <tbody>\n",
              "    <tr>\n",
              "      <th>0</th>\n",
              "      <td>0</td>\n",
              "      <td>7</td>\n",
              "      <td>one</td>\n",
              "      <td>0</td>\n",
              "    </tr>\n",
              "    <tr>\n",
              "      <th>1</th>\n",
              "      <td>1</td>\n",
              "      <td>6</td>\n",
              "      <td>one</td>\n",
              "      <td>1</td>\n",
              "    </tr>\n",
              "    <tr>\n",
              "      <th>2</th>\n",
              "      <td>2</td>\n",
              "      <td>5</td>\n",
              "      <td>one</td>\n",
              "      <td>2</td>\n",
              "    </tr>\n",
              "    <tr>\n",
              "      <th>3</th>\n",
              "      <td>3</td>\n",
              "      <td>4</td>\n",
              "      <td>two</td>\n",
              "      <td>0</td>\n",
              "    </tr>\n",
              "    <tr>\n",
              "      <th>4</th>\n",
              "      <td>4</td>\n",
              "      <td>3</td>\n",
              "      <td>two</td>\n",
              "      <td>1</td>\n",
              "    </tr>\n",
              "    <tr>\n",
              "      <th>5</th>\n",
              "      <td>5</td>\n",
              "      <td>2</td>\n",
              "      <td>two</td>\n",
              "      <td>2</td>\n",
              "    </tr>\n",
              "    <tr>\n",
              "      <th>6</th>\n",
              "      <td>6</td>\n",
              "      <td>1</td>\n",
              "      <td>two</td>\n",
              "      <td>3</td>\n",
              "    </tr>\n",
              "  </tbody>\n",
              "</table>\n",
              "</div>"
            ],
            "text/plain": [
              "   a  b    c  d\n",
              "0  0  7  one  0\n",
              "1  1  6  one  1\n",
              "2  2  5  one  2\n",
              "3  3  4  two  0\n",
              "4  4  3  two  1\n",
              "5  5  2  two  2\n",
              "6  6  1  two  3"
            ]
          },
          "metadata": {
            "tags": []
          },
          "execution_count": 7
        }
      ]
    },
    {
      "cell_type": "code",
      "metadata": {
        "colab": {
          "base_uri": "https://localhost:8080/",
          "height": 194
        },
        "id": "eNTcga3mYCqM",
        "outputId": "bc1f9f5c-39f0-4b3d-c537-182854b7dc72"
      },
      "source": [
        "frame = pd.DataFrame(np.arange(12).reshape((4,3)), index = [['a', 'a', 'b', 'b'], [1, 2, 1, 2]], columns=[['Ohio','Ohio','Colorado'],['Green','Red', 'Green']])\r\n",
        "\r\n",
        "frame"
      ],
      "execution_count": null,
      "outputs": [
        {
          "output_type": "execute_result",
          "data": {
            "text/html": [
              "<div>\n",
              "<style scoped>\n",
              "    .dataframe tbody tr th:only-of-type {\n",
              "        vertical-align: middle;\n",
              "    }\n",
              "\n",
              "    .dataframe tbody tr th {\n",
              "        vertical-align: top;\n",
              "    }\n",
              "\n",
              "    .dataframe thead tr th {\n",
              "        text-align: left;\n",
              "    }\n",
              "</style>\n",
              "<table border=\"1\" class=\"dataframe\">\n",
              "  <thead>\n",
              "    <tr>\n",
              "      <th></th>\n",
              "      <th></th>\n",
              "      <th colspan=\"2\" halign=\"left\">Ohio</th>\n",
              "      <th>Colorado</th>\n",
              "    </tr>\n",
              "    <tr>\n",
              "      <th></th>\n",
              "      <th></th>\n",
              "      <th>Green</th>\n",
              "      <th>Red</th>\n",
              "      <th>Green</th>\n",
              "    </tr>\n",
              "  </thead>\n",
              "  <tbody>\n",
              "    <tr>\n",
              "      <th rowspan=\"2\" valign=\"top\">a</th>\n",
              "      <th>1</th>\n",
              "      <td>0</td>\n",
              "      <td>1</td>\n",
              "      <td>2</td>\n",
              "    </tr>\n",
              "    <tr>\n",
              "      <th>2</th>\n",
              "      <td>3</td>\n",
              "      <td>4</td>\n",
              "      <td>5</td>\n",
              "    </tr>\n",
              "    <tr>\n",
              "      <th rowspan=\"2\" valign=\"top\">b</th>\n",
              "      <th>1</th>\n",
              "      <td>6</td>\n",
              "      <td>7</td>\n",
              "      <td>8</td>\n",
              "    </tr>\n",
              "    <tr>\n",
              "      <th>2</th>\n",
              "      <td>9</td>\n",
              "      <td>10</td>\n",
              "      <td>11</td>\n",
              "    </tr>\n",
              "  </tbody>\n",
              "</table>\n",
              "</div>"
            ],
            "text/plain": [
              "     Ohio     Colorado\n",
              "    Green Red    Green\n",
              "a 1     0   1        2\n",
              "  2     3   4        5\n",
              "b 1     6   7        8\n",
              "  2     9  10       11"
            ]
          },
          "metadata": {
            "tags": []
          },
          "execution_count": 9
        }
      ]
    },
    {
      "cell_type": "code",
      "metadata": {
        "colab": {
          "base_uri": "https://localhost:8080/",
          "height": 223
        },
        "id": "6AICv1SDYtyF",
        "outputId": "9f9f0d27-1dac-4822-c2a2-8540c709a921"
      },
      "source": [
        "frame.index.names = ['key1', 'key2']\r\n",
        "frame.columns.names = ['state', 'color']\r\n",
        "frame"
      ],
      "execution_count": null,
      "outputs": [
        {
          "output_type": "execute_result",
          "data": {
            "text/html": [
              "<div>\n",
              "<style scoped>\n",
              "    .dataframe tbody tr th:only-of-type {\n",
              "        vertical-align: middle;\n",
              "    }\n",
              "\n",
              "    .dataframe tbody tr th {\n",
              "        vertical-align: top;\n",
              "    }\n",
              "\n",
              "    .dataframe thead tr th {\n",
              "        text-align: left;\n",
              "    }\n",
              "\n",
              "    .dataframe thead tr:last-of-type th {\n",
              "        text-align: right;\n",
              "    }\n",
              "</style>\n",
              "<table border=\"1\" class=\"dataframe\">\n",
              "  <thead>\n",
              "    <tr>\n",
              "      <th></th>\n",
              "      <th>state</th>\n",
              "      <th colspan=\"2\" halign=\"left\">Ohio</th>\n",
              "      <th>Colorado</th>\n",
              "    </tr>\n",
              "    <tr>\n",
              "      <th></th>\n",
              "      <th>color</th>\n",
              "      <th>Green</th>\n",
              "      <th>Red</th>\n",
              "      <th>Green</th>\n",
              "    </tr>\n",
              "    <tr>\n",
              "      <th>key1</th>\n",
              "      <th>key2</th>\n",
              "      <th></th>\n",
              "      <th></th>\n",
              "      <th></th>\n",
              "    </tr>\n",
              "  </thead>\n",
              "  <tbody>\n",
              "    <tr>\n",
              "      <th rowspan=\"2\" valign=\"top\">a</th>\n",
              "      <th>1</th>\n",
              "      <td>0</td>\n",
              "      <td>1</td>\n",
              "      <td>2</td>\n",
              "    </tr>\n",
              "    <tr>\n",
              "      <th>2</th>\n",
              "      <td>3</td>\n",
              "      <td>4</td>\n",
              "      <td>5</td>\n",
              "    </tr>\n",
              "    <tr>\n",
              "      <th rowspan=\"2\" valign=\"top\">b</th>\n",
              "      <th>1</th>\n",
              "      <td>6</td>\n",
              "      <td>7</td>\n",
              "      <td>8</td>\n",
              "    </tr>\n",
              "    <tr>\n",
              "      <th>2</th>\n",
              "      <td>9</td>\n",
              "      <td>10</td>\n",
              "      <td>11</td>\n",
              "    </tr>\n",
              "  </tbody>\n",
              "</table>\n",
              "</div>"
            ],
            "text/plain": [
              "state      Ohio     Colorado\n",
              "color     Green Red    Green\n",
              "key1 key2                   \n",
              "a    1        0   1        2\n",
              "     2        3   4        5\n",
              "b    1        6   7        8\n",
              "     2        9  10       11"
            ]
          },
          "metadata": {
            "tags": []
          },
          "execution_count": 11
        }
      ]
    },
    {
      "cell_type": "markdown",
      "metadata": {
        "id": "tTjlZzVJY-hs"
      },
      "source": [
        "### **8.1.1 계층의 순서를 바꾸고 정렬하기**"
      ]
    },
    {
      "cell_type": "markdown",
      "metadata": {
        "id": "aG3SMR8sZHr1"
      },
      "source": [
        "계층적 색인에서 계층의 순서를 바꾸거나 지정된 계층에 따라 데이터를 정렬해야하는 경우 swaplevel을 통해 뒤바뀐 객체를 반환할 수 있다. 다만 이 경우 데이터는 변경되지 않는다. "
      ]
    },
    {
      "cell_type": "code",
      "metadata": {
        "colab": {
          "base_uri": "https://localhost:8080/",
          "height": 223
        },
        "id": "UsCv19CPZw70",
        "outputId": "628de058-96fb-4c31-ad96-3254efc030c7"
      },
      "source": [
        "frame.swaplevel('key1', 'key2')"
      ],
      "execution_count": null,
      "outputs": [
        {
          "output_type": "execute_result",
          "data": {
            "text/html": [
              "<div>\n",
              "<style scoped>\n",
              "    .dataframe tbody tr th:only-of-type {\n",
              "        vertical-align: middle;\n",
              "    }\n",
              "\n",
              "    .dataframe tbody tr th {\n",
              "        vertical-align: top;\n",
              "    }\n",
              "\n",
              "    .dataframe thead tr th {\n",
              "        text-align: left;\n",
              "    }\n",
              "\n",
              "    .dataframe thead tr:last-of-type th {\n",
              "        text-align: right;\n",
              "    }\n",
              "</style>\n",
              "<table border=\"1\" class=\"dataframe\">\n",
              "  <thead>\n",
              "    <tr>\n",
              "      <th></th>\n",
              "      <th>state</th>\n",
              "      <th colspan=\"2\" halign=\"left\">Ohio</th>\n",
              "      <th>Colorado</th>\n",
              "    </tr>\n",
              "    <tr>\n",
              "      <th></th>\n",
              "      <th>color</th>\n",
              "      <th>Green</th>\n",
              "      <th>Red</th>\n",
              "      <th>Green</th>\n",
              "    </tr>\n",
              "    <tr>\n",
              "      <th>key2</th>\n",
              "      <th>key1</th>\n",
              "      <th></th>\n",
              "      <th></th>\n",
              "      <th></th>\n",
              "    </tr>\n",
              "  </thead>\n",
              "  <tbody>\n",
              "    <tr>\n",
              "      <th>1</th>\n",
              "      <th>a</th>\n",
              "      <td>0</td>\n",
              "      <td>1</td>\n",
              "      <td>2</td>\n",
              "    </tr>\n",
              "    <tr>\n",
              "      <th>2</th>\n",
              "      <th>a</th>\n",
              "      <td>3</td>\n",
              "      <td>4</td>\n",
              "      <td>5</td>\n",
              "    </tr>\n",
              "    <tr>\n",
              "      <th>1</th>\n",
              "      <th>b</th>\n",
              "      <td>6</td>\n",
              "      <td>7</td>\n",
              "      <td>8</td>\n",
              "    </tr>\n",
              "    <tr>\n",
              "      <th>2</th>\n",
              "      <th>b</th>\n",
              "      <td>9</td>\n",
              "      <td>10</td>\n",
              "      <td>11</td>\n",
              "    </tr>\n",
              "  </tbody>\n",
              "</table>\n",
              "</div>"
            ],
            "text/plain": [
              "state      Ohio     Colorado\n",
              "color     Green Red    Green\n",
              "key2 key1                   \n",
              "1    a        0   1        2\n",
              "2    a        3   4        5\n",
              "1    b        6   7        8\n",
              "2    b        9  10       11"
            ]
          },
          "metadata": {
            "tags": []
          },
          "execution_count": 13
        }
      ]
    },
    {
      "cell_type": "code",
      "metadata": {
        "colab": {
          "base_uri": "https://localhost:8080/",
          "height": 223
        },
        "id": "y5C7MRcfZ53Z",
        "outputId": "1d249bae-2371-4c82-c63f-25d507d8e670"
      },
      "source": [
        "frame.swaplevel(0,1).sort_index(level = 0)"
      ],
      "execution_count": null,
      "outputs": [
        {
          "output_type": "execute_result",
          "data": {
            "text/html": [
              "<div>\n",
              "<style scoped>\n",
              "    .dataframe tbody tr th:only-of-type {\n",
              "        vertical-align: middle;\n",
              "    }\n",
              "\n",
              "    .dataframe tbody tr th {\n",
              "        vertical-align: top;\n",
              "    }\n",
              "\n",
              "    .dataframe thead tr th {\n",
              "        text-align: left;\n",
              "    }\n",
              "\n",
              "    .dataframe thead tr:last-of-type th {\n",
              "        text-align: right;\n",
              "    }\n",
              "</style>\n",
              "<table border=\"1\" class=\"dataframe\">\n",
              "  <thead>\n",
              "    <tr>\n",
              "      <th></th>\n",
              "      <th>state</th>\n",
              "      <th colspan=\"2\" halign=\"left\">Ohio</th>\n",
              "      <th>Colorado</th>\n",
              "    </tr>\n",
              "    <tr>\n",
              "      <th></th>\n",
              "      <th>color</th>\n",
              "      <th>Green</th>\n",
              "      <th>Red</th>\n",
              "      <th>Green</th>\n",
              "    </tr>\n",
              "    <tr>\n",
              "      <th>key2</th>\n",
              "      <th>key1</th>\n",
              "      <th></th>\n",
              "      <th></th>\n",
              "      <th></th>\n",
              "    </tr>\n",
              "  </thead>\n",
              "  <tbody>\n",
              "    <tr>\n",
              "      <th rowspan=\"2\" valign=\"top\">1</th>\n",
              "      <th>a</th>\n",
              "      <td>0</td>\n",
              "      <td>1</td>\n",
              "      <td>2</td>\n",
              "    </tr>\n",
              "    <tr>\n",
              "      <th>b</th>\n",
              "      <td>6</td>\n",
              "      <td>7</td>\n",
              "      <td>8</td>\n",
              "    </tr>\n",
              "    <tr>\n",
              "      <th rowspan=\"2\" valign=\"top\">2</th>\n",
              "      <th>a</th>\n",
              "      <td>3</td>\n",
              "      <td>4</td>\n",
              "      <td>5</td>\n",
              "    </tr>\n",
              "    <tr>\n",
              "      <th>b</th>\n",
              "      <td>9</td>\n",
              "      <td>10</td>\n",
              "      <td>11</td>\n",
              "    </tr>\n",
              "  </tbody>\n",
              "</table>\n",
              "</div>"
            ],
            "text/plain": [
              "state      Ohio     Colorado\n",
              "color     Green Red    Green\n",
              "key2 key1                   \n",
              "1    a        0   1        2\n",
              "     b        6   7        8\n",
              "2    a        3   4        5\n",
              "     b        9  10       11"
            ]
          },
          "metadata": {
            "tags": []
          },
          "execution_count": 14
        }
      ]
    },
    {
      "cell_type": "markdown",
      "metadata": {
        "id": "jZldqpNhaFyn"
      },
      "source": [
        "### **8.1.2 계층별 요약 통계**"
      ]
    },
    {
      "cell_type": "code",
      "metadata": {
        "colab": {
          "base_uri": "https://localhost:8080/",
          "height": 194
        },
        "id": "Ze9uYCK8aLVp",
        "outputId": "c442f6ba-51ac-44d2-a257-90d0ee264b30"
      },
      "source": [
        "frame.sum(level = 'color', axis = 1)"
      ],
      "execution_count": null,
      "outputs": [
        {
          "output_type": "execute_result",
          "data": {
            "text/html": [
              "<div>\n",
              "<style scoped>\n",
              "    .dataframe tbody tr th:only-of-type {\n",
              "        vertical-align: middle;\n",
              "    }\n",
              "\n",
              "    .dataframe tbody tr th {\n",
              "        vertical-align: top;\n",
              "    }\n",
              "\n",
              "    .dataframe thead th {\n",
              "        text-align: right;\n",
              "    }\n",
              "</style>\n",
              "<table border=\"1\" class=\"dataframe\">\n",
              "  <thead>\n",
              "    <tr style=\"text-align: right;\">\n",
              "      <th></th>\n",
              "      <th>color</th>\n",
              "      <th>Green</th>\n",
              "      <th>Red</th>\n",
              "    </tr>\n",
              "    <tr>\n",
              "      <th>key1</th>\n",
              "      <th>key2</th>\n",
              "      <th></th>\n",
              "      <th></th>\n",
              "    </tr>\n",
              "  </thead>\n",
              "  <tbody>\n",
              "    <tr>\n",
              "      <th rowspan=\"2\" valign=\"top\">a</th>\n",
              "      <th>1</th>\n",
              "      <td>2</td>\n",
              "      <td>1</td>\n",
              "    </tr>\n",
              "    <tr>\n",
              "      <th>2</th>\n",
              "      <td>8</td>\n",
              "      <td>4</td>\n",
              "    </tr>\n",
              "    <tr>\n",
              "      <th rowspan=\"2\" valign=\"top\">b</th>\n",
              "      <th>1</th>\n",
              "      <td>14</td>\n",
              "      <td>7</td>\n",
              "    </tr>\n",
              "    <tr>\n",
              "      <th>2</th>\n",
              "      <td>20</td>\n",
              "      <td>10</td>\n",
              "    </tr>\n",
              "  </tbody>\n",
              "</table>\n",
              "</div>"
            ],
            "text/plain": [
              "color      Green  Red\n",
              "key1 key2            \n",
              "a    1         2    1\n",
              "     2         8    4\n",
              "b    1        14    7\n",
              "     2        20   10"
            ]
          },
          "metadata": {
            "tags": []
          },
          "execution_count": 15
        }
      ]
    },
    {
      "cell_type": "markdown",
      "metadata": {
        "id": "7oc5mwKeaK5T"
      },
      "source": [
        "### **8.1.3 DataFrame의 컬럼 사용하기**"
      ]
    },
    {
      "cell_type": "markdown",
      "metadata": {
        "id": "Zi0d3yQybFNB"
      },
      "source": [
        "행의 색인을 컬럼으로 사용하거나 행을 선택하기 위한 색인으로 하나 이상의 컬럼을 사용하고자하는 경우가 있을 때 아래와 같은 방법을 사용한다. "
      ]
    },
    {
      "cell_type": "code",
      "metadata": {
        "colab": {
          "base_uri": "https://localhost:8080/",
          "height": 252
        },
        "id": "dZOA23qEbP6h",
        "outputId": "d38f3e01-9946-4574-8865-02a58275f744"
      },
      "source": [
        "frame = pd.DataFrame({'a': range(7), 'b': range(7, 0, -1), 'c': ['one', 'one', 'one', 'two', 'two', 'two', 'two'], 'd': [0, 1, 2, 0, 1, 2, 3]})\r\n",
        "frame"
      ],
      "execution_count": null,
      "outputs": [
        {
          "output_type": "execute_result",
          "data": {
            "text/html": [
              "<div>\n",
              "<style scoped>\n",
              "    .dataframe tbody tr th:only-of-type {\n",
              "        vertical-align: middle;\n",
              "    }\n",
              "\n",
              "    .dataframe tbody tr th {\n",
              "        vertical-align: top;\n",
              "    }\n",
              "\n",
              "    .dataframe thead th {\n",
              "        text-align: right;\n",
              "    }\n",
              "</style>\n",
              "<table border=\"1\" class=\"dataframe\">\n",
              "  <thead>\n",
              "    <tr style=\"text-align: right;\">\n",
              "      <th></th>\n",
              "      <th>a</th>\n",
              "      <th>b</th>\n",
              "      <th>c</th>\n",
              "      <th>d</th>\n",
              "    </tr>\n",
              "  </thead>\n",
              "  <tbody>\n",
              "    <tr>\n",
              "      <th>0</th>\n",
              "      <td>0</td>\n",
              "      <td>7</td>\n",
              "      <td>one</td>\n",
              "      <td>0</td>\n",
              "    </tr>\n",
              "    <tr>\n",
              "      <th>1</th>\n",
              "      <td>1</td>\n",
              "      <td>6</td>\n",
              "      <td>one</td>\n",
              "      <td>1</td>\n",
              "    </tr>\n",
              "    <tr>\n",
              "      <th>2</th>\n",
              "      <td>2</td>\n",
              "      <td>5</td>\n",
              "      <td>one</td>\n",
              "      <td>2</td>\n",
              "    </tr>\n",
              "    <tr>\n",
              "      <th>3</th>\n",
              "      <td>3</td>\n",
              "      <td>4</td>\n",
              "      <td>two</td>\n",
              "      <td>0</td>\n",
              "    </tr>\n",
              "    <tr>\n",
              "      <th>4</th>\n",
              "      <td>4</td>\n",
              "      <td>3</td>\n",
              "      <td>two</td>\n",
              "      <td>1</td>\n",
              "    </tr>\n",
              "    <tr>\n",
              "      <th>5</th>\n",
              "      <td>5</td>\n",
              "      <td>2</td>\n",
              "      <td>two</td>\n",
              "      <td>2</td>\n",
              "    </tr>\n",
              "    <tr>\n",
              "      <th>6</th>\n",
              "      <td>6</td>\n",
              "      <td>1</td>\n",
              "      <td>two</td>\n",
              "      <td>3</td>\n",
              "    </tr>\n",
              "  </tbody>\n",
              "</table>\n",
              "</div>"
            ],
            "text/plain": [
              "   a  b    c  d\n",
              "0  0  7  one  0\n",
              "1  1  6  one  1\n",
              "2  2  5  one  2\n",
              "3  3  4  two  0\n",
              "4  4  3  two  1\n",
              "5  5  2  two  2\n",
              "6  6  1  two  3"
            ]
          },
          "metadata": {
            "tags": []
          },
          "execution_count": 16
        }
      ]
    },
    {
      "cell_type": "code",
      "metadata": {
        "id": "AAaeez25buGE"
      },
      "source": [
        "frame2 = frame.set_index(['c', 'd'])"
      ],
      "execution_count": null,
      "outputs": []
    },
    {
      "cell_type": "markdown",
      "metadata": {
        "id": "ArjK5PiNb1U0"
      },
      "source": [
        "## **8.2 데이터 합치기**"
      ]
    },
    {
      "cell_type": "markdown",
      "metadata": {
        "id": "lxGINUSZb7fD"
      },
      "source": [
        "### **8.2.1 데이터베이스 스타일로 DataFrame 합치기**"
      ]
    },
    {
      "cell_type": "code",
      "metadata": {
        "id": "csfJHsKSb4hn"
      },
      "source": [
        "df1 = pd.DataFrame({'key': ['b', 'b', 'a', 'c', 'a', 'a', 'b'], 'data1': range(7)})\r\n",
        "df2 = pd.DataFrame({'key': ['a', 'b', 'd'], 'data2': range(3)})"
      ],
      "execution_count": null,
      "outputs": []
    },
    {
      "cell_type": "code",
      "metadata": {
        "colab": {
          "base_uri": "https://localhost:8080/",
          "height": 225
        },
        "id": "S5P_mXmwcHgy",
        "outputId": "a5b199bb-7bf3-421e-ec8f-246bff32aec4"
      },
      "source": [
        "# merge 함수를 이용하여 두 데이터프레임에 대해 중복된 컬럼 이름을 키로 사용할 수 있다. \r\n",
        "\r\n",
        "pd.merge(df1, df2)"
      ],
      "execution_count": null,
      "outputs": [
        {
          "output_type": "execute_result",
          "data": {
            "text/html": [
              "<div>\n",
              "<style scoped>\n",
              "    .dataframe tbody tr th:only-of-type {\n",
              "        vertical-align: middle;\n",
              "    }\n",
              "\n",
              "    .dataframe tbody tr th {\n",
              "        vertical-align: top;\n",
              "    }\n",
              "\n",
              "    .dataframe thead th {\n",
              "        text-align: right;\n",
              "    }\n",
              "</style>\n",
              "<table border=\"1\" class=\"dataframe\">\n",
              "  <thead>\n",
              "    <tr style=\"text-align: right;\">\n",
              "      <th></th>\n",
              "      <th>key</th>\n",
              "      <th>data1</th>\n",
              "      <th>data2</th>\n",
              "    </tr>\n",
              "  </thead>\n",
              "  <tbody>\n",
              "    <tr>\n",
              "      <th>0</th>\n",
              "      <td>b</td>\n",
              "      <td>0</td>\n",
              "      <td>1</td>\n",
              "    </tr>\n",
              "    <tr>\n",
              "      <th>1</th>\n",
              "      <td>b</td>\n",
              "      <td>1</td>\n",
              "      <td>1</td>\n",
              "    </tr>\n",
              "    <tr>\n",
              "      <th>2</th>\n",
              "      <td>b</td>\n",
              "      <td>6</td>\n",
              "      <td>1</td>\n",
              "    </tr>\n",
              "    <tr>\n",
              "      <th>3</th>\n",
              "      <td>a</td>\n",
              "      <td>2</td>\n",
              "      <td>0</td>\n",
              "    </tr>\n",
              "    <tr>\n",
              "      <th>4</th>\n",
              "      <td>a</td>\n",
              "      <td>4</td>\n",
              "      <td>0</td>\n",
              "    </tr>\n",
              "    <tr>\n",
              "      <th>5</th>\n",
              "      <td>a</td>\n",
              "      <td>5</td>\n",
              "      <td>0</td>\n",
              "    </tr>\n",
              "  </tbody>\n",
              "</table>\n",
              "</div>"
            ],
            "text/plain": [
              "  key  data1  data2\n",
              "0   b      0      1\n",
              "1   b      1      1\n",
              "2   b      6      1\n",
              "3   a      2      0\n",
              "4   a      4      0\n",
              "5   a      5      0"
            ]
          },
          "metadata": {
            "tags": []
          },
          "execution_count": 19
        }
      ]
    },
    {
      "cell_type": "code",
      "metadata": {
        "colab": {
          "base_uri": "https://localhost:8080/",
          "height": 225
        },
        "id": "aBpySQ9pcldc",
        "outputId": "96af11f5-0de8-4ff0-df71-ed6c9155fa66"
      },
      "source": [
        "# 키 이름이 다를 경우 각각의 병합 index를 지정하여 사용할 수 있다. 겹치는 값 이외에 외부적인 값 또한 출력되게 하기 위해서는 옵션을 outer로 지정하여 모든 로우를 포함하는 결과를 반환할 수 있게 한다. \r\n",
        "\r\n",
        "df3 = pd.DataFrame({'lkey': ['b', 'b', 'a', 'c', 'a', 'a', 'b'], 'data1': range(7)})\r\n",
        "df4 = pd.DataFrame({'rkey': ['a', 'b', 'd'], 'data2': range(3)})\r\n",
        "pd.merge(df3, df4, left_on='lkey', right_on='rkey')"
      ],
      "execution_count": null,
      "outputs": [
        {
          "output_type": "execute_result",
          "data": {
            "text/html": [
              "<div>\n",
              "<style scoped>\n",
              "    .dataframe tbody tr th:only-of-type {\n",
              "        vertical-align: middle;\n",
              "    }\n",
              "\n",
              "    .dataframe tbody tr th {\n",
              "        vertical-align: top;\n",
              "    }\n",
              "\n",
              "    .dataframe thead th {\n",
              "        text-align: right;\n",
              "    }\n",
              "</style>\n",
              "<table border=\"1\" class=\"dataframe\">\n",
              "  <thead>\n",
              "    <tr style=\"text-align: right;\">\n",
              "      <th></th>\n",
              "      <th>lkey</th>\n",
              "      <th>data1</th>\n",
              "      <th>rkey</th>\n",
              "      <th>data2</th>\n",
              "    </tr>\n",
              "  </thead>\n",
              "  <tbody>\n",
              "    <tr>\n",
              "      <th>0</th>\n",
              "      <td>b</td>\n",
              "      <td>0</td>\n",
              "      <td>b</td>\n",
              "      <td>1</td>\n",
              "    </tr>\n",
              "    <tr>\n",
              "      <th>1</th>\n",
              "      <td>b</td>\n",
              "      <td>1</td>\n",
              "      <td>b</td>\n",
              "      <td>1</td>\n",
              "    </tr>\n",
              "    <tr>\n",
              "      <th>2</th>\n",
              "      <td>b</td>\n",
              "      <td>6</td>\n",
              "      <td>b</td>\n",
              "      <td>1</td>\n",
              "    </tr>\n",
              "    <tr>\n",
              "      <th>3</th>\n",
              "      <td>a</td>\n",
              "      <td>2</td>\n",
              "      <td>a</td>\n",
              "      <td>0</td>\n",
              "    </tr>\n",
              "    <tr>\n",
              "      <th>4</th>\n",
              "      <td>a</td>\n",
              "      <td>4</td>\n",
              "      <td>a</td>\n",
              "      <td>0</td>\n",
              "    </tr>\n",
              "    <tr>\n",
              "      <th>5</th>\n",
              "      <td>a</td>\n",
              "      <td>5</td>\n",
              "      <td>a</td>\n",
              "      <td>0</td>\n",
              "    </tr>\n",
              "  </tbody>\n",
              "</table>\n",
              "</div>"
            ],
            "text/plain": [
              "  lkey  data1 rkey  data2\n",
              "0    b      0    b      1\n",
              "1    b      1    b      1\n",
              "2    b      6    b      1\n",
              "3    a      2    a      0\n",
              "4    a      4    a      0\n",
              "5    a      5    a      0"
            ]
          },
          "metadata": {
            "tags": []
          },
          "execution_count": 20
        }
      ]
    },
    {
      "cell_type": "markdown",
      "metadata": {
        "id": "QG8LwL3EdfIi"
      },
      "source": [
        "### **8.2.2 색인 병합하기**"
      ]
    },
    {
      "cell_type": "markdown",
      "metadata": {
        "id": "Knfs6nv_dlJD"
      },
      "source": [
        "병합하려는 키가 데이터프레임의 색인인 경우 x_index = True 옵션을 사용하여 해당 색인을 병합키로 사용할 수 있다. "
      ]
    },
    {
      "cell_type": "code",
      "metadata": {
        "id": "HXUqk9D8dkWz"
      },
      "source": [
        "left1 = pd.DataFrame({'key': ['a', 'b', 'a', 'a', 'b', 'c'], 'value': range(6)})\r\n",
        "right1 = pd.DataFrame({'group_val': [3.5, 7]}, index=['a', 'b'])"
      ],
      "execution_count": null,
      "outputs": []
    },
    {
      "cell_type": "code",
      "metadata": {
        "id": "tP8W-6n_eVER"
      },
      "source": [
        "lefth = pd.DataFrame({'key1': ['Ohio', 'Ohio', 'Ohio','Nevada', 'Nevada'],\r\n",
        "                      'key2': [2000, 2001, 2002, 2001, 2002],\r\n",
        "                      'data': np.arange(5.)})\r\n",
        "righth = pd.DataFrame(np.arange(12).reshape((6, 2)),\r\n",
        "                      index=[['Nevada', 'Nevada', 'Ohio', 'Ohio','Ohio', 'Ohio'], [2001, 2000, 2000, 2000, 2001, 2002]],\r\n",
        "                      columns=['event1', 'event2'])"
      ],
      "execution_count": null,
      "outputs": []
    },
    {
      "cell_type": "code",
      "metadata": {
        "colab": {
          "base_uri": "https://localhost:8080/",
          "height": 254
        },
        "id": "9qoJLgaeelxI",
        "outputId": "71713141-c28d-443e-d823-4d16ef39cd28"
      },
      "source": [
        "pd.merge(lefth, righth, left_on = ['key1', 'key2'], right_index = True, how = 'outer')"
      ],
      "execution_count": null,
      "outputs": [
        {
          "output_type": "execute_result",
          "data": {
            "text/html": [
              "<div>\n",
              "<style scoped>\n",
              "    .dataframe tbody tr th:only-of-type {\n",
              "        vertical-align: middle;\n",
              "    }\n",
              "\n",
              "    .dataframe tbody tr th {\n",
              "        vertical-align: top;\n",
              "    }\n",
              "\n",
              "    .dataframe thead th {\n",
              "        text-align: right;\n",
              "    }\n",
              "</style>\n",
              "<table border=\"1\" class=\"dataframe\">\n",
              "  <thead>\n",
              "    <tr style=\"text-align: right;\">\n",
              "      <th></th>\n",
              "      <th>key1</th>\n",
              "      <th>key2</th>\n",
              "      <th>data</th>\n",
              "      <th>event1</th>\n",
              "      <th>event2</th>\n",
              "    </tr>\n",
              "  </thead>\n",
              "  <tbody>\n",
              "    <tr>\n",
              "      <th>0</th>\n",
              "      <td>Ohio</td>\n",
              "      <td>2000</td>\n",
              "      <td>0.0</td>\n",
              "      <td>4.0</td>\n",
              "      <td>5.0</td>\n",
              "    </tr>\n",
              "    <tr>\n",
              "      <th>0</th>\n",
              "      <td>Ohio</td>\n",
              "      <td>2000</td>\n",
              "      <td>0.0</td>\n",
              "      <td>6.0</td>\n",
              "      <td>7.0</td>\n",
              "    </tr>\n",
              "    <tr>\n",
              "      <th>1</th>\n",
              "      <td>Ohio</td>\n",
              "      <td>2001</td>\n",
              "      <td>1.0</td>\n",
              "      <td>8.0</td>\n",
              "      <td>9.0</td>\n",
              "    </tr>\n",
              "    <tr>\n",
              "      <th>2</th>\n",
              "      <td>Ohio</td>\n",
              "      <td>2002</td>\n",
              "      <td>2.0</td>\n",
              "      <td>10.0</td>\n",
              "      <td>11.0</td>\n",
              "    </tr>\n",
              "    <tr>\n",
              "      <th>3</th>\n",
              "      <td>Nevada</td>\n",
              "      <td>2001</td>\n",
              "      <td>3.0</td>\n",
              "      <td>0.0</td>\n",
              "      <td>1.0</td>\n",
              "    </tr>\n",
              "    <tr>\n",
              "      <th>4</th>\n",
              "      <td>Nevada</td>\n",
              "      <td>2002</td>\n",
              "      <td>4.0</td>\n",
              "      <td>NaN</td>\n",
              "      <td>NaN</td>\n",
              "    </tr>\n",
              "    <tr>\n",
              "      <th>4</th>\n",
              "      <td>Nevada</td>\n",
              "      <td>2000</td>\n",
              "      <td>NaN</td>\n",
              "      <td>2.0</td>\n",
              "      <td>3.0</td>\n",
              "    </tr>\n",
              "  </tbody>\n",
              "</table>\n",
              "</div>"
            ],
            "text/plain": [
              "     key1  key2  data  event1  event2\n",
              "0    Ohio  2000   0.0     4.0     5.0\n",
              "0    Ohio  2000   0.0     6.0     7.0\n",
              "1    Ohio  2001   1.0     8.0     9.0\n",
              "2    Ohio  2002   2.0    10.0    11.0\n",
              "3  Nevada  2001   3.0     0.0     1.0\n",
              "4  Nevada  2002   4.0     NaN     NaN\n",
              "4  Nevada  2000   NaN     2.0     3.0"
            ]
          },
          "metadata": {
            "tags": []
          },
          "execution_count": 25
        }
      ]
    },
    {
      "cell_type": "code",
      "metadata": {
        "id": "E3uHGaB4fOfV"
      },
      "source": [
        "left2 = pd.DataFrame([[1., 2.], [3., 4.], [5., 6.]],\r\n",
        "                     index=['a', 'c', 'e'],\r\n",
        "                     columns=['Ohio', 'Nevada'])\r\n",
        "right2 = pd.DataFrame([[7., 8.], [9., 10.], [11., 12.], [13, 14]],\r\n",
        "                      index=['b', 'c', 'd', 'e'],\r\n",
        "                      columns=['Missouri', 'Alabama'])"
      ],
      "execution_count": null,
      "outputs": []
    },
    {
      "cell_type": "code",
      "metadata": {
        "id": "4x9m45XGfaWp"
      },
      "source": [
        "# join 메서드는 칼럼이 겹치지 않으며 완전히 같거나 유사한 색인 구조를 가진 여러 데이터프레임 객체를 병합할 수 있다. "
      ],
      "execution_count": null,
      "outputs": []
    },
    {
      "cell_type": "code",
      "metadata": {
        "colab": {
          "base_uri": "https://localhost:8080/",
          "height": 225
        },
        "id": "mXs510GQfytO",
        "outputId": "8fb9e1bf-62e5-4a3e-db04-48ceac7e3750"
      },
      "source": [
        "left1.join(right1, on = 'key')"
      ],
      "execution_count": null,
      "outputs": [
        {
          "output_type": "execute_result",
          "data": {
            "text/html": [
              "<div>\n",
              "<style scoped>\n",
              "    .dataframe tbody tr th:only-of-type {\n",
              "        vertical-align: middle;\n",
              "    }\n",
              "\n",
              "    .dataframe tbody tr th {\n",
              "        vertical-align: top;\n",
              "    }\n",
              "\n",
              "    .dataframe thead th {\n",
              "        text-align: right;\n",
              "    }\n",
              "</style>\n",
              "<table border=\"1\" class=\"dataframe\">\n",
              "  <thead>\n",
              "    <tr style=\"text-align: right;\">\n",
              "      <th></th>\n",
              "      <th>key</th>\n",
              "      <th>value</th>\n",
              "      <th>group_val</th>\n",
              "    </tr>\n",
              "  </thead>\n",
              "  <tbody>\n",
              "    <tr>\n",
              "      <th>0</th>\n",
              "      <td>a</td>\n",
              "      <td>0</td>\n",
              "      <td>3.5</td>\n",
              "    </tr>\n",
              "    <tr>\n",
              "      <th>1</th>\n",
              "      <td>b</td>\n",
              "      <td>1</td>\n",
              "      <td>7.0</td>\n",
              "    </tr>\n",
              "    <tr>\n",
              "      <th>2</th>\n",
              "      <td>a</td>\n",
              "      <td>2</td>\n",
              "      <td>3.5</td>\n",
              "    </tr>\n",
              "    <tr>\n",
              "      <th>3</th>\n",
              "      <td>a</td>\n",
              "      <td>3</td>\n",
              "      <td>3.5</td>\n",
              "    </tr>\n",
              "    <tr>\n",
              "      <th>4</th>\n",
              "      <td>b</td>\n",
              "      <td>4</td>\n",
              "      <td>7.0</td>\n",
              "    </tr>\n",
              "    <tr>\n",
              "      <th>5</th>\n",
              "      <td>c</td>\n",
              "      <td>5</td>\n",
              "      <td>NaN</td>\n",
              "    </tr>\n",
              "  </tbody>\n",
              "</table>\n",
              "</div>"
            ],
            "text/plain": [
              "  key  value  group_val\n",
              "0   a      0        3.5\n",
              "1   b      1        7.0\n",
              "2   a      2        3.5\n",
              "3   a      3        3.5\n",
              "4   b      4        7.0\n",
              "5   c      5        NaN"
            ]
          },
          "metadata": {
            "tags": []
          },
          "execution_count": 28
        }
      ]
    },
    {
      "cell_type": "markdown",
      "metadata": {
        "id": "UaXHUBa3fx-G"
      },
      "source": [
        "### **8.2.3 축 따라 이어붙이기**"
      ]
    },
    {
      "cell_type": "code",
      "metadata": {
        "id": "02YKZDd6gERN"
      },
      "source": [
        "arr =  np.arange(12).reshape((3,4))"
      ],
      "execution_count": null,
      "outputs": []
    },
    {
      "cell_type": "code",
      "metadata": {
        "colab": {
          "base_uri": "https://localhost:8080/"
        },
        "id": "hv546sb1gNK7",
        "outputId": "bb85e3e6-c0a0-43df-a812-3a421e3609f2"
      },
      "source": [
        "np.concatenate([arr, arr], axis = 1)\r\n",
        "\r\n",
        "# pandas에서는 concat 함수의 옵션을 조정해 교집합 등을 구할 수 있으며 축 기준으로 병합 가능하다. "
      ],
      "execution_count": null,
      "outputs": [
        {
          "output_type": "execute_result",
          "data": {
            "text/plain": [
              "array([[ 0,  1,  2,  3,  0,  1,  2,  3],\n",
              "       [ 4,  5,  6,  7,  4,  5,  6,  7],\n",
              "       [ 8,  9, 10, 11,  8,  9, 10, 11]])"
            ]
          },
          "metadata": {
            "tags": []
          },
          "execution_count": 31
        }
      ]
    },
    {
      "cell_type": "code",
      "metadata": {
        "id": "pwJVdAGRgvGW"
      },
      "source": [
        "s1 = pd.Series([0, 1], index=['a', 'b'])\r\n",
        "s2 = pd.Series([2, 3, 4], index=['c', 'd', 'e'])\r\n",
        "s3 = pd.Series([5, 6], index=['f', 'g'])"
      ],
      "execution_count": null,
      "outputs": []
    },
    {
      "cell_type": "code",
      "metadata": {
        "colab": {
          "base_uri": "https://localhost:8080/",
          "height": 136
        },
        "id": "h1z-8yh2g189",
        "outputId": "873cae8c-8d78-41fb-c9d3-10cee320fc52"
      },
      "source": [
        "result = pd.concat([s1, s1, s3], keys=['one', 'two', 'three'])\r\n",
        "result.unstack()"
      ],
      "execution_count": null,
      "outputs": [
        {
          "output_type": "execute_result",
          "data": {
            "text/html": [
              "<div>\n",
              "<style scoped>\n",
              "    .dataframe tbody tr th:only-of-type {\n",
              "        vertical-align: middle;\n",
              "    }\n",
              "\n",
              "    .dataframe tbody tr th {\n",
              "        vertical-align: top;\n",
              "    }\n",
              "\n",
              "    .dataframe thead th {\n",
              "        text-align: right;\n",
              "    }\n",
              "</style>\n",
              "<table border=\"1\" class=\"dataframe\">\n",
              "  <thead>\n",
              "    <tr style=\"text-align: right;\">\n",
              "      <th></th>\n",
              "      <th>a</th>\n",
              "      <th>b</th>\n",
              "      <th>f</th>\n",
              "      <th>g</th>\n",
              "    </tr>\n",
              "  </thead>\n",
              "  <tbody>\n",
              "    <tr>\n",
              "      <th>one</th>\n",
              "      <td>0.0</td>\n",
              "      <td>1.0</td>\n",
              "      <td>NaN</td>\n",
              "      <td>NaN</td>\n",
              "    </tr>\n",
              "    <tr>\n",
              "      <th>two</th>\n",
              "      <td>0.0</td>\n",
              "      <td>1.0</td>\n",
              "      <td>NaN</td>\n",
              "      <td>NaN</td>\n",
              "    </tr>\n",
              "    <tr>\n",
              "      <th>three</th>\n",
              "      <td>NaN</td>\n",
              "      <td>NaN</td>\n",
              "      <td>5.0</td>\n",
              "      <td>6.0</td>\n",
              "    </tr>\n",
              "  </tbody>\n",
              "</table>\n",
              "</div>"
            ],
            "text/plain": [
              "         a    b    f    g\n",
              "one    0.0  1.0  NaN  NaN\n",
              "two    0.0  1.0  NaN  NaN\n",
              "three  NaN  NaN  5.0  6.0"
            ]
          },
          "metadata": {
            "tags": []
          },
          "execution_count": 34
        }
      ]
    },
    {
      "cell_type": "code",
      "metadata": {
        "id": "hfM3V_38hO1n"
      },
      "source": [
        "df1 = pd.DataFrame(np.arange(6).reshape(3, 2), index=['a', 'b', 'c'],\r\n",
        "                   columns=['one', 'two'])\r\n",
        "df2 = pd.DataFrame(5 + np.arange(4).reshape(2, 2), index=['a', 'c'],\r\n",
        "                   columns=['three', 'four'])"
      ],
      "execution_count": null,
      "outputs": []
    },
    {
      "cell_type": "code",
      "metadata": {
        "colab": {
          "base_uri": "https://localhost:8080/",
          "height": 166
        },
        "id": "FawJu0xohtAR",
        "outputId": "bc8b6049-6e8f-4aff-d715-b1f0c6e5b020"
      },
      "source": [
        "# 리스트 대신 객체의 사전을 넘길 경우 사전의 키가 keys 옵션으로 사용된다. \r\n",
        "\r\n",
        "pd.concat([df1, df2], axis = 1, keys = ['level1', 'level2'])"
      ],
      "execution_count": null,
      "outputs": [
        {
          "output_type": "execute_result",
          "data": {
            "text/html": [
              "<div>\n",
              "<style scoped>\n",
              "    .dataframe tbody tr th:only-of-type {\n",
              "        vertical-align: middle;\n",
              "    }\n",
              "\n",
              "    .dataframe tbody tr th {\n",
              "        vertical-align: top;\n",
              "    }\n",
              "\n",
              "    .dataframe thead tr th {\n",
              "        text-align: left;\n",
              "    }\n",
              "</style>\n",
              "<table border=\"1\" class=\"dataframe\">\n",
              "  <thead>\n",
              "    <tr>\n",
              "      <th></th>\n",
              "      <th colspan=\"2\" halign=\"left\">level1</th>\n",
              "      <th colspan=\"2\" halign=\"left\">level2</th>\n",
              "    </tr>\n",
              "    <tr>\n",
              "      <th></th>\n",
              "      <th>one</th>\n",
              "      <th>two</th>\n",
              "      <th>three</th>\n",
              "      <th>four</th>\n",
              "    </tr>\n",
              "  </thead>\n",
              "  <tbody>\n",
              "    <tr>\n",
              "      <th>a</th>\n",
              "      <td>0</td>\n",
              "      <td>1</td>\n",
              "      <td>5.0</td>\n",
              "      <td>6.0</td>\n",
              "    </tr>\n",
              "    <tr>\n",
              "      <th>b</th>\n",
              "      <td>2</td>\n",
              "      <td>3</td>\n",
              "      <td>NaN</td>\n",
              "      <td>NaN</td>\n",
              "    </tr>\n",
              "    <tr>\n",
              "      <th>c</th>\n",
              "      <td>4</td>\n",
              "      <td>5</td>\n",
              "      <td>7.0</td>\n",
              "      <td>8.0</td>\n",
              "    </tr>\n",
              "  </tbody>\n",
              "</table>\n",
              "</div>"
            ],
            "text/plain": [
              "  level1     level2     \n",
              "     one two  three four\n",
              "a      0   1    5.0  6.0\n",
              "b      2   3    NaN  NaN\n",
              "c      4   5    7.0  8.0"
            ]
          },
          "metadata": {
            "tags": []
          },
          "execution_count": 36
        }
      ]
    },
    {
      "cell_type": "markdown",
      "metadata": {
        "id": "3DfYerILiIDm"
      },
      "source": [
        "### **8.2.4 겹치는 데이터 합치기**"
      ]
    },
    {
      "cell_type": "markdown",
      "metadata": {
        "id": "qCFSWWjliYHm"
      },
      "source": [
        "색인이 일부 겹치거나 전체가 겹치는 경우 병합이나 이어붙이기가 불가능하다. 이때는 series 객체의 combine_first 메서드를 사용해 정렬할 수 있다. "
      ]
    },
    {
      "cell_type": "code",
      "metadata": {
        "id": "aMWf2jxxiHFp"
      },
      "source": [
        "a = pd.Series([np.nan, 2.5, np.nan, 3.5, 4.5, np.nan],\r\n",
        "              index=['f', 'e', 'd', 'c', 'b', 'a'])\r\n",
        "b = pd.Series(np.arange(len(a), dtype=np.float64),\r\n",
        "              index=['f', 'e', 'd', 'c', 'b', 'a'])\r\n",
        "b[-1] = np.nan"
      ],
      "execution_count": null,
      "outputs": []
    },
    {
      "cell_type": "code",
      "metadata": {
        "colab": {
          "base_uri": "https://localhost:8080/"
        },
        "id": "qGnsHGGUixXI",
        "outputId": "af0b193e-c2ed-48ef-f2a4-2b52228e2df2"
      },
      "source": [
        "np.where(pd.isnull(a), b, a) # b를 기준으로 데이터를 채운다.  "
      ],
      "execution_count": null,
      "outputs": [
        {
          "output_type": "execute_result",
          "data": {
            "text/plain": [
              "array([0. , 2.5, 2. , 3.5, 4.5, nan])"
            ]
          },
          "metadata": {
            "tags": []
          },
          "execution_count": 38
        }
      ]
    },
    {
      "cell_type": "code",
      "metadata": {
        "id": "ZNPJlew5jRle"
      },
      "source": [
        "df1 = pd.DataFrame({'a': [1., np.nan, 5., np.nan],\r\n",
        "                    'b': [np.nan, 2., np.nan, 6.],\r\n",
        "                    'c': range(2, 18, 4)})\r\n",
        "df2 = pd.DataFrame({'a': [5., 4., np.nan, 3., 7.],\r\n",
        "                    'b': [np.nan, 3., 4., 6., 8.]})"
      ],
      "execution_count": null,
      "outputs": []
    },
    {
      "cell_type": "code",
      "metadata": {
        "colab": {
          "base_uri": "https://localhost:8080/",
          "height": 204
        },
        "id": "BwDAFV2Ojdiy",
        "outputId": "3c592d52-0cda-41f0-ef47-88ab72b3733a"
      },
      "source": [
        "df1.combine_first(df2)"
      ],
      "execution_count": null,
      "outputs": [
        {
          "output_type": "execute_result",
          "data": {
            "text/html": [
              "<div>\n",
              "<style scoped>\n",
              "    .dataframe tbody tr th:only-of-type {\n",
              "        vertical-align: middle;\n",
              "    }\n",
              "\n",
              "    .dataframe tbody tr th {\n",
              "        vertical-align: top;\n",
              "    }\n",
              "\n",
              "    .dataframe thead th {\n",
              "        text-align: right;\n",
              "    }\n",
              "</style>\n",
              "<table border=\"1\" class=\"dataframe\">\n",
              "  <thead>\n",
              "    <tr style=\"text-align: right;\">\n",
              "      <th></th>\n",
              "      <th>a</th>\n",
              "      <th>b</th>\n",
              "      <th>c</th>\n",
              "    </tr>\n",
              "  </thead>\n",
              "  <tbody>\n",
              "    <tr>\n",
              "      <th>0</th>\n",
              "      <td>1.0</td>\n",
              "      <td>NaN</td>\n",
              "      <td>2.0</td>\n",
              "    </tr>\n",
              "    <tr>\n",
              "      <th>1</th>\n",
              "      <td>4.0</td>\n",
              "      <td>2.0</td>\n",
              "      <td>6.0</td>\n",
              "    </tr>\n",
              "    <tr>\n",
              "      <th>2</th>\n",
              "      <td>5.0</td>\n",
              "      <td>4.0</td>\n",
              "      <td>10.0</td>\n",
              "    </tr>\n",
              "    <tr>\n",
              "      <th>3</th>\n",
              "      <td>3.0</td>\n",
              "      <td>6.0</td>\n",
              "      <td>14.0</td>\n",
              "    </tr>\n",
              "    <tr>\n",
              "      <th>4</th>\n",
              "      <td>7.0</td>\n",
              "      <td>8.0</td>\n",
              "      <td>NaN</td>\n",
              "    </tr>\n",
              "  </tbody>\n",
              "</table>\n",
              "</div>"
            ],
            "text/plain": [
              "     a    b     c\n",
              "0  1.0  NaN   2.0\n",
              "1  4.0  2.0   6.0\n",
              "2  5.0  4.0  10.0\n",
              "3  3.0  6.0  14.0\n",
              "4  7.0  8.0   NaN"
            ]
          },
          "metadata": {
            "tags": []
          },
          "execution_count": 40
        }
      ]
    },
    {
      "cell_type": "markdown",
      "metadata": {
        "id": "wn50I5ccfaAK"
      },
      "source": [
        "## **8.3 재형성과 피벗**"
      ]
    },
    {
      "cell_type": "markdown",
      "metadata": {
        "id": "U2KTsvuLlONk"
      },
      "source": [
        "### **8.3.1 계층적 색인으로 재형성하기**\r\n",
        "\r\n",
        "- stack: 데이터의 칼럼을 로우로 피벗(회전) 시킨다. \r\n",
        "- unstack: 로우를 칼럼으로 피벗시킨다. "
      ]
    },
    {
      "cell_type": "code",
      "metadata": {
        "id": "m3VFFK_3lfG-"
      },
      "source": [
        "data = pd.DataFrame(np.arange(6).reshape((2, 3)),\r\n",
        "                    index=pd.Index(['Ohio', 'Colorado'], name='state'),\r\n",
        "                    columns=pd.Index(['one', 'two', 'three'],\r\n",
        "                    name='number'))"
      ],
      "execution_count": null,
      "outputs": []
    },
    {
      "cell_type": "code",
      "metadata": {
        "colab": {
          "base_uri": "https://localhost:8080/"
        },
        "id": "udPeRVmwllHO",
        "outputId": "93f00776-ec16-4195-88a5-8ecd4bf1186b"
      },
      "source": [
        "# 칼럼이 로우로 피벗되어 Series 객체를 반환한다. 또한 누락된 데이터를 자동으로 걸러내기에 연산을 쉽게 복구할 수 있다. \r\n",
        "\r\n",
        "data.stack()"
      ],
      "execution_count": null,
      "outputs": [
        {
          "output_type": "execute_result",
          "data": {
            "text/plain": [
              "state     number\n",
              "Ohio      one       0\n",
              "          two       1\n",
              "          three     2\n",
              "Colorado  one       3\n",
              "          two       4\n",
              "          three     5\n",
              "dtype: int64"
            ]
          },
          "metadata": {
            "tags": []
          },
          "execution_count": 42
        }
      ]
    },
    {
      "cell_type": "code",
      "metadata": {
        "colab": {
          "base_uri": "https://localhost:8080/",
          "height": 173
        },
        "id": "VIOcS1cGpC13",
        "outputId": "b91c2885-b604-45f4-aaeb-a63f23083d4a"
      },
      "source": [
        "result = data.stack()\r\n",
        "\r\n",
        "# 데이터를 unstack하면 레벨은 결과에서 가장 낮은 단계가 된다. \r\n",
        "\r\n",
        "result.unstack(0)"
      ],
      "execution_count": null,
      "outputs": [
        {
          "output_type": "execute_result",
          "data": {
            "text/html": [
              "<div>\n",
              "<style scoped>\n",
              "    .dataframe tbody tr th:only-of-type {\n",
              "        vertical-align: middle;\n",
              "    }\n",
              "\n",
              "    .dataframe tbody tr th {\n",
              "        vertical-align: top;\n",
              "    }\n",
              "\n",
              "    .dataframe thead th {\n",
              "        text-align: right;\n",
              "    }\n",
              "</style>\n",
              "<table border=\"1\" class=\"dataframe\">\n",
              "  <thead>\n",
              "    <tr style=\"text-align: right;\">\n",
              "      <th>state</th>\n",
              "      <th>Ohio</th>\n",
              "      <th>Colorado</th>\n",
              "    </tr>\n",
              "    <tr>\n",
              "      <th>number</th>\n",
              "      <th></th>\n",
              "      <th></th>\n",
              "    </tr>\n",
              "  </thead>\n",
              "  <tbody>\n",
              "    <tr>\n",
              "      <th>one</th>\n",
              "      <td>0</td>\n",
              "      <td>3</td>\n",
              "    </tr>\n",
              "    <tr>\n",
              "      <th>two</th>\n",
              "      <td>1</td>\n",
              "      <td>4</td>\n",
              "    </tr>\n",
              "    <tr>\n",
              "      <th>three</th>\n",
              "      <td>2</td>\n",
              "      <td>5</td>\n",
              "    </tr>\n",
              "  </tbody>\n",
              "</table>\n",
              "</div>"
            ],
            "text/plain": [
              "state   Ohio  Colorado\n",
              "number                \n",
              "one        0         3\n",
              "two        1         4\n",
              "three      2         5"
            ]
          },
          "metadata": {
            "tags": []
          },
          "execution_count": 43
        }
      ]
    },
    {
      "cell_type": "code",
      "metadata": {
        "id": "-YC30kFmpfS-"
      },
      "source": [
        "df = pd.DataFrame({'left': result, 'right': result + 5}, columns=pd.Index(['left', 'right'], name='side'))"
      ],
      "execution_count": null,
      "outputs": []
    },
    {
      "cell_type": "code",
      "metadata": {
        "colab": {
          "base_uri": "https://localhost:8080/",
          "height": 266
        },
        "id": "5sCQrzwypjGA",
        "outputId": "2b02b0f2-ab8b-477c-8e82-866e3d327036"
      },
      "source": [
        "df.unstack('state').stack('side')"
      ],
      "execution_count": null,
      "outputs": [
        {
          "output_type": "execute_result",
          "data": {
            "text/html": [
              "<div>\n",
              "<style scoped>\n",
              "    .dataframe tbody tr th:only-of-type {\n",
              "        vertical-align: middle;\n",
              "    }\n",
              "\n",
              "    .dataframe tbody tr th {\n",
              "        vertical-align: top;\n",
              "    }\n",
              "\n",
              "    .dataframe thead th {\n",
              "        text-align: right;\n",
              "    }\n",
              "</style>\n",
              "<table border=\"1\" class=\"dataframe\">\n",
              "  <thead>\n",
              "    <tr style=\"text-align: right;\">\n",
              "      <th></th>\n",
              "      <th>state</th>\n",
              "      <th>Colorado</th>\n",
              "      <th>Ohio</th>\n",
              "    </tr>\n",
              "    <tr>\n",
              "      <th>number</th>\n",
              "      <th>side</th>\n",
              "      <th></th>\n",
              "      <th></th>\n",
              "    </tr>\n",
              "  </thead>\n",
              "  <tbody>\n",
              "    <tr>\n",
              "      <th rowspan=\"2\" valign=\"top\">one</th>\n",
              "      <th>left</th>\n",
              "      <td>3</td>\n",
              "      <td>0</td>\n",
              "    </tr>\n",
              "    <tr>\n",
              "      <th>right</th>\n",
              "      <td>8</td>\n",
              "      <td>5</td>\n",
              "    </tr>\n",
              "    <tr>\n",
              "      <th rowspan=\"2\" valign=\"top\">two</th>\n",
              "      <th>left</th>\n",
              "      <td>4</td>\n",
              "      <td>1</td>\n",
              "    </tr>\n",
              "    <tr>\n",
              "      <th>right</th>\n",
              "      <td>9</td>\n",
              "      <td>6</td>\n",
              "    </tr>\n",
              "    <tr>\n",
              "      <th rowspan=\"2\" valign=\"top\">three</th>\n",
              "      <th>left</th>\n",
              "      <td>5</td>\n",
              "      <td>2</td>\n",
              "    </tr>\n",
              "    <tr>\n",
              "      <th>right</th>\n",
              "      <td>10</td>\n",
              "      <td>7</td>\n",
              "    </tr>\n",
              "  </tbody>\n",
              "</table>\n",
              "</div>"
            ],
            "text/plain": [
              "state         Colorado  Ohio\n",
              "number side                 \n",
              "one    left          3     0\n",
              "       right         8     5\n",
              "two    left          4     1\n",
              "       right         9     6\n",
              "three  left          5     2\n",
              "       right        10     7"
            ]
          },
          "metadata": {
            "tags": []
          },
          "execution_count": 45
        }
      ]
    },
    {
      "cell_type": "markdown",
      "metadata": {
        "id": "MuFPFRJWp-ch"
      },
      "source": [
        "### **8.3.2 긴 형식에서 넓은 형식으로 피벗하기** "
      ]
    },
    {
      "cell_type": "markdown",
      "metadata": {
        "id": "jKMh3_oAqEah"
      },
      "source": [
        "데이터 베이스나 csv 파일에서 여러 개의 시계열 데이터를 저장하는 방법은 시간 순서대로 나열하는 것이다. 긴 형식의 경우 여러 시계열이나 둘 이상의 키를 가지고 있는 다른 관측데이터에서 사용한다. 각 로우는 단일 관측치를 나타낸다. \r\n",
        "\r\n",
        "MySQL 같은 관계형 데이터베이스의 경우 고정된 스키마에 데이터를 저장하여 데이터를 편집한다. 컬럼은 기본키가 되어 관계 무결성의 성질을 만족하게하며 조인 연산 등을 가능하게 한다. 길이가 긴 형식의 경우 작업에 용이하지 않을 수 있어서 색인된 컬럼을 선호하는 경우도 존재한다. "
      ]
    },
    {
      "cell_type": "code",
      "metadata": {
        "id": "Z0j631R6qCa0"
      },
      "source": [
        "data = pd.read_csv('/content/macrodata.csv')"
      ],
      "execution_count": null,
      "outputs": []
    },
    {
      "cell_type": "code",
      "metadata": {
        "id": "YRYT49PTqVvr"
      },
      "source": [
        "periods = pd.PeriodIndex(year=data.year, quarter=data.quarter,name='date')\r\n",
        "columns = pd.Index(['realgdp', 'infl', 'unemp'], name='item')\r\n",
        "data = data.reindex(columns=columns)\r\n",
        "data.index = periods.to_timestamp('D', 'end')\r\n",
        "ldata = data.stack().reset_index().rename(columns={0: 'value'})"
      ],
      "execution_count": null,
      "outputs": []
    },
    {
      "cell_type": "code",
      "metadata": {
        "colab": {
          "base_uri": "https://localhost:8080/",
          "height": 359
        },
        "id": "hXF9iYOZqawz",
        "outputId": "9f654ed1-974b-490d-fb8a-ef74075f3156"
      },
      "source": [
        "ldata[:10]"
      ],
      "execution_count": null,
      "outputs": [
        {
          "output_type": "execute_result",
          "data": {
            "text/html": [
              "<div>\n",
              "<style scoped>\n",
              "    .dataframe tbody tr th:only-of-type {\n",
              "        vertical-align: middle;\n",
              "    }\n",
              "\n",
              "    .dataframe tbody tr th {\n",
              "        vertical-align: top;\n",
              "    }\n",
              "\n",
              "    .dataframe thead th {\n",
              "        text-align: right;\n",
              "    }\n",
              "</style>\n",
              "<table border=\"1\" class=\"dataframe\">\n",
              "  <thead>\n",
              "    <tr style=\"text-align: right;\">\n",
              "      <th></th>\n",
              "      <th>date</th>\n",
              "      <th>item</th>\n",
              "      <th>value</th>\n",
              "    </tr>\n",
              "  </thead>\n",
              "  <tbody>\n",
              "    <tr>\n",
              "      <th>0</th>\n",
              "      <td>1959-03-31 23:59:59.999999999</td>\n",
              "      <td>realgdp</td>\n",
              "      <td>2710.349</td>\n",
              "    </tr>\n",
              "    <tr>\n",
              "      <th>1</th>\n",
              "      <td>1959-03-31 23:59:59.999999999</td>\n",
              "      <td>infl</td>\n",
              "      <td>0.000</td>\n",
              "    </tr>\n",
              "    <tr>\n",
              "      <th>2</th>\n",
              "      <td>1959-03-31 23:59:59.999999999</td>\n",
              "      <td>unemp</td>\n",
              "      <td>5.800</td>\n",
              "    </tr>\n",
              "    <tr>\n",
              "      <th>3</th>\n",
              "      <td>1959-06-30 23:59:59.999999999</td>\n",
              "      <td>realgdp</td>\n",
              "      <td>2778.801</td>\n",
              "    </tr>\n",
              "    <tr>\n",
              "      <th>4</th>\n",
              "      <td>1959-06-30 23:59:59.999999999</td>\n",
              "      <td>infl</td>\n",
              "      <td>2.340</td>\n",
              "    </tr>\n",
              "    <tr>\n",
              "      <th>5</th>\n",
              "      <td>1959-06-30 23:59:59.999999999</td>\n",
              "      <td>unemp</td>\n",
              "      <td>5.100</td>\n",
              "    </tr>\n",
              "    <tr>\n",
              "      <th>6</th>\n",
              "      <td>1959-09-30 23:59:59.999999999</td>\n",
              "      <td>realgdp</td>\n",
              "      <td>2775.488</td>\n",
              "    </tr>\n",
              "    <tr>\n",
              "      <th>7</th>\n",
              "      <td>1959-09-30 23:59:59.999999999</td>\n",
              "      <td>infl</td>\n",
              "      <td>2.740</td>\n",
              "    </tr>\n",
              "    <tr>\n",
              "      <th>8</th>\n",
              "      <td>1959-09-30 23:59:59.999999999</td>\n",
              "      <td>unemp</td>\n",
              "      <td>5.300</td>\n",
              "    </tr>\n",
              "    <tr>\n",
              "      <th>9</th>\n",
              "      <td>1959-12-31 23:59:59.999999999</td>\n",
              "      <td>realgdp</td>\n",
              "      <td>2785.204</td>\n",
              "    </tr>\n",
              "  </tbody>\n",
              "</table>\n",
              "</div>"
            ],
            "text/plain": [
              "                           date     item     value\n",
              "0 1959-03-31 23:59:59.999999999  realgdp  2710.349\n",
              "1 1959-03-31 23:59:59.999999999     infl     0.000\n",
              "2 1959-03-31 23:59:59.999999999    unemp     5.800\n",
              "3 1959-06-30 23:59:59.999999999  realgdp  2778.801\n",
              "4 1959-06-30 23:59:59.999999999     infl     2.340\n",
              "5 1959-06-30 23:59:59.999999999    unemp     5.100\n",
              "6 1959-09-30 23:59:59.999999999  realgdp  2775.488\n",
              "7 1959-09-30 23:59:59.999999999     infl     2.740\n",
              "8 1959-09-30 23:59:59.999999999    unemp     5.300\n",
              "9 1959-12-31 23:59:59.999999999  realgdp  2785.204"
            ]
          },
          "metadata": {
            "tags": []
          },
          "execution_count": 48
        }
      ]
    },
    {
      "cell_type": "code",
      "metadata": {
        "colab": {
          "base_uri": "https://localhost:8080/",
          "height": 450
        },
        "id": "mRAqZ2nUrVu4",
        "outputId": "3b2d0e62-e59c-40dd-a59a-6caacd6360ca"
      },
      "source": [
        "pivoted = ldata.pivot('date', 'item', 'value')\r\n",
        "pivoted"
      ],
      "execution_count": null,
      "outputs": [
        {
          "output_type": "execute_result",
          "data": {
            "text/html": [
              "<div>\n",
              "<style scoped>\n",
              "    .dataframe tbody tr th:only-of-type {\n",
              "        vertical-align: middle;\n",
              "    }\n",
              "\n",
              "    .dataframe tbody tr th {\n",
              "        vertical-align: top;\n",
              "    }\n",
              "\n",
              "    .dataframe thead th {\n",
              "        text-align: right;\n",
              "    }\n",
              "</style>\n",
              "<table border=\"1\" class=\"dataframe\">\n",
              "  <thead>\n",
              "    <tr style=\"text-align: right;\">\n",
              "      <th>item</th>\n",
              "      <th>infl</th>\n",
              "      <th>realgdp</th>\n",
              "      <th>unemp</th>\n",
              "    </tr>\n",
              "    <tr>\n",
              "      <th>date</th>\n",
              "      <th></th>\n",
              "      <th></th>\n",
              "      <th></th>\n",
              "    </tr>\n",
              "  </thead>\n",
              "  <tbody>\n",
              "    <tr>\n",
              "      <th>1959-03-31 23:59:59.999999999</th>\n",
              "      <td>0.00</td>\n",
              "      <td>2710.349</td>\n",
              "      <td>5.8</td>\n",
              "    </tr>\n",
              "    <tr>\n",
              "      <th>1959-06-30 23:59:59.999999999</th>\n",
              "      <td>2.34</td>\n",
              "      <td>2778.801</td>\n",
              "      <td>5.1</td>\n",
              "    </tr>\n",
              "    <tr>\n",
              "      <th>1959-09-30 23:59:59.999999999</th>\n",
              "      <td>2.74</td>\n",
              "      <td>2775.488</td>\n",
              "      <td>5.3</td>\n",
              "    </tr>\n",
              "    <tr>\n",
              "      <th>1959-12-31 23:59:59.999999999</th>\n",
              "      <td>0.27</td>\n",
              "      <td>2785.204</td>\n",
              "      <td>5.6</td>\n",
              "    </tr>\n",
              "    <tr>\n",
              "      <th>1960-03-31 23:59:59.999999999</th>\n",
              "      <td>2.31</td>\n",
              "      <td>2847.699</td>\n",
              "      <td>5.2</td>\n",
              "    </tr>\n",
              "    <tr>\n",
              "      <th>...</th>\n",
              "      <td>...</td>\n",
              "      <td>...</td>\n",
              "      <td>...</td>\n",
              "    </tr>\n",
              "    <tr>\n",
              "      <th>2008-09-30 23:59:59.999999999</th>\n",
              "      <td>-3.16</td>\n",
              "      <td>13324.600</td>\n",
              "      <td>6.0</td>\n",
              "    </tr>\n",
              "    <tr>\n",
              "      <th>2008-12-31 23:59:59.999999999</th>\n",
              "      <td>-8.79</td>\n",
              "      <td>13141.920</td>\n",
              "      <td>6.9</td>\n",
              "    </tr>\n",
              "    <tr>\n",
              "      <th>2009-03-31 23:59:59.999999999</th>\n",
              "      <td>0.94</td>\n",
              "      <td>12925.410</td>\n",
              "      <td>8.1</td>\n",
              "    </tr>\n",
              "    <tr>\n",
              "      <th>2009-06-30 23:59:59.999999999</th>\n",
              "      <td>3.37</td>\n",
              "      <td>12901.504</td>\n",
              "      <td>9.2</td>\n",
              "    </tr>\n",
              "    <tr>\n",
              "      <th>2009-09-30 23:59:59.999999999</th>\n",
              "      <td>3.56</td>\n",
              "      <td>12990.341</td>\n",
              "      <td>9.6</td>\n",
              "    </tr>\n",
              "  </tbody>\n",
              "</table>\n",
              "<p>203 rows × 3 columns</p>\n",
              "</div>"
            ],
            "text/plain": [
              "item                           infl    realgdp  unemp\n",
              "date                                                 \n",
              "1959-03-31 23:59:59.999999999  0.00   2710.349    5.8\n",
              "1959-06-30 23:59:59.999999999  2.34   2778.801    5.1\n",
              "1959-09-30 23:59:59.999999999  2.74   2775.488    5.3\n",
              "1959-12-31 23:59:59.999999999  0.27   2785.204    5.6\n",
              "1960-03-31 23:59:59.999999999  2.31   2847.699    5.2\n",
              "...                             ...        ...    ...\n",
              "2008-09-30 23:59:59.999999999 -3.16  13324.600    6.0\n",
              "2008-12-31 23:59:59.999999999 -8.79  13141.920    6.9\n",
              "2009-03-31 23:59:59.999999999  0.94  12925.410    8.1\n",
              "2009-06-30 23:59:59.999999999  3.37  12901.504    9.2\n",
              "2009-09-30 23:59:59.999999999  3.56  12990.341    9.6\n",
              "\n",
              "[203 rows x 3 columns]"
            ]
          },
          "metadata": {
            "tags": []
          },
          "execution_count": 51
        }
      ]
    },
    {
      "cell_type": "code",
      "metadata": {
        "colab": {
          "base_uri": "https://localhost:8080/",
          "height": 359
        },
        "id": "bfCZ-Wh1rjLe",
        "outputId": "e95b60b1-5db4-47fb-e7f1-39e0e22bfcda"
      },
      "source": [
        "ldata['value2'] = np.random.randn(len(ldata))\r\n",
        "ldata[:10]"
      ],
      "execution_count": null,
      "outputs": [
        {
          "output_type": "execute_result",
          "data": {
            "text/html": [
              "<div>\n",
              "<style scoped>\n",
              "    .dataframe tbody tr th:only-of-type {\n",
              "        vertical-align: middle;\n",
              "    }\n",
              "\n",
              "    .dataframe tbody tr th {\n",
              "        vertical-align: top;\n",
              "    }\n",
              "\n",
              "    .dataframe thead th {\n",
              "        text-align: right;\n",
              "    }\n",
              "</style>\n",
              "<table border=\"1\" class=\"dataframe\">\n",
              "  <thead>\n",
              "    <tr style=\"text-align: right;\">\n",
              "      <th></th>\n",
              "      <th>date</th>\n",
              "      <th>item</th>\n",
              "      <th>value</th>\n",
              "      <th>value2</th>\n",
              "    </tr>\n",
              "  </thead>\n",
              "  <tbody>\n",
              "    <tr>\n",
              "      <th>0</th>\n",
              "      <td>1959-03-31 23:59:59.999999999</td>\n",
              "      <td>realgdp</td>\n",
              "      <td>2710.349</td>\n",
              "      <td>0.022074</td>\n",
              "    </tr>\n",
              "    <tr>\n",
              "      <th>1</th>\n",
              "      <td>1959-03-31 23:59:59.999999999</td>\n",
              "      <td>infl</td>\n",
              "      <td>0.000</td>\n",
              "      <td>-1.369179</td>\n",
              "    </tr>\n",
              "    <tr>\n",
              "      <th>2</th>\n",
              "      <td>1959-03-31 23:59:59.999999999</td>\n",
              "      <td>unemp</td>\n",
              "      <td>5.800</td>\n",
              "      <td>0.887204</td>\n",
              "    </tr>\n",
              "    <tr>\n",
              "      <th>3</th>\n",
              "      <td>1959-06-30 23:59:59.999999999</td>\n",
              "      <td>realgdp</td>\n",
              "      <td>2778.801</td>\n",
              "      <td>0.014331</td>\n",
              "    </tr>\n",
              "    <tr>\n",
              "      <th>4</th>\n",
              "      <td>1959-06-30 23:59:59.999999999</td>\n",
              "      <td>infl</td>\n",
              "      <td>2.340</td>\n",
              "      <td>-0.074155</td>\n",
              "    </tr>\n",
              "    <tr>\n",
              "      <th>5</th>\n",
              "      <td>1959-06-30 23:59:59.999999999</td>\n",
              "      <td>unemp</td>\n",
              "      <td>5.100</td>\n",
              "      <td>-0.048565</td>\n",
              "    </tr>\n",
              "    <tr>\n",
              "      <th>6</th>\n",
              "      <td>1959-09-30 23:59:59.999999999</td>\n",
              "      <td>realgdp</td>\n",
              "      <td>2775.488</td>\n",
              "      <td>1.235021</td>\n",
              "    </tr>\n",
              "    <tr>\n",
              "      <th>7</th>\n",
              "      <td>1959-09-30 23:59:59.999999999</td>\n",
              "      <td>infl</td>\n",
              "      <td>2.740</td>\n",
              "      <td>-0.433295</td>\n",
              "    </tr>\n",
              "    <tr>\n",
              "      <th>8</th>\n",
              "      <td>1959-09-30 23:59:59.999999999</td>\n",
              "      <td>unemp</td>\n",
              "      <td>5.300</td>\n",
              "      <td>1.391035</td>\n",
              "    </tr>\n",
              "    <tr>\n",
              "      <th>9</th>\n",
              "      <td>1959-12-31 23:59:59.999999999</td>\n",
              "      <td>realgdp</td>\n",
              "      <td>2785.204</td>\n",
              "      <td>0.820211</td>\n",
              "    </tr>\n",
              "  </tbody>\n",
              "</table>\n",
              "</div>"
            ],
            "text/plain": [
              "                           date     item     value    value2\n",
              "0 1959-03-31 23:59:59.999999999  realgdp  2710.349  0.022074\n",
              "1 1959-03-31 23:59:59.999999999     infl     0.000 -1.369179\n",
              "2 1959-03-31 23:59:59.999999999    unemp     5.800  0.887204\n",
              "3 1959-06-30 23:59:59.999999999  realgdp  2778.801  0.014331\n",
              "4 1959-06-30 23:59:59.999999999     infl     2.340 -0.074155\n",
              "5 1959-06-30 23:59:59.999999999    unemp     5.100 -0.048565\n",
              "6 1959-09-30 23:59:59.999999999  realgdp  2775.488  1.235021\n",
              "7 1959-09-30 23:59:59.999999999     infl     2.740 -0.433295\n",
              "8 1959-09-30 23:59:59.999999999    unemp     5.300  1.391035\n",
              "9 1959-12-31 23:59:59.999999999  realgdp  2785.204  0.820211"
            ]
          },
          "metadata": {
            "tags": []
          },
          "execution_count": 53
        }
      ]
    },
    {
      "cell_type": "code",
      "metadata": {
        "colab": {
          "base_uri": "https://localhost:8080/"
        },
        "id": "f1EvpVFgsBQo",
        "outputId": "5582fa38-ed36-41be-8b8b-f8e9412d586a"
      },
      "source": [
        "ldata['value2'][:5]"
      ],
      "execution_count": null,
      "outputs": [
        {
          "output_type": "execute_result",
          "data": {
            "text/plain": [
              "0    0.022074\n",
              "1   -1.369179\n",
              "2    0.887204\n",
              "3    0.014331\n",
              "4   -0.074155\n",
              "Name: value2, dtype: float64"
            ]
          },
          "metadata": {
            "tags": []
          },
          "execution_count": 54
        }
      ]
    },
    {
      "cell_type": "code",
      "metadata": {
        "colab": {
          "base_uri": "https://localhost:8080/",
          "height": 328
        },
        "id": "QOIvu2sksMcR",
        "outputId": "4869f8c4-dbbc-44b0-a659-949c3a4b455e"
      },
      "source": [
        "unstacked = ldata.set_index(['date', 'item']).unstack('item')\r\n",
        "unstacked[:7]"
      ],
      "execution_count": null,
      "outputs": [
        {
          "output_type": "execute_result",
          "data": {
            "text/html": [
              "<div>\n",
              "<style scoped>\n",
              "    .dataframe tbody tr th:only-of-type {\n",
              "        vertical-align: middle;\n",
              "    }\n",
              "\n",
              "    .dataframe tbody tr th {\n",
              "        vertical-align: top;\n",
              "    }\n",
              "\n",
              "    .dataframe thead tr th {\n",
              "        text-align: left;\n",
              "    }\n",
              "\n",
              "    .dataframe thead tr:last-of-type th {\n",
              "        text-align: right;\n",
              "    }\n",
              "</style>\n",
              "<table border=\"1\" class=\"dataframe\">\n",
              "  <thead>\n",
              "    <tr>\n",
              "      <th></th>\n",
              "      <th colspan=\"3\" halign=\"left\">value</th>\n",
              "      <th colspan=\"3\" halign=\"left\">value2</th>\n",
              "    </tr>\n",
              "    <tr>\n",
              "      <th>item</th>\n",
              "      <th>infl</th>\n",
              "      <th>realgdp</th>\n",
              "      <th>unemp</th>\n",
              "      <th>infl</th>\n",
              "      <th>realgdp</th>\n",
              "      <th>unemp</th>\n",
              "    </tr>\n",
              "    <tr>\n",
              "      <th>date</th>\n",
              "      <th></th>\n",
              "      <th></th>\n",
              "      <th></th>\n",
              "      <th></th>\n",
              "      <th></th>\n",
              "      <th></th>\n",
              "    </tr>\n",
              "  </thead>\n",
              "  <tbody>\n",
              "    <tr>\n",
              "      <th>1959-03-31 23:59:59.999999999</th>\n",
              "      <td>0.00</td>\n",
              "      <td>2710.349</td>\n",
              "      <td>5.8</td>\n",
              "      <td>-1.369179</td>\n",
              "      <td>0.022074</td>\n",
              "      <td>0.887204</td>\n",
              "    </tr>\n",
              "    <tr>\n",
              "      <th>1959-06-30 23:59:59.999999999</th>\n",
              "      <td>2.34</td>\n",
              "      <td>2778.801</td>\n",
              "      <td>5.1</td>\n",
              "      <td>-0.074155</td>\n",
              "      <td>0.014331</td>\n",
              "      <td>-0.048565</td>\n",
              "    </tr>\n",
              "    <tr>\n",
              "      <th>1959-09-30 23:59:59.999999999</th>\n",
              "      <td>2.74</td>\n",
              "      <td>2775.488</td>\n",
              "      <td>5.3</td>\n",
              "      <td>-0.433295</td>\n",
              "      <td>1.235021</td>\n",
              "      <td>1.391035</td>\n",
              "    </tr>\n",
              "    <tr>\n",
              "      <th>1959-12-31 23:59:59.999999999</th>\n",
              "      <td>0.27</td>\n",
              "      <td>2785.204</td>\n",
              "      <td>5.6</td>\n",
              "      <td>-0.247423</td>\n",
              "      <td>0.820211</td>\n",
              "      <td>0.302271</td>\n",
              "    </tr>\n",
              "    <tr>\n",
              "      <th>1960-03-31 23:59:59.999999999</th>\n",
              "      <td>2.31</td>\n",
              "      <td>2847.699</td>\n",
              "      <td>5.2</td>\n",
              "      <td>-0.942369</td>\n",
              "      <td>0.543980</td>\n",
              "      <td>-1.266383</td>\n",
              "    </tr>\n",
              "    <tr>\n",
              "      <th>1960-06-30 23:59:59.999999999</th>\n",
              "      <td>0.14</td>\n",
              "      <td>2834.390</td>\n",
              "      <td>5.2</td>\n",
              "      <td>-0.720102</td>\n",
              "      <td>0.937250</td>\n",
              "      <td>-1.593952</td>\n",
              "    </tr>\n",
              "    <tr>\n",
              "      <th>1960-09-30 23:59:59.999999999</th>\n",
              "      <td>2.70</td>\n",
              "      <td>2839.022</td>\n",
              "      <td>5.6</td>\n",
              "      <td>-0.958704</td>\n",
              "      <td>-0.375498</td>\n",
              "      <td>0.794336</td>\n",
              "    </tr>\n",
              "  </tbody>\n",
              "</table>\n",
              "</div>"
            ],
            "text/plain": [
              "                              value            ...    value2          \n",
              "item                           infl   realgdp  ...   realgdp     unemp\n",
              "date                                           ...                    \n",
              "1959-03-31 23:59:59.999999999  0.00  2710.349  ...  0.022074  0.887204\n",
              "1959-06-30 23:59:59.999999999  2.34  2778.801  ...  0.014331 -0.048565\n",
              "1959-09-30 23:59:59.999999999  2.74  2775.488  ...  1.235021  1.391035\n",
              "1959-12-31 23:59:59.999999999  0.27  2785.204  ...  0.820211  0.302271\n",
              "1960-03-31 23:59:59.999999999  2.31  2847.699  ...  0.543980 -1.266383\n",
              "1960-06-30 23:59:59.999999999  0.14  2834.390  ...  0.937250 -1.593952\n",
              "1960-09-30 23:59:59.999999999  2.70  2839.022  ... -0.375498  0.794336\n",
              "\n",
              "[7 rows x 6 columns]"
            ]
          },
          "metadata": {
            "tags": []
          },
          "execution_count": 55
        }
      ]
    },
    {
      "cell_type": "markdown",
      "metadata": {
        "id": "oq47yJiasH39"
      },
      "source": [
        "### **8.3.3 넓은 형식에서 긴 형식으로 피벗하기**"
      ]
    },
    {
      "cell_type": "code",
      "metadata": {
        "colab": {
          "base_uri": "https://localhost:8080/",
          "height": 142
        },
        "id": "PMyLiZqbsV1H",
        "outputId": "80847184-57dd-4aaf-9350-3798e2414227"
      },
      "source": [
        "df = pd.DataFrame({'key': ['foo', 'bar', 'baz'],\r\n",
        "                   'A': [1, 2, 3],\r\n",
        "                   'B': [4, 5, 6],\r\n",
        "                   'C': [7, 8, 9]})\r\n",
        "df"
      ],
      "execution_count": null,
      "outputs": [
        {
          "output_type": "execute_result",
          "data": {
            "text/html": [
              "<div>\n",
              "<style scoped>\n",
              "    .dataframe tbody tr th:only-of-type {\n",
              "        vertical-align: middle;\n",
              "    }\n",
              "\n",
              "    .dataframe tbody tr th {\n",
              "        vertical-align: top;\n",
              "    }\n",
              "\n",
              "    .dataframe thead th {\n",
              "        text-align: right;\n",
              "    }\n",
              "</style>\n",
              "<table border=\"1\" class=\"dataframe\">\n",
              "  <thead>\n",
              "    <tr style=\"text-align: right;\">\n",
              "      <th></th>\n",
              "      <th>key</th>\n",
              "      <th>A</th>\n",
              "      <th>B</th>\n",
              "      <th>C</th>\n",
              "    </tr>\n",
              "  </thead>\n",
              "  <tbody>\n",
              "    <tr>\n",
              "      <th>0</th>\n",
              "      <td>foo</td>\n",
              "      <td>1</td>\n",
              "      <td>4</td>\n",
              "      <td>7</td>\n",
              "    </tr>\n",
              "    <tr>\n",
              "      <th>1</th>\n",
              "      <td>bar</td>\n",
              "      <td>2</td>\n",
              "      <td>5</td>\n",
              "      <td>8</td>\n",
              "    </tr>\n",
              "    <tr>\n",
              "      <th>2</th>\n",
              "      <td>baz</td>\n",
              "      <td>3</td>\n",
              "      <td>6</td>\n",
              "      <td>9</td>\n",
              "    </tr>\n",
              "  </tbody>\n",
              "</table>\n",
              "</div>"
            ],
            "text/plain": [
              "   key  A  B  C\n",
              "0  foo  1  4  7\n",
              "1  bar  2  5  8\n",
              "2  baz  3  6  9"
            ]
          },
          "metadata": {
            "tags": []
          },
          "execution_count": 56
        }
      ]
    },
    {
      "cell_type": "code",
      "metadata": {
        "colab": {
          "base_uri": "https://localhost:8080/",
          "height": 328
        },
        "id": "8Cl1jlTNsZZV",
        "outputId": "c658f375-6013-4ce7-cb19-93d264e68de0"
      },
      "source": [
        "melted = pd.melt(df, ['key'])\r\n",
        "melted"
      ],
      "execution_count": null,
      "outputs": [
        {
          "output_type": "execute_result",
          "data": {
            "text/html": [
              "<div>\n",
              "<style scoped>\n",
              "    .dataframe tbody tr th:only-of-type {\n",
              "        vertical-align: middle;\n",
              "    }\n",
              "\n",
              "    .dataframe tbody tr th {\n",
              "        vertical-align: top;\n",
              "    }\n",
              "\n",
              "    .dataframe thead th {\n",
              "        text-align: right;\n",
              "    }\n",
              "</style>\n",
              "<table border=\"1\" class=\"dataframe\">\n",
              "  <thead>\n",
              "    <tr style=\"text-align: right;\">\n",
              "      <th></th>\n",
              "      <th>key</th>\n",
              "      <th>variable</th>\n",
              "      <th>value</th>\n",
              "    </tr>\n",
              "  </thead>\n",
              "  <tbody>\n",
              "    <tr>\n",
              "      <th>0</th>\n",
              "      <td>foo</td>\n",
              "      <td>A</td>\n",
              "      <td>1</td>\n",
              "    </tr>\n",
              "    <tr>\n",
              "      <th>1</th>\n",
              "      <td>bar</td>\n",
              "      <td>A</td>\n",
              "      <td>2</td>\n",
              "    </tr>\n",
              "    <tr>\n",
              "      <th>2</th>\n",
              "      <td>baz</td>\n",
              "      <td>A</td>\n",
              "      <td>3</td>\n",
              "    </tr>\n",
              "    <tr>\n",
              "      <th>3</th>\n",
              "      <td>foo</td>\n",
              "      <td>B</td>\n",
              "      <td>4</td>\n",
              "    </tr>\n",
              "    <tr>\n",
              "      <th>4</th>\n",
              "      <td>bar</td>\n",
              "      <td>B</td>\n",
              "      <td>5</td>\n",
              "    </tr>\n",
              "    <tr>\n",
              "      <th>5</th>\n",
              "      <td>baz</td>\n",
              "      <td>B</td>\n",
              "      <td>6</td>\n",
              "    </tr>\n",
              "    <tr>\n",
              "      <th>6</th>\n",
              "      <td>foo</td>\n",
              "      <td>C</td>\n",
              "      <td>7</td>\n",
              "    </tr>\n",
              "    <tr>\n",
              "      <th>7</th>\n",
              "      <td>bar</td>\n",
              "      <td>C</td>\n",
              "      <td>8</td>\n",
              "    </tr>\n",
              "    <tr>\n",
              "      <th>8</th>\n",
              "      <td>baz</td>\n",
              "      <td>C</td>\n",
              "      <td>9</td>\n",
              "    </tr>\n",
              "  </tbody>\n",
              "</table>\n",
              "</div>"
            ],
            "text/plain": [
              "   key variable  value\n",
              "0  foo        A      1\n",
              "1  bar        A      2\n",
              "2  baz        A      3\n",
              "3  foo        B      4\n",
              "4  bar        B      5\n",
              "5  baz        B      6\n",
              "6  foo        C      7\n",
              "7  bar        C      8\n",
              "8  baz        C      9"
            ]
          },
          "metadata": {
            "tags": []
          },
          "execution_count": 57
        }
      ]
    },
    {
      "cell_type": "code",
      "metadata": {
        "colab": {
          "base_uri": "https://localhost:8080/",
          "height": 173
        },
        "id": "VxpoSrNSsejQ",
        "outputId": "69ce4ca9-c677-4a02-f36c-493a2669916f"
      },
      "source": [
        "# pivot을 이용해서 원래 모양으로 되돌린다. 또한 reset_index를 이용해서 다시 컬럼으로 돌려놓을 수 있다. \r\n",
        "\r\n",
        "reshaped = melted.pivot('key', 'variable', 'value')\r\n",
        "reshaped"
      ],
      "execution_count": null,
      "outputs": [
        {
          "output_type": "execute_result",
          "data": {
            "text/html": [
              "<div>\n",
              "<style scoped>\n",
              "    .dataframe tbody tr th:only-of-type {\n",
              "        vertical-align: middle;\n",
              "    }\n",
              "\n",
              "    .dataframe tbody tr th {\n",
              "        vertical-align: top;\n",
              "    }\n",
              "\n",
              "    .dataframe thead th {\n",
              "        text-align: right;\n",
              "    }\n",
              "</style>\n",
              "<table border=\"1\" class=\"dataframe\">\n",
              "  <thead>\n",
              "    <tr style=\"text-align: right;\">\n",
              "      <th>variable</th>\n",
              "      <th>A</th>\n",
              "      <th>B</th>\n",
              "      <th>C</th>\n",
              "    </tr>\n",
              "    <tr>\n",
              "      <th>key</th>\n",
              "      <th></th>\n",
              "      <th></th>\n",
              "      <th></th>\n",
              "    </tr>\n",
              "  </thead>\n",
              "  <tbody>\n",
              "    <tr>\n",
              "      <th>bar</th>\n",
              "      <td>2</td>\n",
              "      <td>5</td>\n",
              "      <td>8</td>\n",
              "    </tr>\n",
              "    <tr>\n",
              "      <th>baz</th>\n",
              "      <td>3</td>\n",
              "      <td>6</td>\n",
              "      <td>9</td>\n",
              "    </tr>\n",
              "    <tr>\n",
              "      <th>foo</th>\n",
              "      <td>1</td>\n",
              "      <td>4</td>\n",
              "      <td>7</td>\n",
              "    </tr>\n",
              "  </tbody>\n",
              "</table>\n",
              "</div>"
            ],
            "text/plain": [
              "variable  A  B  C\n",
              "key              \n",
              "bar       2  5  8\n",
              "baz       3  6  9\n",
              "foo       1  4  7"
            ]
          },
          "metadata": {
            "tags": []
          },
          "execution_count": 58
        }
      ]
    },
    {
      "cell_type": "code",
      "metadata": {
        "colab": {
          "base_uri": "https://localhost:8080/",
          "height": 235
        },
        "id": "4kRroexMsr4B",
        "outputId": "9b3aed99-18c0-4718-c3b5-451038c6b2fe"
      },
      "source": [
        "# 데이터 값으로 사용할 컬럼들의 집합 지정도 할 수 있다. \r\n",
        "pd.melt(df, id_vars = ['key'], value_vars=['A','B'])"
      ],
      "execution_count": null,
      "outputs": [
        {
          "output_type": "execute_result",
          "data": {
            "text/html": [
              "<div>\n",
              "<style scoped>\n",
              "    .dataframe tbody tr th:only-of-type {\n",
              "        vertical-align: middle;\n",
              "    }\n",
              "\n",
              "    .dataframe tbody tr th {\n",
              "        vertical-align: top;\n",
              "    }\n",
              "\n",
              "    .dataframe thead th {\n",
              "        text-align: right;\n",
              "    }\n",
              "</style>\n",
              "<table border=\"1\" class=\"dataframe\">\n",
              "  <thead>\n",
              "    <tr style=\"text-align: right;\">\n",
              "      <th></th>\n",
              "      <th>key</th>\n",
              "      <th>variable</th>\n",
              "      <th>value</th>\n",
              "    </tr>\n",
              "  </thead>\n",
              "  <tbody>\n",
              "    <tr>\n",
              "      <th>0</th>\n",
              "      <td>foo</td>\n",
              "      <td>A</td>\n",
              "      <td>1</td>\n",
              "    </tr>\n",
              "    <tr>\n",
              "      <th>1</th>\n",
              "      <td>bar</td>\n",
              "      <td>A</td>\n",
              "      <td>2</td>\n",
              "    </tr>\n",
              "    <tr>\n",
              "      <th>2</th>\n",
              "      <td>baz</td>\n",
              "      <td>A</td>\n",
              "      <td>3</td>\n",
              "    </tr>\n",
              "    <tr>\n",
              "      <th>3</th>\n",
              "      <td>foo</td>\n",
              "      <td>B</td>\n",
              "      <td>4</td>\n",
              "    </tr>\n",
              "    <tr>\n",
              "      <th>4</th>\n",
              "      <td>bar</td>\n",
              "      <td>B</td>\n",
              "      <td>5</td>\n",
              "    </tr>\n",
              "    <tr>\n",
              "      <th>5</th>\n",
              "      <td>baz</td>\n",
              "      <td>B</td>\n",
              "      <td>6</td>\n",
              "    </tr>\n",
              "  </tbody>\n",
              "</table>\n",
              "</div>"
            ],
            "text/plain": [
              "   key variable  value\n",
              "0  foo        A      1\n",
              "1  bar        A      2\n",
              "2  baz        A      3\n",
              "3  foo        B      4\n",
              "4  bar        B      5\n",
              "5  baz        B      6"
            ]
          },
          "metadata": {
            "tags": []
          },
          "execution_count": 60
        }
      ]
    }
  ]
}