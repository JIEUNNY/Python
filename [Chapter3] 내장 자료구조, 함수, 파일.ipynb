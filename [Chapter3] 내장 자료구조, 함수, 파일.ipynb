{
  "nbformat": 4,
  "nbformat_minor": 0,
  "metadata": {
    "colab": {
      "name": "[Chapter3] 내장 자료구조, 함수, 파일.ipynb",
      "provenance": [],
      "collapsed_sections": [],
      "toc_visible": true
    },
    "kernelspec": {
      "name": "python3",
      "display_name": "Python 3"
    }
  },
  "cells": [
    {
      "cell_type": "markdown",
      "metadata": {
        "id": "OLUaGeusTRi-"
      },
      "source": [
        "# **CHAPTER_3**"
      ]
    },
    {
      "cell_type": "markdown",
      "metadata": {
        "id": "NU_odNVUTp29"
      },
      "source": [
        "## **3.1 자료구조와 순차 자료형**"
      ]
    },
    {
      "cell_type": "markdown",
      "metadata": {
        "id": "Ml7-ciwmW6uR"
      },
      "source": [
        "### **3.1.1 튜플**"
      ]
    },
    {
      "cell_type": "markdown",
      "metadata": {
        "id": "0uRqLSDfXIZI"
      },
      "source": [
        "변경 불가능한 순차 자료형이며 쉼표로 구분된 값을 가진다. "
      ]
    },
    {
      "cell_type": "code",
      "metadata": {
        "colab": {
          "base_uri": "https://localhost:8080/"
        },
        "id": "tBlIhZJhXNL5",
        "outputId": "090a0608-25c5-4845-8492-16b94b0ae727"
      },
      "source": [
        "tup = 4, 5, 6\r\n",
        "tup"
      ],
      "execution_count": null,
      "outputs": [
        {
          "output_type": "execute_result",
          "data": {
            "text/plain": [
              "(4, 5, 6)"
            ]
          },
          "metadata": {
            "tags": []
          },
          "execution_count": 1
        }
      ]
    },
    {
      "cell_type": "code",
      "metadata": {
        "colab": {
          "base_uri": "https://localhost:8080/"
        },
        "id": "IWiRl0z_XXi9",
        "outputId": "671a1bc2-332d-4918-8969-08cb469038f4"
      },
      "source": [
        "nested_tup = (4, 5, 6), (7, 8)\r\n",
        "nested_tup"
      ],
      "execution_count": null,
      "outputs": [
        {
          "output_type": "execute_result",
          "data": {
            "text/plain": [
              "((4, 5, 6), (7, 8))"
            ]
          },
          "metadata": {
            "tags": []
          },
          "execution_count": 2
        }
      ]
    },
    {
      "cell_type": "code",
      "metadata": {
        "colab": {
          "base_uri": "https://localhost:8080/"
        },
        "id": "3nP2qHQKXZzF",
        "outputId": "6b71c3a3-5237-432b-9e62-fa509af66962"
      },
      "source": [
        "# 순차 자료형 및 이터레이터는 tuple 메서드를 호출해 변환할 수 있다. \r\n",
        "tuple([4, 0, 2])"
      ],
      "execution_count": null,
      "outputs": [
        {
          "output_type": "execute_result",
          "data": {
            "text/plain": [
              "(4, 0, 2)"
            ]
          },
          "metadata": {
            "tags": []
          },
          "execution_count": 3
        }
      ]
    },
    {
      "cell_type": "code",
      "metadata": {
        "colab": {
          "base_uri": "https://localhost:8080/",
          "height": 35
        },
        "id": "gONHPPuYXm6A",
        "outputId": "31fa4bc4-6c2e-44b2-fd58-9516563bd74a"
      },
      "source": [
        "tup = tuple('string')\r\n",
        "\r\n",
        "# 튜플의 각 원소는 인덱스를 통해 접근 가능하다.\r\n",
        "tup[0]"
      ],
      "execution_count": null,
      "outputs": [
        {
          "output_type": "execute_result",
          "data": {
            "application/vnd.google.colaboratory.intrinsic+json": {
              "type": "string"
            },
            "text/plain": [
              "'s'"
            ]
          },
          "metadata": {
            "tags": []
          },
          "execution_count": 5
        }
      ]
    },
    {
      "cell_type": "code",
      "metadata": {
        "colab": {
          "base_uri": "https://localhost:8080/",
          "height": 208
        },
        "id": "G_82yquhX8w1",
        "outputId": "38e0f191-f66c-46dd-e4bb-3753b8845e3c"
      },
      "source": [
        "# 객체 자체는 변경이 가능하지만 각 슬롯에 저장된 객체는 변경할 수 없다. \r\n",
        "tup = tuple(['foo', [1, 2], True])\r\n",
        "tup[2] = False"
      ],
      "execution_count": 1,
      "outputs": [
        {
          "output_type": "error",
          "ename": "TypeError",
          "evalue": "ignored",
          "traceback": [
            "\u001b[0;31m---------------------------------------------------------------------------\u001b[0m",
            "\u001b[0;31mTypeError\u001b[0m                                 Traceback (most recent call last)",
            "\u001b[0;32m<ipython-input-1-94e49867b391>\u001b[0m in \u001b[0;36m<module>\u001b[0;34m()\u001b[0m\n\u001b[1;32m      1\u001b[0m \u001b[0;31m# 객체 자체는 변경이 가능하지만 각 슬롯에 저장된 객체는 변경할 수 없다.\u001b[0m\u001b[0;34m\u001b[0m\u001b[0;34m\u001b[0m\u001b[0;34m\u001b[0m\u001b[0m\n\u001b[1;32m      2\u001b[0m \u001b[0mtup\u001b[0m \u001b[0;34m=\u001b[0m \u001b[0mtuple\u001b[0m\u001b[0;34m(\u001b[0m\u001b[0;34m[\u001b[0m\u001b[0;34m'foo'\u001b[0m\u001b[0;34m,\u001b[0m \u001b[0;34m[\u001b[0m\u001b[0;36m1\u001b[0m\u001b[0;34m,\u001b[0m \u001b[0;36m2\u001b[0m\u001b[0;34m]\u001b[0m\u001b[0;34m,\u001b[0m \u001b[0;32mTrue\u001b[0m\u001b[0;34m]\u001b[0m\u001b[0;34m)\u001b[0m\u001b[0;34m\u001b[0m\u001b[0;34m\u001b[0m\u001b[0m\n\u001b[0;32m----> 3\u001b[0;31m \u001b[0mtup\u001b[0m\u001b[0;34m[\u001b[0m\u001b[0;36m2\u001b[0m\u001b[0;34m]\u001b[0m \u001b[0;34m=\u001b[0m \u001b[0;32mFalse\u001b[0m\u001b[0;34m\u001b[0m\u001b[0;34m\u001b[0m\u001b[0m\n\u001b[0m",
            "\u001b[0;31mTypeError\u001b[0m: 'tuple' object does not support item assignment"
          ]
        }
      ]
    },
    {
      "cell_type": "code",
      "metadata": {
        "colab": {
          "base_uri": "https://localhost:8080/"
        },
        "id": "9UE46V89YGAD",
        "outputId": "a31933d9-5aff-4660-a30a-454558d8c298"
      },
      "source": [
        "tup[1].append(3)\r\n",
        "tup"
      ],
      "execution_count": null,
      "outputs": [
        {
          "output_type": "execute_result",
          "data": {
            "text/plain": [
              "('foo', [1, 2, 3], True)"
            ]
          },
          "metadata": {
            "tags": []
          },
          "execution_count": 7
        }
      ]
    },
    {
      "cell_type": "markdown",
      "metadata": {
        "id": "bwEKwy8yYKom"
      },
      "source": [
        "**튜플에서 값 분리하기** "
      ]
    },
    {
      "cell_type": "code",
      "metadata": {
        "colab": {
          "base_uri": "https://localhost:8080/"
        },
        "id": "FJ5W15aPYPbL",
        "outputId": "6a5a4aed-179f-41c1-f083-daa3f0f3a42d"
      },
      "source": [
        "tup = (4, 5, 6)\r\n",
        "a, b, c = tup\r\n",
        "a"
      ],
      "execution_count": null,
      "outputs": [
        {
          "output_type": "execute_result",
          "data": {
            "text/plain": [
              "4"
            ]
          },
          "metadata": {
            "tags": []
          },
          "execution_count": 8
        }
      ]
    },
    {
      "cell_type": "code",
      "metadata": {
        "colab": {
          "base_uri": "https://localhost:8080/",
          "height": 188
        },
        "id": "5ctCR4wWYUH1",
        "outputId": "ed68cd24-3ea8-4c7c-ab1c-275eb6589824"
      },
      "source": [
        "# 튜플에 저장된 값 이상의 변수를 생성할 시 오류가 발생한다. \r\n",
        "# a, b, c, s = tup\r\n",
        "a"
      ],
      "execution_count": null,
      "outputs": [
        {
          "output_type": "error",
          "ename": "ValueError",
          "evalue": "ignored",
          "traceback": [
            "\u001b[0;31m---------------------------------------------------------------------------\u001b[0m",
            "\u001b[0;31mValueError\u001b[0m                                Traceback (most recent call last)",
            "\u001b[0;32m<ipython-input-9-5bad8f433501>\u001b[0m in \u001b[0;36m<module>\u001b[0;34m()\u001b[0m\n\u001b[0;32m----> 1\u001b[0;31m \u001b[0ma\u001b[0m\u001b[0;34m,\u001b[0m \u001b[0mb\u001b[0m\u001b[0;34m,\u001b[0m \u001b[0mc\u001b[0m\u001b[0;34m,\u001b[0m \u001b[0ms\u001b[0m \u001b[0;34m=\u001b[0m \u001b[0mtup\u001b[0m\u001b[0;34m\u001b[0m\u001b[0;34m\u001b[0m\u001b[0m\n\u001b[0m\u001b[1;32m      2\u001b[0m \u001b[0ma\u001b[0m\u001b[0;34m\u001b[0m\u001b[0;34m\u001b[0m\u001b[0m\n",
            "\u001b[0;31mValueError\u001b[0m: not enough values to unpack (expected 4, got 3)"
          ]
        }
      ]
    },
    {
      "cell_type": "markdown",
      "metadata": {
        "id": "9YMB71dPYsdk"
      },
      "source": [
        "튜플을 사용하면 값을 분리하는 것이 편리하며, 이는 변수 값 교환이 쉽게 이뤄질 수 있게한다. 튜플이나 리스트 순회 시 이 기능을 활용한다. "
      ]
    },
    {
      "cell_type": "code",
      "metadata": {
        "colab": {
          "base_uri": "https://localhost:8080/"
        },
        "id": "cBPemn8lYghX",
        "outputId": "babbe5f1-da50-4114-b394-b550f8c4f23c"
      },
      "source": [
        "a, b = 1, 2\r\n",
        "a"
      ],
      "execution_count": null,
      "outputs": [
        {
          "output_type": "execute_result",
          "data": {
            "text/plain": [
              "1"
            ]
          },
          "metadata": {
            "tags": []
          },
          "execution_count": 12
        }
      ]
    },
    {
      "cell_type": "code",
      "metadata": {
        "colab": {
          "base_uri": "https://localhost:8080/"
        },
        "id": "Tgf6vTZJY8a1",
        "outputId": "86038d61-d6ee-4b9a-b47b-95a8ed4c78a5"
      },
      "source": [
        "# a, b의 값을 바꾼다. \r\n",
        "b, a = a, b\r\n",
        "a"
      ],
      "execution_count": null,
      "outputs": [
        {
          "output_type": "execute_result",
          "data": {
            "text/plain": [
              "2"
            ]
          },
          "metadata": {
            "tags": []
          },
          "execution_count": 13
        }
      ]
    },
    {
      "cell_type": "code",
      "metadata": {
        "colab": {
          "base_uri": "https://localhost:8080/"
        },
        "id": "K9IBhDvfZD-C",
        "outputId": "d06779d4-55be-4530-c3c0-0e9f2fd23f8a"
      },
      "source": [
        "# 순회 사용 예시\r\n",
        "seq = [(1, 2, 3), (4, 5, 6), (7, 8, 9)]\r\n",
        "for a, b, c in seq:\r\n",
        "    print('a = {0}, b = {1}, c = {2}'.format(a, b, c))"
      ],
      "execution_count": null,
      "outputs": [
        {
          "output_type": "stream",
          "text": [
            "a = 1, b = 2, c = 3\n",
            "a = 4, b = 5, c = 6\n",
            "a = 7, b = 8, c = 9\n"
          ],
          "name": "stdout"
        }
      ]
    },
    {
      "cell_type": "markdown",
      "metadata": {
        "id": "rg30DNQaZQ4c"
      },
      "source": [
        "위에서 튜플의 길이와 할당하고자 하는 변수의 길이가 일치하지 않을 경우 오류가 발생하는 것을 확인하였는데, 이는 *rest를 사용해서 함수의 시그니처에서 길이를 알 수 없는 긴 인자를 담을 수 있다. "
      ]
    },
    {
      "cell_type": "code",
      "metadata": {
        "colab": {
          "base_uri": "https://localhost:8080/"
        },
        "id": "1ExBwE9fZP7C",
        "outputId": "043cebe4-872f-45b3-f8a9-ad1c26a1a866"
      },
      "source": [
        "values = 1, 2, 3, 4, 5\r\n",
        "a, b, *rest = values\r\n",
        "rest"
      ],
      "execution_count": null,
      "outputs": [
        {
          "output_type": "execute_result",
          "data": {
            "text/plain": [
              "[3, 4, 5]"
            ]
          },
          "metadata": {
            "tags": []
          },
          "execution_count": 16
        }
      ]
    },
    {
      "cell_type": "markdown",
      "metadata": {
        "id": "9K7ja5imZmkm"
      },
      "source": [
        "### **3.1.2 리스트**"
      ]
    },
    {
      "cell_type": "markdown",
      "metadata": {
        "id": "YSge5cExZv8d"
      },
      "source": [
        "리스트는 가변적이며 데이터를 잘 관리하기 위해서 묶어서 관리할 수 있는 자료형 중 하나이다. list()를 통해 생성가능하다. "
      ]
    },
    {
      "cell_type": "code",
      "metadata": {
        "colab": {
          "base_uri": "https://localhost:8080/"
        },
        "id": "OSCTV-YoZpl5",
        "outputId": "7864f205-4ac9-4153-8584-52dab1b3f772"
      },
      "source": [
        "list1 = [2, 3, 7, None]\r\n",
        "\r\n",
        "# type 함수를 통해 리스트를 생성했음을 확인할 수 있다. \r\n",
        "type(list1)"
      ],
      "execution_count": null,
      "outputs": [
        {
          "output_type": "execute_result",
          "data": {
            "text/plain": [
              "list"
            ]
          },
          "metadata": {
            "tags": []
          },
          "execution_count": 20
        }
      ]
    },
    {
      "cell_type": "code",
      "metadata": {
        "colab": {
          "base_uri": "https://localhost:8080/"
        },
        "id": "VRllTqwbaXg8",
        "outputId": "14782740-4d5c-4079-b068-e293cbf6b51f"
      },
      "source": [
        "tup = ('sps', 'lab', 'seminar')\r\n",
        "b_list = list(tup)\r\n",
        "b_list"
      ],
      "execution_count": null,
      "outputs": [
        {
          "output_type": "execute_result",
          "data": {
            "text/plain": [
              "['sps', 'lab', 'seminar']"
            ]
          },
          "metadata": {
            "tags": []
          },
          "execution_count": 22
        }
      ]
    },
    {
      "cell_type": "code",
      "metadata": {
        "colab": {
          "base_uri": "https://localhost:8080/"
        },
        "id": "Jtp2-MX5aq7r",
        "outputId": "c5a7f029-518f-4206-a9e6-73ef3654dd5e"
      },
      "source": [
        "# lab의 값을 winter로 변경하는 것을 확인할 수 있다. \r\n",
        "b_list[1] = 'winter'\r\n",
        "b_list"
      ],
      "execution_count": null,
      "outputs": [
        {
          "output_type": "execute_result",
          "data": {
            "text/plain": [
              "['sps', 'winter', 'seminar']"
            ]
          },
          "metadata": {
            "tags": []
          },
          "execution_count": 23
        }
      ]
    },
    {
      "cell_type": "markdown",
      "metadata": {
        "id": "_uWUkALPa6Dh"
      },
      "source": [
        "**원소 추가하고 삭제하기**"
      ]
    },
    {
      "cell_type": "markdown",
      "metadata": {
        "id": "XYC0O3iIbBPi"
      },
      "source": [
        "append, insert 메서드를 통해 새로운 값을 추가할 수 있으며 remove, pop을 통해 원소를 제거할 수 있다. "
      ]
    },
    {
      "cell_type": "code",
      "metadata": {
        "colab": {
          "base_uri": "https://localhost:8080/"
        },
        "id": "nKudpvAfa7_Z",
        "outputId": "83e8ed4c-097a-48cc-e981-139c142a4be8"
      },
      "source": [
        "# 첫번째 인덱스에 lab 단어를 추가한다. \r\n",
        "b_list.insert(1, 'lab')\r\n",
        "b_list"
      ],
      "execution_count": null,
      "outputs": [
        {
          "output_type": "execute_result",
          "data": {
            "text/plain": [
              "['sps', 'lab', 'winter', 'seminar']"
            ]
          },
          "metadata": {
            "tags": []
          },
          "execution_count": 24
        }
      ]
    },
    {
      "cell_type": "code",
      "metadata": {
        "colab": {
          "base_uri": "https://localhost:8080/"
        },
        "id": "JF1jCA5kbQaY",
        "outputId": "f6360420-fef8-41e9-dd09-d61e91679111"
      },
      "source": [
        "# 두번째 인덱스의 값을 제거한다. \r\n",
        "b_list.pop(2)\r\n",
        "b_list"
      ],
      "execution_count": null,
      "outputs": [
        {
          "output_type": "execute_result",
          "data": {
            "text/plain": [
              "['sps', 'lab', 'seminar']"
            ]
          },
          "metadata": {
            "tags": []
          },
          "execution_count": 25
        }
      ]
    },
    {
      "cell_type": "markdown",
      "metadata": {
        "id": "1Zp6iWuqbi_7"
      },
      "source": [
        "리스트는 두 개의 리스트를 붙여 하나의 리스트로 만들 수 있는데 이런 경우 덧셈 연산자보다 extend 메서드를 사용하는 것이 연산비용이 작다. "
      ]
    },
    {
      "cell_type": "code",
      "metadata": {
        "colab": {
          "base_uri": "https://localhost:8080/"
        },
        "id": "9fujcfkdbw3o",
        "outputId": "e6d5410d-f862-47e3-a63e-9123fee70f3e"
      },
      "source": [
        "%time\r\n",
        "x = [4, None, 'foo'] \r\n",
        "[4, None, 'foo'] + [7, 8, (2, 3)]"
      ],
      "execution_count": null,
      "outputs": [
        {
          "output_type": "stream",
          "text": [
            "CPU times: user 4 µs, sys: 1e+03 ns, total: 5 µs\n",
            "Wall time: 14.5 µs\n"
          ],
          "name": "stdout"
        },
        {
          "output_type": "execute_result",
          "data": {
            "text/plain": [
              "[4, None, 'foo', 7, 8, (2, 3)]"
            ]
          },
          "metadata": {
            "tags": []
          },
          "execution_count": 29
        }
      ]
    },
    {
      "cell_type": "code",
      "metadata": {
        "colab": {
          "base_uri": "https://localhost:8080/"
        },
        "id": "lPFQevqJb32P",
        "outputId": "71214d00-5f4f-4aab-c0d1-78154284aa4f"
      },
      "source": [
        "%time\r\n",
        "x = [4, None, 'foo']\r\n",
        "x.extend([7, 8, (2, 3)])\r\n",
        "x"
      ],
      "execution_count": null,
      "outputs": [
        {
          "output_type": "stream",
          "text": [
            "CPU times: user 3 µs, sys: 0 ns, total: 3 µs\n",
            "Wall time: 5.96 µs\n"
          ],
          "name": "stdout"
        },
        {
          "output_type": "execute_result",
          "data": {
            "text/plain": [
              "[4, None, 'foo', 7, 8, (2, 3)]"
            ]
          },
          "metadata": {
            "tags": []
          },
          "execution_count": 30
        }
      ]
    },
    {
      "cell_type": "markdown",
      "metadata": {
        "id": "-JGtEonccSNO"
      },
      "source": [
        "%time을 통해 확인한 결과 extend를 사용했을 때 절반 정도의 시간이 적게 소요되는 것을 확인할 수 있다. "
      ]
    },
    {
      "cell_type": "markdown",
      "metadata": {
        "id": "1dFKzej4ccPC"
      },
      "source": [
        "**정렬**"
      ]
    },
    {
      "cell_type": "code",
      "metadata": {
        "colab": {
          "base_uri": "https://localhost:8080/"
        },
        "id": "mNECE78acRZY",
        "outputId": "160a034a-51da-4bae-c8c1-c1bc52f83cfa"
      },
      "source": [
        "a = [2021, 1, 13, 11, 59]\r\n",
        "a.sort()\r\n",
        "a"
      ],
      "execution_count": null,
      "outputs": [
        {
          "output_type": "execute_result",
          "data": {
            "text/plain": [
              "[1, 11, 13, 59, 2021]"
            ]
          },
          "metadata": {
            "tags": []
          },
          "execution_count": 31
        }
      ]
    },
    {
      "cell_type": "markdown",
      "metadata": {
        "id": "3QD_6xdZcmyg"
      },
      "source": [
        "**이진 탐색과 정렬된 리스트 유지하기**"
      ]
    },
    {
      "cell_type": "code",
      "metadata": {
        "colab": {
          "base_uri": "https://localhost:8080/"
        },
        "id": "w8QdF3YHcp2R",
        "outputId": "d5931bb5-9c54-4460-f2d7-7dba690b890a"
      },
      "source": [
        "# bisect 모듈을 이용할 경우 정렬된 형태를 유지 및 반환할 수 있다. \r\n",
        "\r\n",
        "import bisect\r\n",
        "c = [1, 2, 2, 2, 3, 4, 7]\r\n",
        "bisect.bisect(c, 2)"
      ],
      "execution_count": null,
      "outputs": [
        {
          "output_type": "execute_result",
          "data": {
            "text/plain": [
              "4"
            ]
          },
          "metadata": {
            "tags": []
          },
          "execution_count": 33
        }
      ]
    },
    {
      "cell_type": "code",
      "metadata": {
        "colab": {
          "base_uri": "https://localhost:8080/"
        },
        "id": "1DlX4vuydLVW",
        "outputId": "ad105e35-e72a-4042-8a61-3ac858637942"
      },
      "source": [
        "# 위치를 지정하지 않아도 적절한 위치를 찾아 값을 대입한다. \r\n",
        "bisect.insort(c, 6)\r\n",
        "c"
      ],
      "execution_count": null,
      "outputs": [
        {
          "output_type": "execute_result",
          "data": {
            "text/plain": [
              "[1, 2, 2, 2, 3, 4, 6, 7]"
            ]
          },
          "metadata": {
            "tags": []
          },
          "execution_count": 34
        }
      ]
    },
    {
      "cell_type": "markdown",
      "metadata": {
        "id": "pC-wb19TdTnp"
      },
      "source": [
        "**슬라이싱**"
      ]
    },
    {
      "cell_type": "markdown",
      "metadata": {
        "id": "5YILGKWbt2DT"
      },
      "source": [
        "인덱스 범위를 지정하여 리스트를 자를 수 있으며 대입도 가능하다. 음수 색인은 자료형의 끝에서부터의 위치를 나타낸다. "
      ]
    },
    {
      "cell_type": "code",
      "metadata": {
        "colab": {
          "base_uri": "https://localhost:8080/"
        },
        "id": "nTtHWFOIdUuy",
        "outputId": "e32b8d86-b79a-4e16-84b7-4ad4c4bc9f18"
      },
      "source": [
        "seq = [7, 2, 3, 7, 5, 6, 0, 1]\r\n",
        "seq[1:5]"
      ],
      "execution_count": null,
      "outputs": [
        {
          "output_type": "execute_result",
          "data": {
            "text/plain": [
              "[2, 3, 7, 5]"
            ]
          },
          "metadata": {
            "tags": []
          },
          "execution_count": 35
        }
      ]
    },
    {
      "cell_type": "code",
      "metadata": {
        "colab": {
          "base_uri": "https://localhost:8080/"
        },
        "id": "7baOaPCsuB3Q",
        "outputId": "e00b7419-6af1-4f1e-e21a-bda4c585885c"
      },
      "source": [
        "seq[::-1]"
      ],
      "execution_count": null,
      "outputs": [
        {
          "output_type": "execute_result",
          "data": {
            "text/plain": [
              "[1, 0, 6, 5, 7, 3, 2, 7]"
            ]
          },
          "metadata": {
            "tags": []
          },
          "execution_count": 36
        }
      ]
    },
    {
      "cell_type": "markdown",
      "metadata": {
        "id": "WFXT80wYuOxH"
      },
      "source": [
        "### **3.1.3 내장 순차 자료형 함수**"
      ]
    },
    {
      "cell_type": "markdown",
      "metadata": {
        "id": "4ZOa5FRYuVFL"
      },
      "source": [
        "**enumerate**"
      ]
    },
    {
      "cell_type": "markdown",
      "metadata": {
        "id": "EYI8h0smudj5"
      },
      "source": [
        "순차 자료형에서의 값과 그 위치를 dict에 넘겨준다. "
      ]
    },
    {
      "cell_type": "code",
      "metadata": {
        "colab": {
          "base_uri": "https://localhost:8080/"
        },
        "id": "r6TNqPQhuR9J",
        "outputId": "296a7b79-73e3-4814-91e1-9135cddd2db4"
      },
      "source": [
        "some_list = ['sps', 'lab', 'seminar']\r\n",
        "mapping = {}\r\n",
        "for i, v in enumerate(some_list):\r\n",
        "    mapping[v] = i\r\n",
        "mapping"
      ],
      "execution_count": null,
      "outputs": [
        {
          "output_type": "execute_result",
          "data": {
            "text/plain": [
              "{'lab': 1, 'seminar': 2, 'sps': 0}"
            ]
          },
          "metadata": {
            "tags": []
          },
          "execution_count": 37
        }
      ]
    },
    {
      "cell_type": "markdown",
      "metadata": {
        "id": "2AfKuuuLuzxr"
      },
      "source": [
        "**sorted**"
      ]
    },
    {
      "cell_type": "markdown",
      "metadata": {
        "id": "3yhJbNp-u_9t"
      },
      "source": [
        "정렬된 새로운 순차 자료형을 반환한다. "
      ]
    },
    {
      "cell_type": "code",
      "metadata": {
        "colab": {
          "base_uri": "https://localhost:8080/"
        },
        "id": "FVAMYD7bu1mJ",
        "outputId": "828a5339-b686-4a02-da5e-8a40ece34ef0"
      },
      "source": [
        "sorted('programming seminar')"
      ],
      "execution_count": null,
      "outputs": [
        {
          "output_type": "execute_result",
          "data": {
            "text/plain": [
              "[' ',\n",
              " 'a',\n",
              " 'a',\n",
              " 'e',\n",
              " 'g',\n",
              " 'g',\n",
              " 'i',\n",
              " 'i',\n",
              " 'm',\n",
              " 'm',\n",
              " 'm',\n",
              " 'n',\n",
              " 'n',\n",
              " 'o',\n",
              " 'p',\n",
              " 'r',\n",
              " 'r',\n",
              " 'r',\n",
              " 's']"
            ]
          },
          "metadata": {
            "tags": []
          },
          "execution_count": 38
        }
      ]
    },
    {
      "cell_type": "markdown",
      "metadata": {
        "id": "d3bj8yBWvD6e"
      },
      "source": [
        "**zip**"
      ]
    },
    {
      "cell_type": "markdown",
      "metadata": {
        "id": "xElDl7bYvKrt"
      },
      "source": [
        "동일한 개수로 이루어진 자료형을 묶어준다. 여러 개의 순차 자료형을 입력받을 수 있으며 반환되는 리스트의 크기는 가장 짧은 크기로 정해진다. 여러 개의 순차 자료형을 동시에 순회하는 경우에 주로 사용되며, zip을 통해서 반대의 경우로 변환할 수 있다. "
      ]
    },
    {
      "cell_type": "code",
      "metadata": {
        "colab": {
          "base_uri": "https://localhost:8080/"
        },
        "id": "UtSmftSEvDr5",
        "outputId": "0e66a4f0-4e50-4361-8e8b-9d9db9626598"
      },
      "source": [
        "pitchers = [('Kim', 'Jieun'), ('웨스', '맥키니'),\r\n",
        "            ('메건', '블란쳇')]\r\n",
        "first_names, last_names = zip(*pitchers)\r\n",
        "first_names"
      ],
      "execution_count": null,
      "outputs": [
        {
          "output_type": "execute_result",
          "data": {
            "text/plain": [
              "('Kim', '웨스', '메건')"
            ]
          },
          "metadata": {
            "tags": []
          },
          "execution_count": 39
        }
      ]
    },
    {
      "cell_type": "markdown",
      "metadata": {
        "id": "5KmblocA7JHJ"
      },
      "source": [
        "### **3.1.4 사전**"
      ]
    },
    {
      "cell_type": "markdown",
      "metadata": {
        "id": "0PdCwZTa7Pjh"
      },
      "source": [
        "유연한 크기를 가지는 키-값 쌍이며 키와 값은 모두 파이썬 객체이다. 인덱스를 통해서 값에 접근할 수 있으며 리스트나 튜플과 동일한 문법으로 키 값의 존재 여부를 확인할 수 있다. 각각 키와 값이 담긴 이터레이터를 반환하며 반환하는 리스트는 같은 순서를 가진다. "
      ]
    },
    {
      "cell_type": "code",
      "metadata": {
        "colab": {
          "base_uri": "https://localhost:8080/"
        },
        "id": "tvJwbBZD7mUN",
        "outputId": "b56e53d5-9384-492f-d2cc-02fbc251db06"
      },
      "source": [
        "empty_dict = {}\r\n",
        "d1 = {'a' : 'some value', 'b' : [1, 2, 3, 4]}\r\n",
        "d1"
      ],
      "execution_count": null,
      "outputs": [
        {
          "output_type": "execute_result",
          "data": {
            "text/plain": [
              "{'a': 'some value', 'b': [1, 2, 3, 4]}"
            ]
          },
          "metadata": {
            "tags": []
          },
          "execution_count": 45
        }
      ]
    },
    {
      "cell_type": "code",
      "metadata": {
        "colab": {
          "base_uri": "https://localhost:8080/"
        },
        "id": "8PxpwNqH7sjD",
        "outputId": "240dc63f-2a94-4f7a-e245-fc75be59e95d"
      },
      "source": [
        "d1[7] = 'an integer'\r\n",
        "d1"
      ],
      "execution_count": null,
      "outputs": [
        {
          "output_type": "execute_result",
          "data": {
            "text/plain": [
              "{7: 'an integer', 'a': 'some value', 'b': [1, 2, 3, 4]}"
            ]
          },
          "metadata": {
            "tags": []
          },
          "execution_count": 46
        }
      ]
    },
    {
      "cell_type": "code",
      "metadata": {
        "colab": {
          "base_uri": "https://localhost:8080/"
        },
        "id": "dLdX0Y5H73X1",
        "outputId": "f8f5fd08-b358-46c6-bf6e-4d1220274ad3"
      },
      "source": [
        "# del 명령어를 통해서 사전의 값을 삭제할 수 있다. \r\n",
        "del d1['a']\r\n",
        "d1"
      ],
      "execution_count": null,
      "outputs": [
        {
          "output_type": "execute_result",
          "data": {
            "text/plain": [
              "{7: 'an integer', 'b': [1, 2, 3, 4]}"
            ]
          },
          "metadata": {
            "tags": []
          },
          "execution_count": 47
        }
      ]
    },
    {
      "cell_type": "markdown",
      "metadata": {
        "id": "omVrFNPp8LRE"
      },
      "source": [
        "**순차 자료형에서 사전 생성하기**"
      ]
    },
    {
      "cell_type": "code",
      "metadata": {
        "colab": {
          "base_uri": "https://localhost:8080/"
        },
        "id": "xmLiMMoz8UXl",
        "outputId": "80856c73-0584-4cdd-db1f-e4b4b76042d6"
      },
      "source": [
        "# dict 함수가 2개의 튜플 리스트를 인자로 받아 사전을 형성할 수 있다. \r\n",
        "mapping = dict(zip(range(5), reversed(range(5))))\r\n",
        "mapping"
      ],
      "execution_count": null,
      "outputs": [
        {
          "output_type": "execute_result",
          "data": {
            "text/plain": [
              "{0: 4, 1: 3, 2: 2, 3: 1, 4: 0}"
            ]
          },
          "metadata": {
            "tags": []
          },
          "execution_count": 48
        }
      ]
    },
    {
      "cell_type": "markdown",
      "metadata": {
        "id": "nAxuMKPW8lQw"
      },
      "source": [
        "**기본값**"
      ]
    },
    {
      "cell_type": "code",
      "metadata": {
        "id": "m5F90OvN8ndk"
      },
      "source": [
        ""
      ],
      "execution_count": null,
      "outputs": []
    },
    {
      "cell_type": "markdown",
      "metadata": {
        "id": "D4m8FbMA8mtJ"
      },
      "source": [
        ""
      ]
    },
    {
      "cell_type": "markdown",
      "metadata": {
        "id": "T9rV-fphA6KK"
      },
      "source": [
        "### **3.1.5 집합**"
      ]
    },
    {
      "cell_type": "markdown",
      "metadata": {
        "id": "MlfkEaLDA_jm"
      },
      "source": [
        "유일한 원소만 담는 정렬되지 않은 자료형이다. set 함수나 {}를 통해서 생성하며, 생성된 결과값은 유니크한 값만 남는다. union, intersection 함수를 통해서 집합 연산을 적용할 수 있다. 사전과 마찬가지로 원소들을 변경할 수 없으며, 튜플 형식으로 변경하여 원소를 담아야한다.  "
      ]
    },
    {
      "cell_type": "code",
      "metadata": {
        "colab": {
          "base_uri": "https://localhost:8080/"
        },
        "id": "wwzsoaq8BL3H",
        "outputId": "9cb44e98-6347-40e6-8c76-5621e228b619"
      },
      "source": [
        "set([2, 2, 2, 1, 3, 3])"
      ],
      "execution_count": null,
      "outputs": [
        {
          "output_type": "execute_result",
          "data": {
            "text/plain": [
              "{1, 2, 3}"
            ]
          },
          "metadata": {
            "tags": []
          },
          "execution_count": 49
        }
      ]
    },
    {
      "cell_type": "code",
      "metadata": {
        "id": "LZutCBWMBV3f"
      },
      "source": [
        "a = {1, 2, 3, 4, 5}\r\n",
        "b = {3, 4, 5, 6, 7, 8}"
      ],
      "execution_count": null,
      "outputs": []
    },
    {
      "cell_type": "code",
      "metadata": {
        "colab": {
          "base_uri": "https://localhost:8080/"
        },
        "id": "JPjQ1m6CBZ0-",
        "outputId": "720718cb-830e-4c70-8267-bbaafbb794f0"
      },
      "source": [
        "a.intersection(b)"
      ],
      "execution_count": null,
      "outputs": [
        {
          "output_type": "execute_result",
          "data": {
            "text/plain": [
              "{3, 4, 5}"
            ]
          },
          "metadata": {
            "tags": []
          },
          "execution_count": 51
        }
      ]
    },
    {
      "cell_type": "markdown",
      "metadata": {
        "id": "2QCzxwU5BvIf"
      },
      "source": [
        "### **3.1.6 리스트, 집합, 사전 표기법** "
      ]
    },
    {
      "cell_type": "markdown",
      "metadata": {
        "id": "e61K1HVeB0cH"
      },
      "source": [
        "리스트 표기법을 통해 반복문을 사용하지 않은 간결한 표현을 만들 수 있다. "
      ]
    },
    {
      "cell_type": "code",
      "metadata": {
        "colab": {
          "base_uri": "https://localhost:8080/"
        },
        "id": "xI1zNF6jB8UV",
        "outputId": "c8329514-cb70-423b-e65a-3ec7385a2c37"
      },
      "source": [
        "strings = ['a', 'as', 'bat', 'car', 'dove', 'python']\r\n",
        "[x.upper() for x in strings if len(x) > 2]"
      ],
      "execution_count": null,
      "outputs": [
        {
          "output_type": "execute_result",
          "data": {
            "text/plain": [
              "['BAT', 'CAR', 'DOVE', 'PYTHON']"
            ]
          },
          "metadata": {
            "tags": []
          },
          "execution_count": 52
        }
      ]
    },
    {
      "cell_type": "code",
      "metadata": {
        "colab": {
          "base_uri": "https://localhost:8080/"
        },
        "id": "s7ai1f76CA5L",
        "outputId": "c82e1bd3-a47f-43b6-c5ea-b5f825b35b2e"
      },
      "source": [
        "# 반복문일 경우\r\n",
        "result = []\r\n",
        "\r\n",
        "for x in strings:\r\n",
        "  if len(x)>2:\r\n",
        "    result.append(x.upper())\r\n",
        "\r\n",
        "result"
      ],
      "execution_count": null,
      "outputs": [
        {
          "output_type": "execute_result",
          "data": {
            "text/plain": [
              "['BAT', 'CAR', 'DOVE', 'PYTHON']"
            ]
          },
          "metadata": {
            "tags": []
          },
          "execution_count": 54
        }
      ]
    },
    {
      "cell_type": "markdown",
      "metadata": {
        "id": "Lp_x0yUJCeVa"
      },
      "source": [
        "**중첩된 리스트 표기법**"
      ]
    },
    {
      "cell_type": "code",
      "metadata": {
        "colab": {
          "base_uri": "https://localhost:8080/"
        },
        "id": "IEBOKjgRChfy",
        "outputId": "9b251d9a-7f0d-4b15-d840-467291705376"
      },
      "source": [
        "# 이름값 데이터에서 e가 2개 이상 포함된 이름을 구하고 싶은 경우에 대한 예시이다. \r\n",
        "\r\n",
        "all_data = [['John', 'Emily', 'Michael', 'Mary', 'Steven'],\r\n",
        "            ['Maria', 'Juan', 'Javier', 'Natalia', 'Pilar']]\r\n",
        "\r\n",
        "# count 메소드를 통해서 단일 문장으로 표현할 수 있다. \r\n",
        "result = [name for names in all_data for name in names if name.count('e') >= 2]\r\n",
        "result"
      ],
      "execution_count": null,
      "outputs": [
        {
          "output_type": "execute_result",
          "data": {
            "text/plain": [
              "['Steven']"
            ]
          },
          "metadata": {
            "tags": []
          },
          "execution_count": 55
        }
      ]
    },
    {
      "cell_type": "markdown",
      "metadata": {
        "id": "QJsbX4F-C9tm"
      },
      "source": [
        "## **3.2 함수**"
      ]
    },
    {
      "cell_type": "markdown",
      "metadata": {
        "id": "J-9g4PKdDCsp"
      },
      "source": [
        "def 예약어로 정의하고 return 예약어를 사용해서 값을 반환한다. 여러개의 인자를 인풋값으로 받을 수 있으며 return 문도 여러개 사용 가능하다. "
      ]
    },
    {
      "cell_type": "markdown",
      "metadata": {
        "id": "hqlHouVfDQEV"
      },
      "source": [
        "### **3.2.1 네임스페이스, 스코프, 지역함수**"
      ]
    },
    {
      "cell_type": "markdown",
      "metadata": {
        "id": "B9v90ZBxDVfe"
      },
      "source": [
        "함수는 전역, 지역 변수를 참조한다. 함수 내에서 선언된 경우 지역 네임스페이스에 속하고 함수가 호출될 때 생성되며, 실행이 끝나면 사라진다. 함수의 스코프 밖의 변수(전역변수)에 값을 대입하기 위해선 global 옵션을 사용해야한다. "
      ]
    },
    {
      "cell_type": "code",
      "metadata": {
        "colab": {
          "base_uri": "https://localhost:8080/"
        },
        "id": "ua_FbIeIDCKk",
        "outputId": "eb847275-addd-4e94-94de-a5a4a92b6fa4"
      },
      "source": [
        "# 함수 밖에서 정의된 변수 a\r\n",
        "a = None\r\n",
        "\r\n",
        "def bind_a_variable():\r\n",
        "    global a\r\n",
        "    a = []\r\n",
        "bind_a_variable()\r\n",
        "print(a)"
      ],
      "execution_count": null,
      "outputs": [
        {
          "output_type": "stream",
          "text": [
            "[]\n"
          ],
          "name": "stdout"
        }
      ]
    },
    {
      "cell_type": "markdown",
      "metadata": {
        "id": "oTVGe1MiERTI"
      },
      "source": [
        "### **3.2.2 여러 값 반환하기**"
      ]
    },
    {
      "cell_type": "code",
      "metadata": {
        "id": "aHAwotOeD5cJ"
      },
      "source": [
        "# 여러 값 반환 \r\n",
        "\r\n",
        "def fun():\r\n",
        "  a = 5\r\n",
        "  b = 7\r\n",
        "  c = 3\r\n",
        "  return a, b, c\r\n",
        "\r\n",
        "a, b, c = fun()"
      ],
      "execution_count": null,
      "outputs": []
    },
    {
      "cell_type": "code",
      "metadata": {
        "colab": {
          "base_uri": "https://localhost:8080/"
        },
        "id": "Xe1QNE9WEGuU",
        "outputId": "7bc0dc4c-79df-479e-d927-537348c682d6"
      },
      "source": [
        "a, b, c"
      ],
      "execution_count": null,
      "outputs": [
        {
          "output_type": "execute_result",
          "data": {
            "text/plain": [
              "(5, 7, 3)"
            ]
          },
          "metadata": {
            "tags": []
          },
          "execution_count": 58
        }
      ]
    },
    {
      "cell_type": "markdown",
      "metadata": {
        "id": "GmtQTrCoEJwB"
      },
      "source": [
        "### **3.2.3 함수도 객체다** "
      ]
    },
    {
      "cell_type": "markdown",
      "metadata": {
        "id": "roGTCi10EXQS"
      },
      "source": [
        "데이터가 원하는 형태로 되어있지 않아서 전처리를 해야하는 경우 정규 표현식과 메서드를 이용해서 쉽게 처리가능하다. re 표준 라이브러리를 사용하며, 특수기호 및 문장 부호 들을 제거하여 사용할 수 있다. "
      ]
    },
    {
      "cell_type": "code",
      "metadata": {
        "id": "ivu61O_nEUwJ"
      },
      "source": [
        "# 전처리를 위한 함수 clean_strings\r\n",
        "import re\r\n",
        "\r\n",
        "def clean_strings(strings):\r\n",
        "    result = []\r\n",
        "    for value in strings:\r\n",
        "        value = value.strip()\r\n",
        "        value = re.sub('[!#?]', '', value)\r\n",
        "        value = value.title()\r\n",
        "        result.append(value)\r\n",
        "    return result"
      ],
      "execution_count": null,
      "outputs": []
    },
    {
      "cell_type": "code",
      "metadata": {
        "id": "ieDbOmc1EtJB"
      },
      "source": [
        "states = ['Alabama ', 'Georgia!', 'Georgia', 'georgia', 'FlOrIda', 'south   carolina##', 'West virginia?']"
      ],
      "execution_count": null,
      "outputs": []
    },
    {
      "cell_type": "code",
      "metadata": {
        "colab": {
          "base_uri": "https://localhost:8080/"
        },
        "id": "U0lE8K78Ewxk",
        "outputId": "ad477d82-05bb-469b-979a-0186422eab96"
      },
      "source": [
        "clean_strings(states)"
      ],
      "execution_count": null,
      "outputs": [
        {
          "output_type": "execute_result",
          "data": {
            "text/plain": [
              "['Alabama',\n",
              " 'Georgia',\n",
              " 'Georgia',\n",
              " 'Georgia',\n",
              " 'Florida',\n",
              " 'South   Carolina',\n",
              " 'West Virginia']"
            ]
          },
          "metadata": {
            "tags": []
          },
          "execution_count": 61
        }
      ]
    },
    {
      "cell_type": "markdown",
      "metadata": {
        "id": "DpAWnxh4E343"
      },
      "source": [
        "### **3.2.4 익명 함수**"
      ]
    },
    {
      "cell_type": "markdown",
      "metadata": {
        "id": "s47qv8UcE_Gj"
      },
      "source": [
        "람다 함수는 함수지만 기존의 함수 선언 문법과 달리 함수를 정의하지 않고도 사용할 수 있는 함수이다. 함수의 이름을 정의하지 않고 람다로 만든 함수를 변수에 할당하여 사용할 수 있다. "
      ]
    },
    {
      "cell_type": "code",
      "metadata": {
        "id": "uzx1bIt7FiZj"
      },
      "source": [
        "strings = ['foo', 'card', 'bar', 'aaaa', 'abab']"
      ],
      "execution_count": null,
      "outputs": []
    },
    {
      "cell_type": "code",
      "metadata": {
        "colab": {
          "base_uri": "https://localhost:8080/"
        },
        "id": "dOwpx6B1Fk-T",
        "outputId": "248e68f5-f134-4072-dea6-10fcaa26fda0"
      },
      "source": [
        "# 다양한 문자를 가진 순서대로 정렬하는 경우이다. \r\n",
        "strings.sort(key = lambda x: len(set(list(x))))\r\n",
        "strings\r\n",
        "\r\n",
        "# key 인자에 함수를 넘겨줘 반환 값을 비교하며 순서대로 정렬한다. "
      ],
      "execution_count": null,
      "outputs": [
        {
          "output_type": "execute_result",
          "data": {
            "text/plain": [
              "['aaaa', 'foo', 'abab', 'bar', 'card']"
            ]
          },
          "metadata": {
            "tags": []
          },
          "execution_count": 63
        }
      ]
    },
    {
      "cell_type": "code",
      "metadata": {
        "colab": {
          "base_uri": "https://localhost:8080/"
        },
        "id": "Q_B45iAkGKm4",
        "outputId": "b6a5b398-2489-4217-b39a-791dd022be29"
      },
      "source": [
        "len(set(list(strings)))"
      ],
      "execution_count": null,
      "outputs": [
        {
          "output_type": "execute_result",
          "data": {
            "text/plain": [
              "5"
            ]
          },
          "metadata": {
            "tags": []
          },
          "execution_count": 64
        }
      ]
    },
    {
      "cell_type": "markdown",
      "metadata": {
        "id": "pQBUI6UqGw5I"
      },
      "source": [
        "### **3.2.5 커링: 일부 인자만 취하기**"
      ]
    },
    {
      "cell_type": "markdown",
      "metadata": {
        "id": "lTzeD2JfG-Ek"
      },
      "source": [
        "숫자 2개를 더하는 함수의 경우 일부 문자인 1개의 문자만을 추가로 받아 더하는 기법이다. "
      ]
    },
    {
      "cell_type": "code",
      "metadata": {
        "id": "BwzCHGt_HE5Q"
      },
      "source": [
        "def add_numbers(x, y): \r\n",
        "  return x + y\r\n",
        "\r\n",
        "add_five = lambda y: add_numbers(5, y)"
      ],
      "execution_count": null,
      "outputs": []
    },
    {
      "cell_type": "code",
      "metadata": {
        "colab": {
          "base_uri": "https://localhost:8080/"
        },
        "id": "HujZl-QDHKZG",
        "outputId": "47279ee5-7946-4c11-d29e-a1171cb48793"
      },
      "source": [
        "add_five(3)"
      ],
      "execution_count": null,
      "outputs": [
        {
          "output_type": "execute_result",
          "data": {
            "text/plain": [
              "8"
            ]
          },
          "metadata": {
            "tags": []
          },
          "execution_count": 66
        }
      ]
    },
    {
      "cell_type": "markdown",
      "metadata": {
        "id": "JGfD9m-5HP05"
      },
      "source": [
        "### **3.2.6 제너레이터**"
      ]
    },
    {
      "cell_type": "markdown",
      "metadata": {
        "id": "ViHAS1NWKyUG"
      },
      "source": [
        "이터레이터를 생성하는 함수로 순회가능한 객체를 생성할 수 있다. 무한한 순서가 있는 객체를 모델링할 수 있으며 내부 로컬 변수를 통해 내부 상태가 유지되는 것이 특징이다. 제너레이터로부터 값을 요청하는 순간 제너레이터의 코드가 실행된다. "
      ]
    },
    {
      "cell_type": "code",
      "metadata": {
        "colab": {
          "base_uri": "https://localhost:8080/"
        },
        "id": "GkL805ssLAqF",
        "outputId": "128d5374-c299-4c3c-88cd-d0a15b6d71c4"
      },
      "source": [
        "some_dict = {'a': 1, 'b': 2, 'c': 3}\r\n",
        "for key in some_dict:\r\n",
        "    print(key)"
      ],
      "execution_count": null,
      "outputs": [
        {
          "output_type": "stream",
          "text": [
            "a\n",
            "b\n",
            "c\n"
          ],
          "name": "stdout"
        }
      ]
    },
    {
      "cell_type": "code",
      "metadata": {
        "colab": {
          "base_uri": "https://localhost:8080/"
        },
        "id": "z-7rE3KwLHMM",
        "outputId": "a5549d8a-dd0a-4bc6-831b-7dbfbd59ac1d"
      },
      "source": [
        "dict_iterator = iter(some_dict)\r\n",
        "list(dict_iterator)"
      ],
      "execution_count": null,
      "outputs": [
        {
          "output_type": "execute_result",
          "data": {
            "text/plain": [
              "['a', 'b', 'c']"
            ]
          },
          "metadata": {
            "tags": []
          },
          "execution_count": 69
        }
      ]
    },
    {
      "cell_type": "code",
      "metadata": {
        "colab": {
          "base_uri": "https://localhost:8080/"
        },
        "id": "i__5nNvULgQl",
        "outputId": "c4d350b2-cde7-49b1-ed06-86a0598fb4e5"
      },
      "source": [
        "# 제너레이터를 생성하기 위해 return 대신 yield 예약어를 사용한다. \r\n",
        "def squares(n=10):\r\n",
        "    print('Generating squares from 1 to {0}'.format(n ** 2))\r\n",
        "    for i in range(1, n + 1):\r\n",
        "        yield i ** 2\r\n",
        "\r\n",
        "gen = squares()\r\n",
        "for x in gen:\r\n",
        "    print(x, end=' ')"
      ],
      "execution_count": null,
      "outputs": [
        {
          "output_type": "stream",
          "text": [
            "Generating squares from 1 to 100\n",
            "1 4 9 16 25 36 49 64 81 100 "
          ],
          "name": "stdout"
        }
      ]
    },
    {
      "cell_type": "markdown",
      "metadata": {
        "id": "QoUNymIbL0qb"
      },
      "source": [
        "**제너레이터 표현식**"
      ]
    },
    {
      "cell_type": "markdown",
      "metadata": {
        "id": "RCANvcNBL7jN"
      },
      "source": [
        "괄호를 통해 제너레이터를 표현식으로 생성할 수 있다. 이를 통해 더욱 간단하게 표현 가능하다. "
      ]
    },
    {
      "cell_type": "code",
      "metadata": {
        "colab": {
          "base_uri": "https://localhost:8080/"
        },
        "id": "YkWpdTxVMC0t",
        "outputId": "81ccc490-b31b-4061-ca62-8db86b3f3a13"
      },
      "source": [
        "gen = (x ** 2 for x in range(100))\r\n",
        "gen"
      ],
      "execution_count": null,
      "outputs": [
        {
          "output_type": "execute_result",
          "data": {
            "text/plain": [
              "<generator object <genexpr> at 0x7f72091b6a40>"
            ]
          },
          "metadata": {
            "tags": []
          },
          "execution_count": 71
        }
      ]
    },
    {
      "cell_type": "code",
      "metadata": {
        "id": "-y97PIT0MGL0"
      },
      "source": [
        "# 표현식이 아닌 기본 함수로 나타낸 제너레이터이다. \r\n",
        "def make_gen(): \r\n",
        "  for x in range(100): \r\n",
        "    yield x ** 2 \r\n",
        "    \r\n",
        "gen = make_gen()"
      ],
      "execution_count": null,
      "outputs": []
    },
    {
      "cell_type": "markdown",
      "metadata": {
        "id": "o9-qbq5sL7J_"
      },
      "source": [
        "**itertools 모듈**"
      ]
    },
    {
      "cell_type": "markdown",
      "metadata": {
        "id": "aAfep4R8MWoD"
      },
      "source": [
        "모듈을 통해 사용 가능하며 combinations, permutations 등의 많은 함수를 포함하고 있다. "
      ]
    },
    {
      "cell_type": "code",
      "metadata": {
        "colab": {
          "base_uri": "https://localhost:8080/"
        },
        "id": "vhctTg78L6u9",
        "outputId": "933a05ae-255f-4e22-bf15-d0fa506aaf47"
      },
      "source": [
        "# 첫번째 문자를 기준으로 그룹화를 실시하는 코드이다. \r\n",
        "import itertools\r\n",
        "\r\n",
        "first_letter = lambda x: x[0]\r\n",
        "names = ['Alan', 'Adam', 'Wes', 'Will', 'Albert', 'Steven']\r\n",
        "for letter, names in itertools.groupby(names, first_letter):\r\n",
        "    print(letter, list(names))"
      ],
      "execution_count": null,
      "outputs": [
        {
          "output_type": "stream",
          "text": [
            "A ['Alan', 'Adam']\n",
            "W ['Wes', 'Will']\n",
            "A ['Albert']\n",
            "S ['Steven']\n"
          ],
          "name": "stdout"
        }
      ]
    },
    {
      "cell_type": "markdown",
      "metadata": {
        "id": "5Laz9V7hMwjl"
      },
      "source": [
        "### **3.2.7 에러와 예외 처리**"
      ]
    },
    {
      "cell_type": "markdown",
      "metadata": {
        "id": "ayUbfS7HM1tA"
      },
      "source": [
        "try/except 블록을 사용하여 적절하지 않은 입력에 대한 처리를 실시한다. 발생하는 오류 중 TypeError는 정당한 오류이며 그 외에 무시하고자하는 에러를 예외의 종류로 작성한다. 이 때 튜플을 사용하여 여러 예외를 한 번에 적용할 수 있다. "
      ]
    },
    {
      "cell_type": "markdown",
      "metadata": {
        "id": "JXgsHDohNSMj"
      },
      "source": [
        "**IPython에서 예외 처리**"
      ]
    },
    {
      "cell_type": "markdown",
      "metadata": {
        "id": "fBALAkvENXoi"
      },
      "source": [
        "%run을 사용해서 실행시킬 경우 주변 코드가 함께 출력되어 문제가 되는 부분을 확인할 수 있다. 이를 통해서 발생하는 에러의 종류를 확인하고 코드 수정 및 예외처리가 가능해진다. 더욱 자세하게 보기 위해서는 %xmode 매직 명령어를 사용하여 해결할 수 있다."
      ]
    },
    {
      "cell_type": "markdown",
      "metadata": {
        "id": "wGIt_v1TLAMY"
      },
      "source": [
        ""
      ]
    },
    {
      "cell_type": "markdown",
      "metadata": {
        "id": "ABbDyg2QD5Kc"
      },
      "source": [
        "## **3.3 파일과 운영체제**"
      ]
    },
    {
      "cell_type": "markdown",
      "metadata": {
        "id": "VMH_kM3tOUak"
      },
      "source": [
        "open 함수를 사용해서 저장된 파일을 읽을 수 있다. 옵션을 지정하여 파일을 읽는 용도로만 읽거나 W를 통해 쓰기 모드로 지정할 수도 있다. 또한 read, seek, tell 메서드를 사용하여 읽을 수 있다. \r\n",
        "\r\n",
        "\r\n",
        "*   read: 읽은 바이트만큼 파일 핸들의 위치를 옮긴다. \r\n",
        "*   tell: 현재 위치를 알려준다\r\n",
        "*   seek: 파일 핸들의 위치를 해당 파일에서 지정한 바이트 위치로 옮긴다. \r\n",
        "\r\n"
      ]
    },
    {
      "cell_type": "code",
      "metadata": {
        "id": "NvvN7bw7OfoD"
      },
      "source": [
        "path = '/content/paperseminar.csv'\r\n",
        "f = open(path)"
      ],
      "execution_count": null,
      "outputs": []
    },
    {
      "cell_type": "code",
      "metadata": {
        "colab": {
          "base_uri": "https://localhost:8080/"
        },
        "id": "Hhxje40UOqJo",
        "outputId": "1773f761-6328-46ac-814b-fbda9893f6d7"
      },
      "source": [
        "lines = [x.rstrip() for x in open(path)]\r\n",
        "lines"
      ],
      "execution_count": null,
      "outputs": [
        {
          "output_type": "execute_result",
          "data": {
            "text/plain": [
              "['Truong, C., Oudre, L., & Vayatis, N. (2020). Selective review of offline change point detection methods. Signal Processing, 167, 107299.',\n",
              " 'van den Burg, G. J., & Williams, C. K. (2020). An Evaluation of Change Point Detection Algorithms. arXiv preprint arXiv:2003.06222.',\n",
              " '',\n",
              " '1. (ICLR2021) DOSOVITSKIY, Alexey, et al. An image is worth 16x16 words: Transformers for image recognition at scale. arXiv preprint arXiv:2010.11929, 2020.',\n",
              " '2. (NIPS) VASWANI, Ashish, et al. Attention is all you need. In: Advances in neural information processing systems. 2017. p. 5998-6008.\"',\n",
              " '',\n",
              " 'Main: Smith, Kaleb E., and Anthony O. Smith. \"\"Conditional GAN for timeseries generation.\"\" arXiv preprint arXiv:2006.16477 (2020).',\n",
              " 'Reference 1: T-CGAN: Conditional Generative Adversarial Network for Data Augmentation in Noisy Time Series with Irregular Sampling',\n",
              " '']"
            ]
          },
          "metadata": {
            "tags": []
          },
          "execution_count": 78
        }
      ]
    },
    {
      "cell_type": "code",
      "metadata": {
        "id": "FtcaLd-FPMlx"
      },
      "source": [
        "f.close()"
      ],
      "execution_count": null,
      "outputs": []
    },
    {
      "cell_type": "code",
      "metadata": {
        "colab": {
          "base_uri": "https://localhost:8080/",
          "height": 35
        },
        "id": "NiYn9SQBPsnn",
        "outputId": "2a79a75e-f93c-46ba-fda0-3809056369e5"
      },
      "source": [
        "# 시스템 상의 기본 인코딩을 확인할 수 있다. \r\n",
        "\r\n",
        "import sys\r\n",
        "sys.getdefaultencoding()"
      ],
      "execution_count": null,
      "outputs": [
        {
          "output_type": "execute_result",
          "data": {
            "application/vnd.google.colaboratory.intrinsic+json": {
              "type": "string"
            },
            "text/plain": [
              "'utf-8'"
            ]
          },
          "metadata": {
            "tags": []
          },
          "execution_count": 80
        }
      ]
    },
    {
      "cell_type": "markdown",
      "metadata": {
        "id": "_V6AeZcRQHrY"
      },
      "source": [
        "### **3.3.1 바이트와 유니코드** "
      ]
    },
    {
      "cell_type": "markdown",
      "metadata": {
        "id": "JjwHFmWhQSxp"
      },
      "source": [
        "파이썬의 경우 필요한 바이트만큼 읽고 디코딩을 실시한다. 만일 특정 바이트 수를 지정할 경우 해당 범위의 값만 읽어들인다. 유니코드 문자로 인코딩 되어있을 경우 str 객체로 직접 디코딩할 수 있다. \r\n",
        "\r\n",
        "파이썬에서는 유니코드 문자열 형태를 기준으로 문자 단위의 처리를 실시한다. 특히 한글을 처리할 경우 유니코드 문자열을 사용하면, 데이터의 깨짐 없이 사용할 수 있다. 문자열 앞에 [u] 혹은 [U]를 붙이거나 unicode 함수를 사용하면 유니코드 문자열이 된다. \r\n",
        "\r\n",
        "(참고) https://ponyozzang.tistory.com/258"
      ]
    },
    {
      "cell_type": "code",
      "metadata": {
        "colab": {
          "base_uri": "https://localhost:8080/",
          "height": 35
        },
        "id": "7iZDyRSIQgpE",
        "outputId": "63e5b197-d858-4b3e-f382-d39a8988818f"
      },
      "source": [
        "with open(path) as f:\r\n",
        "    chars = f.read(10)\r\n",
        "    \r\n",
        "chars"
      ],
      "execution_count": null,
      "outputs": [
        {
          "output_type": "execute_result",
          "data": {
            "application/vnd.google.colaboratory.intrinsic+json": {
              "type": "string"
            },
            "text/plain": [
              "'Truong, C.'"
            ]
          },
          "metadata": {
            "tags": []
          },
          "execution_count": 81
        }
      ]
    }
  ]
}